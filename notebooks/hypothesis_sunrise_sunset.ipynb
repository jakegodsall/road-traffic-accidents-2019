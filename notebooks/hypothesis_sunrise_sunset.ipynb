{
 "cells": [
  {
   "cell_type": "markdown",
   "id": "050b0a41",
   "metadata": {},
   "source": [
    "# Sunrise Sunset Hypothesis\n",
    "\n",
    "### Is there more accidents at the same time of day during periods of the year after which the sun has gone down compared to when it is still light?"
   ]
  },
  {
   "cell_type": "markdown",
   "id": "a94229db",
   "metadata": {},
   "source": [
    "## Packages\n",
    "Importing all necessary packages to run the notebook"
   ]
  },
  {
   "cell_type": "code",
   "execution_count": 2,
   "id": "68516c83",
   "metadata": {},
   "outputs": [],
   "source": [
    "from pathlib import Path\n",
    "import numpy as np\n",
    "import pandas as pd\n",
    "import datetime\n",
    "\n",
    "import matplotlib.pyplot as plt\n",
    "import matplotlib.dates as mdates"
   ]
  },
  {
   "cell_type": "markdown",
   "id": "310a3879",
   "metadata": {},
   "source": [
    "## Directory navigation and creation\n",
    "Creating pathlib.Path objects for cross-platform navigation and loading the three datasets into pandas DataFrame objects\n",
    "\n",
    "**Note:** here we import the cleaned accidents.pkl file"
   ]
  },
  {
   "cell_type": "code",
   "execution_count": 5,
   "id": "ae6c00b9",
   "metadata": {},
   "outputs": [
    {
     "name": "stdout",
     "output_type": "stream",
     "text": [
      "/Volumes/GoogleDrive/My Drive/Dev/TrafficAccidents/data/accidents2019.csv\n",
      "/Volumes/GoogleDrive/My Drive/Dev/TrafficAccidents/data/casualties2019.csv\n",
      "/Volumes/GoogleDrive/My Drive/Dev/TrafficAccidents/data/vehicles2019.csv\n"
     ]
    },
    {
     "data": {
      "text/html": [
       "<div>\n",
       "<style scoped>\n",
       "    .dataframe tbody tr th:only-of-type {\n",
       "        vertical-align: middle;\n",
       "    }\n",
       "\n",
       "    .dataframe tbody tr th {\n",
       "        vertical-align: top;\n",
       "    }\n",
       "\n",
       "    .dataframe thead th {\n",
       "        text-align: right;\n",
       "    }\n",
       "</style>\n",
       "<table border=\"1\" class=\"dataframe\">\n",
       "  <thead>\n",
       "    <tr style=\"text-align: right;\">\n",
       "      <th></th>\n",
       "      <th>accident_index</th>\n",
       "      <th>longitude</th>\n",
       "      <th>latitude</th>\n",
       "      <th>police_force</th>\n",
       "      <th>accident_severity</th>\n",
       "      <th>number_of_vehicles</th>\n",
       "      <th>number_of_casualties</th>\n",
       "      <th>day_of_week</th>\n",
       "      <th>local_authority_(district)</th>\n",
       "      <th>local_authority_(highway)</th>\n",
       "      <th>...</th>\n",
       "      <th>lsoa_of_accident_location</th>\n",
       "      <th>district</th>\n",
       "      <th>converted_date</th>\n",
       "      <th>converted_time</th>\n",
       "      <th>sunrise</th>\n",
       "      <th>sunset</th>\n",
       "      <th>day_length</th>\n",
       "      <th>datetime</th>\n",
       "      <th>decimal_time</th>\n",
       "      <th>day_of_year</th>\n",
       "    </tr>\n",
       "  </thead>\n",
       "  <tbody>\n",
       "    <tr>\n",
       "      <th>0</th>\n",
       "      <td>2019010128300</td>\n",
       "      <td>-0.153842</td>\n",
       "      <td>51.508057</td>\n",
       "      <td>1</td>\n",
       "      <td>3</td>\n",
       "      <td>2</td>\n",
       "      <td>3</td>\n",
       "      <td>2</td>\n",
       "      <td>1</td>\n",
       "      <td>E09000033</td>\n",
       "      <td>...</td>\n",
       "      <td>E01004762</td>\n",
       "      <td>westminster</td>\n",
       "      <td>2019-02-18</td>\n",
       "      <td>17:50:00</td>\n",
       "      <td>0 days 07:10:00</td>\n",
       "      <td>0 days 17:19:00</td>\n",
       "      <td>10:09:00</td>\n",
       "      <td>2019-02-18 17:50:00</td>\n",
       "      <td>17.833333</td>\n",
       "      <td>49</td>\n",
       "    </tr>\n",
       "    <tr>\n",
       "      <th>1</th>\n",
       "      <td>2019010164251</td>\n",
       "      <td>-0.141154</td>\n",
       "      <td>51.502191</td>\n",
       "      <td>1</td>\n",
       "      <td>3</td>\n",
       "      <td>1</td>\n",
       "      <td>2</td>\n",
       "      <td>2</td>\n",
       "      <td>1</td>\n",
       "      <td>E09000033</td>\n",
       "      <td>...</td>\n",
       "      <td>E01004736</td>\n",
       "      <td>westminster</td>\n",
       "      <td>2019-02-18</td>\n",
       "      <td>18:50:00</td>\n",
       "      <td>0 days 07:10:00</td>\n",
       "      <td>0 days 17:19:00</td>\n",
       "      <td>10:09:00</td>\n",
       "      <td>2019-02-18 18:50:00</td>\n",
       "      <td>18.833333</td>\n",
       "      <td>49</td>\n",
       "    </tr>\n",
       "    <tr>\n",
       "      <th>2</th>\n",
       "      <td>2019010164259</td>\n",
       "      <td>-0.174097</td>\n",
       "      <td>51.527663</td>\n",
       "      <td>1</td>\n",
       "      <td>3</td>\n",
       "      <td>2</td>\n",
       "      <td>1</td>\n",
       "      <td>2</td>\n",
       "      <td>1</td>\n",
       "      <td>E09000033</td>\n",
       "      <td>...</td>\n",
       "      <td>E01004728</td>\n",
       "      <td>westminster</td>\n",
       "      <td>2019-02-18</td>\n",
       "      <td>23:00:00</td>\n",
       "      <td>0 days 07:10:00</td>\n",
       "      <td>0 days 17:19:00</td>\n",
       "      <td>10:09:00</td>\n",
       "      <td>2019-02-18 23:00:00</td>\n",
       "      <td>23.000000</td>\n",
       "      <td>49</td>\n",
       "    </tr>\n",
       "    <tr>\n",
       "      <th>3</th>\n",
       "      <td>2019010164414</td>\n",
       "      <td>-0.163973</td>\n",
       "      <td>51.515931</td>\n",
       "      <td>1</td>\n",
       "      <td>3</td>\n",
       "      <td>2</td>\n",
       "      <td>1</td>\n",
       "      <td>2</td>\n",
       "      <td>1</td>\n",
       "      <td>E09000033</td>\n",
       "      <td>...</td>\n",
       "      <td>E01004658</td>\n",
       "      <td>westminster</td>\n",
       "      <td>2019-02-18</td>\n",
       "      <td>02:00:00</td>\n",
       "      <td>0 days 07:10:00</td>\n",
       "      <td>0 days 17:19:00</td>\n",
       "      <td>10:09:00</td>\n",
       "      <td>2019-02-18 02:00:00</td>\n",
       "      <td>2.000000</td>\n",
       "      <td>49</td>\n",
       "    </tr>\n",
       "    <tr>\n",
       "      <th>4</th>\n",
       "      <td>2019010164107</td>\n",
       "      <td>-0.103521</td>\n",
       "      <td>51.464277</td>\n",
       "      <td>1</td>\n",
       "      <td>3</td>\n",
       "      <td>1</td>\n",
       "      <td>1</td>\n",
       "      <td>2</td>\n",
       "      <td>9</td>\n",
       "      <td>E09000022</td>\n",
       "      <td>...</td>\n",
       "      <td>E01003051</td>\n",
       "      <td>lambeth</td>\n",
       "      <td>2019-02-18</td>\n",
       "      <td>08:00:00</td>\n",
       "      <td>0 days 07:10:00</td>\n",
       "      <td>0 days 17:19:00</td>\n",
       "      <td>10:09:00</td>\n",
       "      <td>2019-02-18 08:00:00</td>\n",
       "      <td>8.000000</td>\n",
       "      <td>49</td>\n",
       "    </tr>\n",
       "  </tbody>\n",
       "</table>\n",
       "<p>5 rows × 37 columns</p>\n",
       "</div>"
      ],
      "text/plain": [
       "  accident_index  longitude   latitude  police_force  accident_severity  \\\n",
       "0  2019010128300  -0.153842  51.508057             1                  3   \n",
       "1  2019010164251  -0.141154  51.502191             1                  3   \n",
       "2  2019010164259  -0.174097  51.527663             1                  3   \n",
       "3  2019010164414  -0.163973  51.515931             1                  3   \n",
       "4  2019010164107  -0.103521  51.464277             1                  3   \n",
       "\n",
       "   number_of_vehicles  number_of_casualties  day_of_week  \\\n",
       "0                   2                     3            2   \n",
       "1                   1                     2            2   \n",
       "2                   2                     1            2   \n",
       "3                   2                     1            2   \n",
       "4                   1                     1            2   \n",
       "\n",
       "   local_authority_(district) local_authority_(highway)  ...  \\\n",
       "0                           1                 E09000033  ...   \n",
       "1                           1                 E09000033  ...   \n",
       "2                           1                 E09000033  ...   \n",
       "3                           1                 E09000033  ...   \n",
       "4                           9                 E09000022  ...   \n",
       "\n",
       "   lsoa_of_accident_location     district  converted_date  converted_time  \\\n",
       "0                  E01004762  westminster      2019-02-18        17:50:00   \n",
       "1                  E01004736  westminster      2019-02-18        18:50:00   \n",
       "2                  E01004728  westminster      2019-02-18        23:00:00   \n",
       "3                  E01004658  westminster      2019-02-18        02:00:00   \n",
       "4                  E01003051      lambeth      2019-02-18        08:00:00   \n",
       "\n",
       "          sunrise          sunset  day_length            datetime  \\\n",
       "0 0 days 07:10:00 0 days 17:19:00    10:09:00 2019-02-18 17:50:00   \n",
       "1 0 days 07:10:00 0 days 17:19:00    10:09:00 2019-02-18 18:50:00   \n",
       "2 0 days 07:10:00 0 days 17:19:00    10:09:00 2019-02-18 23:00:00   \n",
       "3 0 days 07:10:00 0 days 17:19:00    10:09:00 2019-02-18 02:00:00   \n",
       "4 0 days 07:10:00 0 days 17:19:00    10:09:00 2019-02-18 08:00:00   \n",
       "\n",
       "   decimal_time  day_of_year  \n",
       "0     17.833333           49  \n",
       "1     18.833333           49  \n",
       "2     23.000000           49  \n",
       "3      2.000000           49  \n",
       "4      8.000000           49  \n",
       "\n",
       "[5 rows x 37 columns]"
      ]
     },
     "execution_count": 5,
     "metadata": {},
     "output_type": "execute_result"
    }
   ],
   "source": [
    "# creating Path object for current working directory\n",
    "cwd = Path('./')\n",
    "root = cwd.resolve().parent\n",
    "# creating Path object for additional data directory\n",
    "additional_data_dir = root / 'additional_data'\n",
    "# create new directory for additional data\n",
    "Path(additional_data_dir).mkdir(exist_ok=True)\n",
    "\n",
    "# creating Path object for plots directroy\n",
    "plots_dir = root / 'plots'\n",
    "# create new directory for plots\n",
    "Path(plots_dir).mkdir(exist_ok=True)\n",
    "\n",
    "# defining the directory to original data\n",
    "data_dir = root / 'data'\n",
    "additional_directory = root / 'additional_data'\n",
    "\n",
    "# list the .csv files for the project\n",
    "for file in data_dir.glob('*.csv'):\n",
    "    print(file)\n",
    "    \n",
    "# reading in .csv files to dataframes\n",
    "vehicles = pd.read_csv(data_dir / 'vehicles2019.csv', dtype={'Accident_Index': str})\n",
    "casualties = pd.read_csv(data_dir / 'casualties2019.csv', dtype={'Accident_Index': str})\n",
    "# cleaned accidents DataFrame\n",
    "accidents = pd.read_pickle(additional_data_dir / 'accidents_cleaned.pkl')\n",
    "\n",
    "# convert column names to lowercase for ease of indexing\n",
    "def lower_columns(df):\n",
    "    \"\"\"\n",
    "    Defintion:\n",
    "        convert column names to lower case\n",
    "    \"\"\"\n",
    "    df.columns = map(str.lower, df.columns)\n",
    "    \n",
    "# converting all column names to lower case\n",
    "lower_columns(vehicles)\n",
    "lower_columns(casualties)\n",
    "\n",
    "accidents.head(5)"
   ]
  },
  {
   "cell_type": "markdown",
   "id": "95ff4dfd",
   "metadata": {},
   "source": [
    "## Plotting Sunrise"
   ]
  },
  {
   "cell_type": "code",
   "execution_count": 6,
   "id": "2c34114b",
   "metadata": {
    "scrolled": true
   },
   "outputs": [
    {
     "data": {
      "image/png": "[encoded data removed]",
      "text/plain": [
       "<Figure size 288x288 with 1 Axes>"
      ]
     },
     "metadata": {
      "needs_background": "light"
     },
     "output_type": "display_data"
    }
   ],
   "source": [
    "months = ['Jan', 'Feb', 'Mar', 'Apr', 'May', 'Jun', 'Jul', 'Aug', 'Sep', 'Oct', 'Nov', 'Dec']\n",
    "day_of_months = [1, 32, 60, 91, 121, 152, 182, 213, 244, 274, 305, 335]\n",
    "\n",
    "fig, ax = plt.subplots(figsize=(4, 4))\n",
    "days = np.arange(1, 350)\n",
    "sunrise = [accidents[(accidents['day_of_year'] == x)].sunrise for x in days]\n",
    "sunrise = [time.iloc[0] for time in sunrise]\n",
    "sunrise = [datetime.datetime.fromtimestamp(x.seconds) for x in sunrise]\n",
    "ax.plot(days, sunrise)\n",
    "ax.yaxis.set_major_locator(mdates.HourLocator())\n",
    "ax.yaxis.set_major_formatter(mdates.DateFormatter('%H:%M'))\n",
    "ax.set_xlabel(\"Date\", fontsize=13)\n",
    "ax.set_xticks(day_of_months, months, rotation=45)\n",
    "ax.set_ylabel(\"Sunrise\", fontsize=13)\n",
    "\n",
    "xlim=np.array(plt.gca().get_xlim())\n",
    "ylim=np.array(plt.gca().get_ylim())\n",
    "\n",
    "plt.axhline(y=0.333, color='grey', linestyle='--')\n",
    "plt.axhline(y=0.291, color='grey', linestyle='--')\n",
    "              \n",
    "ax.figure.savefig(plots_dir / 'sunrise', bbox_inches='tight')"
   ]
  },
  {
   "cell_type": "markdown",
   "id": "e15f6fc0",
   "metadata": {},
   "source": [
    "## Plotting Sunset"
   ]
  },
  {
   "cell_type": "code",
   "execution_count": 7,
   "id": "ccdb7914",
   "metadata": {
    "scrolled": true
   },
   "outputs": [
    {
     "data": {
      "image/png": "[encoded data removed]",
      "text/plain": [
       "<Figure size 288x288 with 1 Axes>"
      ]
     },
     "metadata": {
      "needs_background": "light"
     },
     "output_type": "display_data"
    }
   ],
   "source": [
    "fig, ax = plt.subplots(figsize=(4, 4))\n",
    "days = np.arange(1, 366)\n",
    "sunset = [accidents[(accidents['day_of_year'] == x)].sunset for x in days]\n",
    "sunset = [time.iloc[0] for time in sunset]\n",
    "sunset = [datetime.datetime.fromtimestamp(x.seconds) for x in sunset]\n",
    "\n",
    "ax.set_xlabel(\"Date\", fontsize=13)\n",
    "ax.set_xticks(day_of_months, months, rotation=45)\n",
    "ax.set_ylabel(\"Sunset\", fontsize=13)\n",
    "\n",
    "\n",
    "ax.plot(days, sunset)\n",
    "ax.yaxis.set_major_locator(mdates.HourLocator())\n",
    "ax.yaxis.set_major_formatter(mdates.DateFormatter('%H:%M'))\n",
    "\n",
    "plt.axhline(y=0.855, color='grey', linestyle='--')\n",
    "plt.axhline(y=0.916, color='grey', linestyle='--')\n",
    "\n",
    "\n",
    "ax.figure.savefig(plots_dir / 'sunset', bbox_inches='tight')"
   ]
  },
  {
   "cell_type": "code",
   "execution_count": 8,
   "id": "b850f831",
   "metadata": {},
   "outputs": [],
   "source": [
    "latest_day = accidents.loc[accidents.sunrise.argmin()]['day_of_year']\n",
    "earliest_day = accidents.loc[accidents.sunrise.argmax()]['day_of_year']"
   ]
  },
  {
   "cell_type": "markdown",
   "id": "ed26ad97",
   "metadata": {},
   "source": [
    "## Separating the data"
   ]
  },
  {
   "cell_type": "code",
   "execution_count": 9,
   "id": "25944e92",
   "metadata": {},
   "outputs": [],
   "source": [
    "# isolate the time value from datetime (as datetime.time)\n",
    "times = accidents.datetime.apply(lambda x: x.time())\n",
    "# create new feature for this\n",
    "accidents['time'] = times"
   ]
  },
  {
   "cell_type": "code",
   "execution_count": 10,
   "id": "3dce9d8a",
   "metadata": {},
   "outputs": [],
   "source": [
    "### Sunrise\n",
    "# interested from 7:00am to 8:00am\n",
    "\n",
    "start_time = datetime.time(7, 0)\n",
    "end_time = datetime.time(8, 0)"
   ]
  },
  {
   "cell_type": "markdown",
   "id": "46b58cd2",
   "metadata": {},
   "source": [
    "### Finding accidents across the entire year that occur between 7:00am and 8:00am"
   ]
  },
  {
   "cell_type": "code",
   "execution_count": 13,
   "id": "81d95379",
   "metadata": {},
   "outputs": [],
   "source": [
    "mask1 = accidents['time'] >= start_time\n",
    "mask2 = accidents['time'] <= end_time\n",
    "morning_accidents = accidents[mask1 & mask2]"
   ]
  },
  {
   "cell_type": "code",
   "execution_count": 14,
   "id": "a48c88f4",
   "metadata": {},
   "outputs": [
    {
     "data": {
      "text/plain": [
       "1"
      ]
     },
     "execution_count": 14,
     "metadata": {},
     "output_type": "execute_result"
    }
   ],
   "source": [
    "morning_accidents.day_of_year.min()"
   ]
  },
  {
   "cell_type": "markdown",
   "id": "90dd15ab",
   "metadata": {},
   "source": [
    "### Determining the day at which 8:00am becomes light"
   ]
  },
  {
   "cell_type": "code",
   "execution_count": 15,
   "id": "15680a7e",
   "metadata": {},
   "outputs": [
    {
     "name": "stdout",
     "output_type": "stream",
     "text": [
      "81 236\n"
     ]
    }
   ],
   "source": [
    "sunrise_times = [time.time() for time in sunrise]\n",
    "sunrise_times\n",
    "\n",
    "half_1 = sunrise_times[:int(len(sunrise_times)/2)]\n",
    "half_2 = sunrise_times[int(len(sunrise_times)/2):]\n",
    "\n",
    "# day of sunrise at 8:00am (must +1 because days starts at 1)\n",
    "sunrise7_1 = half_1.index(datetime.time(7, 0)) + 1\n",
    "sunrise7_2 = half_2.index(datetime.time(7, 0)) + 1 + len(half_1)\n",
    "\n",
    "sunrise8_1 = half_1.index(datetime.time(7, 59)) + 1\n",
    "sunrise8_2 = half_2.index(datetime.time(7, 59)) + 1 + len(half_1)\n",
    "\n",
    "print(sunrise7_1, sunrise7_2)"
   ]
  },
  {
   "cell_type": "code",
   "execution_count": 16,
   "id": "4ad76315",
   "metadata": {},
   "outputs": [
    {
     "data": {
      "image/png": "[encoded data removed]",
      "text/plain": [
       "<Figure size 288x288 with 1 Axes>"
      ]
     },
     "metadata": {
      "needs_background": "light"
     },
     "output_type": "display_data"
    }
   ],
   "source": [
    "fig, ax = plt.subplots(figsize=(4, 4))\n",
    "days = np.arange(1, 350)\n",
    "sunrise = [accidents[(accidents['day_of_year'] == x)].sunrise for x in days]\n",
    "sunrise = [time.iloc[0] for time in sunrise]\n",
    "sunrise = [datetime.datetime.fromtimestamp(x.seconds) for x in sunrise]\n",
    "ax.plot(days, sunrise)\n",
    "ax.yaxis.set_major_locator(mdates.HourLocator())\n",
    "ax.yaxis.set_major_formatter(mdates.DateFormatter('%H:%M'))\n",
    "ax.set_xlabel(\"Date\", fontsize=13)\n",
    "ax.set_xticks(day_of_months, months, rotation=45)\n",
    "ax.set_ylabel(\"Sunrise\", fontsize=13)\n",
    "\n",
    "xlim=np.array(plt.gca().get_xlim())\n",
    "ylim=np.array(plt.gca().get_ylim())\n",
    "\n",
    "yvals = [0.333, 0.291]\n",
    "\n",
    "plt.axhline(y=yvals[0], color='grey', linestyle='--')\n",
    "plt.axhline(y=yvals[1], color='grey', linestyle='--')\n",
    "\n",
    "plt.axvline(x=sunrise8_1, ymax=1-yvals[0], color='red', linestyle='--')\n",
    "plt.axvline(x=sunrise8_2, ymax=1-yvals[0], color='red', linestyle='--')\n",
    "\n",
    "plt.axvline(x=sunrise7_1, ymax=yvals[0]+.05, color='red', linestyle='--')\n",
    "plt.axvline(x=sunrise7_2, ymax=yvals[0]+.05, color='red', linestyle='--')\n",
    "\n",
    "plt.scatter(sunrise8_1, yvals[0], color='r')\n",
    "plt.scatter(sunrise8_2, yvals[0], color='r')\n",
    "\n",
    "\n",
    "plt.scatter(sunrise7_1, yvals[1], color='r')\n",
    "plt.scatter(sunrise7_2, yvals[1], color='r')\n",
    "\n",
    "              \n",
    "ax.figure.savefig(plots_dir / 'sunrise_with_lines', bbox_inches='tight')"
   ]
  },
  {
   "cell_type": "markdown",
   "id": "c5aba0c3",
   "metadata": {},
   "source": [
    "## Sunset"
   ]
  },
  {
   "cell_type": "code",
   "execution_count": 17,
   "id": "17f6a38d",
   "metadata": {},
   "outputs": [],
   "source": [
    "#sunset\n",
    "\n",
    "start_time = datetime.time(20, 30)\n",
    "end_time = datetime.time(21, 30)"
   ]
  },
  {
   "cell_type": "code",
   "execution_count": 18,
   "id": "810deb40",
   "metadata": {},
   "outputs": [],
   "source": [
    "mask1 = accidents['time'] >= start_time\n",
    "mask2 = accidents['time'] <= end_time\n",
    "evening_accidents = accidents[mask1 & mask2]"
   ]
  },
  {
   "cell_type": "code",
   "execution_count": 19,
   "id": "2e40cf33",
   "metadata": {},
   "outputs": [
    {
     "data": {
      "text/plain": [
       "(4391, 38)"
      ]
     },
     "execution_count": 19,
     "metadata": {},
     "output_type": "execute_result"
    }
   ],
   "source": [
    "evening_accidents.shape"
   ]
  },
  {
   "cell_type": "code",
   "execution_count": 20,
   "id": "fedebe31",
   "metadata": {},
   "outputs": [],
   "source": [
    "sunset_times = [time.time() for time in sunset]\n",
    "sunset_times\n",
    "\n",
    "half_1 = sunset_times[:int(len(sunset_times)/2)]\n",
    "half_2 = sunset_times[int(len(sunset_times)/2):]\n",
    "\n",
    "# day of sunset at 8:00am (must +1 because days starts at 1)\n",
    "sunset830_1 = half_1.index(datetime.time(20, 30)) + 1\n",
    "sunset830_2 = half_2.index(datetime.time(20, 30)) + 1 + len(half_1)\n",
    "\n",
    "sunset2130_1 = half_1.index(datetime.time(21, 30)) + 1\n",
    "sunset2130_2 = half_2.index(datetime.time(21, 30)) + 1 + len(half_1)"
   ]
  },
  {
   "cell_type": "code",
   "execution_count": 21,
   "id": "0a82fed7",
   "metadata": {},
   "outputs": [
    {
     "data": {
      "image/png": "[encoded data removed]",
      "text/plain": [
       "<Figure size 288x288 with 1 Axes>"
      ]
     },
     "metadata": {
      "needs_background": "light"
     },
     "output_type": "display_data"
    }
   ],
   "source": [
    "fig, ax = plt.subplots(figsize=(4, 4))\n",
    "days = np.arange(1, 350)\n",
    "sunset = [accidents[(accidents['day_of_year'] == x)].sunset for x in days]\n",
    "sunset = [time.iloc[0] for time in sunset]\n",
    "sunset = [datetime.datetime.fromtimestamp(x.seconds) for x in sunset]\n",
    "ax.plot(days, sunset)\n",
    "ax.yaxis.set_major_locator(mdates.HourLocator())\n",
    "ax.yaxis.set_major_formatter(mdates.DateFormatter('%H:%M'))\n",
    "ax.set_xlabel(\"Date\", fontsize=13)\n",
    "ax.set_xticks(day_of_months, months, rotation=45)\n",
    "ax.set_ylabel(\"Sunset\", fontsize=13)\n",
    "\n",
    "xlim=np.array(plt.gca().get_xlim())\n",
    "ylim=np.array(plt.gca().get_ylim())\n",
    "\n",
    "yvals = [0.855, 0.895]\n",
    "\n",
    "plt.axhline(y=yvals[0], color='grey', linestyle='--')\n",
    "plt.axhline(y=yvals[1], color='grey', linestyle='--')\n",
    "\n",
    "plt.axvline(x=sunset830_1, ymax=yvals[0]-.2, color='red', linestyle='--')\n",
    "plt.axvline(x=sunset830_2, ymax=yvals[0]-.2, color='red', linestyle='--')\n",
    "\n",
    "plt.axvline(x=sunset2130_1, ymax=yvals[0]-.02, color='red', linestyle='--')\n",
    "plt.axvline(x=sunset2130_2, ymax=yvals[0]-.02, color='red', linestyle='--')\n",
    "\n",
    "plt.scatter(sunset830_1, yvals[0], color='r')\n",
    "plt.scatter(sunset830_2, yvals[0], color='r')\n",
    "\n",
    "\n",
    "plt.scatter(sunset2130_1, yvals[1], color='r')\n",
    "plt.scatter(sunset2130_2, yvals[1], color='r')\n",
    "\n",
    "              \n",
    "ax.figure.savefig(plots_dir / 'sunset_with_lines', bbox_inches='tight')"
   ]
  },
  {
   "cell_type": "markdown",
   "id": "0f96f14b",
   "metadata": {},
   "source": [
    "## Analysis"
   ]
  },
  {
   "cell_type": "markdown",
   "id": "3500ba91",
   "metadata": {},
   "source": [
    "### Sunrise"
   ]
  },
  {
   "cell_type": "code",
   "execution_count": 23,
   "id": "503280d5",
   "metadata": {},
   "outputs": [
    {
     "name": "stdout",
     "output_type": "stream",
     "text": [
      "Total accidents: 4938\n",
      "Number of accidents in daylight: 2254\n",
      "Duration of daylight: 155 days\n",
      "\n",
      "Number of accidents in darkness: 2684\n",
      "Duration of darkness: 146 days\n",
      "\n",
      "Average number of accidents per day in daylight: 14.54\n",
      "Average number of accidents per day in darkness: 18.38\n",
      "\n",
      "Ratio: 1.26\n"
     ]
    }
   ],
   "source": [
    "# the days at which the intersections exist on the plot\n",
    "sunrise_dates = [sunrise8_1, sunrise7_1, sunrise7_2, sunrise8_2]\n",
    "\n",
    "daylight_mask1 = morning_accidents['day_of_year'] > sunrise7_1\n",
    "daylight_mask2 = morning_accidents['day_of_year'] < sunrise7_2\n",
    "daylight_accidents = morning_accidents[daylight_mask1 & daylight_mask2]\n",
    "\n",
    "darkness_mask1 = morning_accidents['day_of_year'] < sunrise8_1\n",
    "darkness_mask2 = morning_accidents['day_of_year'] > sunrise8_2\n",
    "darkness_accidents = morning_accidents[darkness_mask1 | darkness_mask2]\n",
    "\n",
    "num_daylight = daylight_accidents.shape[0]\n",
    "num_darkness = darkness_accidents.shape[0]\n",
    "\n",
    "daylight_duration = sunrise7_2 - sunrise7_1\n",
    "darkness_duration = sunrise8_1 + (365 - sunrise8_2)\n",
    "\n",
    "print(f\"Total accidents: {num_daylight + num_darkness}\")\n",
    "\n",
    "print(f\"Number of accidents in daylight: {num_daylight}\")\n",
    "print(f\"Duration of daylight: {daylight_duration} days\")\n",
    "print(f\"\\nNumber of accidents in darkness: {num_darkness}\")\n",
    "print(f\"Duration of darkness: {darkness_duration} days\")\n",
    "\n",
    "avg_daylight = num_daylight / daylight_duration\n",
    "avg_darkness = num_darkness / darkness_duration\n",
    "\n",
    "print(f\"\\nAverage number of accidents per day in daylight: {avg_daylight:.2f}\")\n",
    "print(f\"Average number of accidents per day in darkness: {avg_darkness:.2f}\")\n",
    "\n",
    "print(f\"\\nRatio: {avg_darkness / avg_daylight:.2f}\")"
   ]
  },
  {
   "cell_type": "markdown",
   "id": "2efacbf1",
   "metadata": {},
   "source": [
    "### Sunset"
   ]
  },
  {
   "cell_type": "code",
   "execution_count": 26,
   "id": "bd107f62",
   "metadata": {},
   "outputs": [
    {
     "name": "stdout",
     "output_type": "stream",
     "text": [
      "Total accidents: 3623\n",
      "Number of accidents in daylight: 1054\n",
      "Duration of daylight: 97 days\n",
      "\n",
      "Number of accidents in darkness: 2569\n",
      "Duration of darkness: 204 days\n",
      "\n",
      "Average number of accidents per day in daylight: 10.87\n",
      "Average number of accidents per day in darkness: 12.59\n",
      "\n",
      "Ratio: 1.16\n"
     ]
    }
   ],
   "source": [
    "# the days at which the intersections exist on the plot\n",
    "sunset_dates = [sunset830_1, sunset2130_1, sunset2130_2, sunset830_2]\n",
    "\n",
    "daylight_mask1 = evening_accidents['day_of_year'] > sunset2130_1\n",
    "daylight_mask2 = evening_accidents['day_of_year'] < sunset2130_2\n",
    "daylight_accidents = evening_accidents[daylight_mask1 & daylight_mask2]\n",
    "\n",
    "darkness_mask1 = evening_accidents['day_of_year'] < sunset830_1\n",
    "darkness_mask2 = evening_accidents['day_of_year'] > sunset830_2\n",
    "darkness_accidents = evening_accidents[darkness_mask1 | darkness_mask2]\n",
    "\n",
    "num_daylight = daylight_accidents.shape[0]\n",
    "num_darkness = darkness_accidents.shape[0]\n",
    "\n",
    "daylight_duration = sunset2130_2 - sunset2130_1\n",
    "darkness_duration = sunset830_1 + (365 - sunset830_2)\n",
    "\n",
    "print(f\"Total accidents: {num_daylight + num_darkness}\")\n",
    "\n",
    "print(f\"Number of accidents in daylight: {num_daylight}\")\n",
    "print(f\"Duration of daylight: {daylight_duration} days\")\n",
    "print(f\"\\nNumber of accidents in darkness: {num_darkness}\")\n",
    "print(f\"Duration of darkness: {darkness_duration} days\")\n",
    "\n",
    "avg_daylight = num_daylight / daylight_duration\n",
    "avg_darkness = num_darkness / darkness_duration\n",
    "\n",
    "print(f\"\\nAverage number of accidents per day in daylight: {avg_daylight:.2f}\")\n",
    "print(f\"Average number of accidents per day in darkness: {avg_darkness:.2f}\")\n",
    "\n",
    "print(f\"\\nRatio: {avg_darkness / avg_daylight:.2f}\")"
   ]
  }
 ],
 "metadata": {
  "kernelspec": {
   "display_name": "Python 3 (ipykernel)",
   "language": "python",
   "name": "python3"
  },
  "language_info": {
   "codemirror_mode": {
    "name": "ipython",
    "version": 3
   },
   "file_extension": ".py",
   "mimetype": "text/x-python",
   "name": "python",
   "nbconvert_exporter": "python",
   "pygments_lexer": "ipython3",
   "version": "3.10.4"
  }
 },
 "nbformat": 4,
 "nbformat_minor": 5
}
