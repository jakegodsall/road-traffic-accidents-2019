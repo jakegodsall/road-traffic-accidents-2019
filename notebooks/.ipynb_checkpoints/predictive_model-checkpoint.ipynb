{
 "cells": [
  {
   "cell_type": "markdown",
   "metadata": {},
   "source": [
    "# Predictive Model\n",
    "\n",
    "This final notebook is assoicated with the __Predictive Model__ section of the report."
   ]
  },
  {
   "cell_type": "markdown",
   "metadata": {},
   "source": [
    "## Packages\n",
    "Importing all necessary packages to run the notebook"
   ]
  },
  {
   "cell_type": "code",
   "execution_count": 66,
   "metadata": {},
   "outputs": [],
   "source": [
    "# file manipualtion\n",
    "from pathlib import Path\n",
    "import numpy as np\n",
    "import pandas as pd\n",
    "import pickle\n",
    "\n",
    "# model selection\n",
    "from sklearn.model_selection import train_test_split\n",
    "from sklearn.model_selection import RepeatedStratifiedKFold\n",
    "from sklearn.model_selection import cross_validate, cross_val_score\n",
    "from sklearn.feature_selection import SelectKBest, chi2, f_classif, mutual_info_classif\n",
    "\n",
    "# balancing dataset\n",
    "from imblearn.over_sampling import SMOTE\n",
    "\n",
    "# models\n",
    "from sklearn.linear_model import LogisticRegression\n",
    "from sklearn.neighbors import KNeighborsClassifier\n",
    "from sklearn.tree import DecisionTreeClassifier\n",
    "from sklearn.naive_bayes import MultinomialNB\n",
    "from sklearn.ensemble import RandomForestClassifier\n",
    "from sklearn.ensemble import StackingClassifier\n",
    "\n",
    "# visualistaion\n",
    "import matplotlib.pyplot as plt\n",
    "import seaborn as sns\n",
    "\n",
    "# warning supression\n",
    "from warnings import simplefilter\n",
    "from sklearn.exceptions import ConvergenceWarning\n",
    "simplefilter(\"ignore\", category=ConvergenceWarning)"
   ]
  },
  {
   "cell_type": "markdown",
   "metadata": {},
   "source": [
    "## Directory navigation and creation\n",
    "Creating pathlib.Path objects for cross-platform navigation and loading the three datasets into pandas DataFrame objects\n",
    "\n",
    "**Note:** here we import the cleaned accidents.pkl file"
   ]
  },
  {
   "cell_type": "code",
   "execution_count": 67,
   "metadata": {},
   "outputs": [
    {
     "name": "stdout",
     "output_type": "stream",
     "text": [
      "/Volumes/GoogleDrive/My Drive/Dev/TrafficAccidents/data/accidents2019.csv\n",
      "/Volumes/GoogleDrive/My Drive/Dev/TrafficAccidents/data/casualties2019.csv\n",
      "/Volumes/GoogleDrive/My Drive/Dev/TrafficAccidents/data/vehicles2019.csv\n"
     ]
    },
    {
     "data": {
      "text/html": [
       "<div>\n",
       "<style scoped>\n",
       "    .dataframe tbody tr th:only-of-type {\n",
       "        vertical-align: middle;\n",
       "    }\n",
       "\n",
       "    .dataframe tbody tr th {\n",
       "        vertical-align: top;\n",
       "    }\n",
       "\n",
       "    .dataframe thead th {\n",
       "        text-align: right;\n",
       "    }\n",
       "</style>\n",
       "<table border=\"1\" class=\"dataframe\">\n",
       "  <thead>\n",
       "    <tr style=\"text-align: right;\">\n",
       "      <th></th>\n",
       "      <th>accident_index</th>\n",
       "      <th>longitude</th>\n",
       "      <th>latitude</th>\n",
       "      <th>police_force</th>\n",
       "      <th>accident_severity</th>\n",
       "      <th>number_of_vehicles</th>\n",
       "      <th>number_of_casualties</th>\n",
       "      <th>day_of_week</th>\n",
       "      <th>local_authority_(district)</th>\n",
       "      <th>local_authority_(highway)</th>\n",
       "      <th>...</th>\n",
       "      <th>lsoa_of_accident_location</th>\n",
       "      <th>district</th>\n",
       "      <th>converted_date</th>\n",
       "      <th>converted_time</th>\n",
       "      <th>sunrise</th>\n",
       "      <th>sunset</th>\n",
       "      <th>day_length</th>\n",
       "      <th>datetime</th>\n",
       "      <th>decimal_time</th>\n",
       "      <th>day_of_year</th>\n",
       "    </tr>\n",
       "  </thead>\n",
       "  <tbody>\n",
       "    <tr>\n",
       "      <th>0</th>\n",
       "      <td>2019010128300</td>\n",
       "      <td>-0.153842</td>\n",
       "      <td>51.508057</td>\n",
       "      <td>1</td>\n",
       "      <td>3</td>\n",
       "      <td>2</td>\n",
       "      <td>3</td>\n",
       "      <td>2</td>\n",
       "      <td>1</td>\n",
       "      <td>E09000033</td>\n",
       "      <td>...</td>\n",
       "      <td>E01004762</td>\n",
       "      <td>westminster</td>\n",
       "      <td>2019-02-18</td>\n",
       "      <td>17:50:00</td>\n",
       "      <td>0 days 07:10:00</td>\n",
       "      <td>0 days 17:19:00</td>\n",
       "      <td>10:09:00</td>\n",
       "      <td>2019-02-18 17:50:00</td>\n",
       "      <td>17.833333</td>\n",
       "      <td>49</td>\n",
       "    </tr>\n",
       "    <tr>\n",
       "      <th>1</th>\n",
       "      <td>2019010164251</td>\n",
       "      <td>-0.141154</td>\n",
       "      <td>51.502191</td>\n",
       "      <td>1</td>\n",
       "      <td>3</td>\n",
       "      <td>1</td>\n",
       "      <td>2</td>\n",
       "      <td>2</td>\n",
       "      <td>1</td>\n",
       "      <td>E09000033</td>\n",
       "      <td>...</td>\n",
       "      <td>E01004736</td>\n",
       "      <td>westminster</td>\n",
       "      <td>2019-02-18</td>\n",
       "      <td>18:50:00</td>\n",
       "      <td>0 days 07:10:00</td>\n",
       "      <td>0 days 17:19:00</td>\n",
       "      <td>10:09:00</td>\n",
       "      <td>2019-02-18 18:50:00</td>\n",
       "      <td>18.833333</td>\n",
       "      <td>49</td>\n",
       "    </tr>\n",
       "    <tr>\n",
       "      <th>2</th>\n",
       "      <td>2019010164259</td>\n",
       "      <td>-0.174097</td>\n",
       "      <td>51.527663</td>\n",
       "      <td>1</td>\n",
       "      <td>3</td>\n",
       "      <td>2</td>\n",
       "      <td>1</td>\n",
       "      <td>2</td>\n",
       "      <td>1</td>\n",
       "      <td>E09000033</td>\n",
       "      <td>...</td>\n",
       "      <td>E01004728</td>\n",
       "      <td>westminster</td>\n",
       "      <td>2019-02-18</td>\n",
       "      <td>23:00:00</td>\n",
       "      <td>0 days 07:10:00</td>\n",
       "      <td>0 days 17:19:00</td>\n",
       "      <td>10:09:00</td>\n",
       "      <td>2019-02-18 23:00:00</td>\n",
       "      <td>23.000000</td>\n",
       "      <td>49</td>\n",
       "    </tr>\n",
       "    <tr>\n",
       "      <th>3</th>\n",
       "      <td>2019010164414</td>\n",
       "      <td>-0.163973</td>\n",
       "      <td>51.515931</td>\n",
       "      <td>1</td>\n",
       "      <td>3</td>\n",
       "      <td>2</td>\n",
       "      <td>1</td>\n",
       "      <td>2</td>\n",
       "      <td>1</td>\n",
       "      <td>E09000033</td>\n",
       "      <td>...</td>\n",
       "      <td>E01004658</td>\n",
       "      <td>westminster</td>\n",
       "      <td>2019-02-18</td>\n",
       "      <td>02:00:00</td>\n",
       "      <td>0 days 07:10:00</td>\n",
       "      <td>0 days 17:19:00</td>\n",
       "      <td>10:09:00</td>\n",
       "      <td>2019-02-18 02:00:00</td>\n",
       "      <td>2.000000</td>\n",
       "      <td>49</td>\n",
       "    </tr>\n",
       "    <tr>\n",
       "      <th>4</th>\n",
       "      <td>2019010164107</td>\n",
       "      <td>-0.103521</td>\n",
       "      <td>51.464277</td>\n",
       "      <td>1</td>\n",
       "      <td>3</td>\n",
       "      <td>1</td>\n",
       "      <td>1</td>\n",
       "      <td>2</td>\n",
       "      <td>9</td>\n",
       "      <td>E09000022</td>\n",
       "      <td>...</td>\n",
       "      <td>E01003051</td>\n",
       "      <td>lambeth</td>\n",
       "      <td>2019-02-18</td>\n",
       "      <td>08:00:00</td>\n",
       "      <td>0 days 07:10:00</td>\n",
       "      <td>0 days 17:19:00</td>\n",
       "      <td>10:09:00</td>\n",
       "      <td>2019-02-18 08:00:00</td>\n",
       "      <td>8.000000</td>\n",
       "      <td>49</td>\n",
       "    </tr>\n",
       "  </tbody>\n",
       "</table>\n",
       "<p>5 rows × 37 columns</p>\n",
       "</div>"
      ],
      "text/plain": [
       "  accident_index  longitude   latitude  police_force  accident_severity  \\\n",
       "0  2019010128300  -0.153842  51.508057             1                  3   \n",
       "1  2019010164251  -0.141154  51.502191             1                  3   \n",
       "2  2019010164259  -0.174097  51.527663             1                  3   \n",
       "3  2019010164414  -0.163973  51.515931             1                  3   \n",
       "4  2019010164107  -0.103521  51.464277             1                  3   \n",
       "\n",
       "   number_of_vehicles  number_of_casualties  day_of_week  \\\n",
       "0                   2                     3            2   \n",
       "1                   1                     2            2   \n",
       "2                   2                     1            2   \n",
       "3                   2                     1            2   \n",
       "4                   1                     1            2   \n",
       "\n",
       "   local_authority_(district) local_authority_(highway)  ...  \\\n",
       "0                           1                 E09000033  ...   \n",
       "1                           1                 E09000033  ...   \n",
       "2                           1                 E09000033  ...   \n",
       "3                           1                 E09000033  ...   \n",
       "4                           9                 E09000022  ...   \n",
       "\n",
       "   lsoa_of_accident_location     district  converted_date  converted_time  \\\n",
       "0                  E01004762  westminster      2019-02-18        17:50:00   \n",
       "1                  E01004736  westminster      2019-02-18        18:50:00   \n",
       "2                  E01004728  westminster      2019-02-18        23:00:00   \n",
       "3                  E01004658  westminster      2019-02-18        02:00:00   \n",
       "4                  E01003051      lambeth      2019-02-18        08:00:00   \n",
       "\n",
       "          sunrise          sunset  day_length            datetime  \\\n",
       "0 0 days 07:10:00 0 days 17:19:00    10:09:00 2019-02-18 17:50:00   \n",
       "1 0 days 07:10:00 0 days 17:19:00    10:09:00 2019-02-18 18:50:00   \n",
       "2 0 days 07:10:00 0 days 17:19:00    10:09:00 2019-02-18 23:00:00   \n",
       "3 0 days 07:10:00 0 days 17:19:00    10:09:00 2019-02-18 02:00:00   \n",
       "4 0 days 07:10:00 0 days 17:19:00    10:09:00 2019-02-18 08:00:00   \n",
       "\n",
       "   decimal_time  day_of_year  \n",
       "0     17.833333           49  \n",
       "1     18.833333           49  \n",
       "2     23.000000           49  \n",
       "3      2.000000           49  \n",
       "4      8.000000           49  \n",
       "\n",
       "[5 rows x 37 columns]"
      ]
     },
     "execution_count": 67,
     "metadata": {},
     "output_type": "execute_result"
    }
   ],
   "source": [
    "# creating Path object for current working directory\n",
    "cwd = Path('./')\n",
    "root = cwd.resolve().parent\n",
    "# creating Path object for additional data directory\n",
    "additional_data_dir = root / 'additional_data'\n",
    "# create new directory for additional data\n",
    "Path(additional_data_dir).mkdir(exist_ok=True)\n",
    "\n",
    "# creating Path object for plots directroy\n",
    "plots_dir = root / 'plots'\n",
    "# create new directory for plots\n",
    "Path(plots_dir).mkdir(exist_ok=True)\n",
    "\n",
    "# defining the directory to original data\n",
    "data_dir = root / 'data'\n",
    "additional_directory = root / 'additional_data'\n",
    "\n",
    "# list the .csv files for the project\n",
    "for file in data_dir.glob('*.csv'):\n",
    "    print(file)\n",
    "    \n",
    "# reading in .csv files to dataframes\n",
    "vehicles = pd.read_csv(data_dir / 'vehicles2019.csv', dtype={'Accident_Index': str})\n",
    "casualties = pd.read_csv(data_dir / 'casualties2019.csv', dtype={'Accident_Index': str})\n",
    "# cleaned accidents DataFrame\n",
    "accidents = pd.read_pickle(additional_data_dir / 'accidents_cleaned.pkl')\n",
    "\n",
    "# convert column names to lowercase for ease of indexing\n",
    "def lower_columns(df):\n",
    "    \"\"\"\n",
    "    Defintion:\n",
    "        convert column names to lower case\n",
    "    \"\"\"\n",
    "    df.columns = map(str.lower, df.columns)\n",
    "    \n",
    "# converting all column names to lower case\n",
    "lower_columns(vehicles)\n",
    "lower_columns(casualties)\n",
    "\n",
    "accidents.head(5)"
   ]
  },
  {
   "cell_type": "markdown",
   "metadata": {},
   "source": [
    "## Testing classification models"
   ]
  },
  {
   "cell_type": "code",
   "execution_count": 68,
   "metadata": {},
   "outputs": [
    {
     "data": {
      "text/plain": [
       "{'decision_tree': DecisionTreeClassifier(),\n",
       " 'knn': KNeighborsClassifier(),\n",
       " 'logistic_regression': LogisticRegression(max_iter=10000),\n",
       " 'bayes': MultinomialNB(),\n",
       " 'rf': RandomForestClassifier()}"
      ]
     },
     "execution_count": 68,
     "metadata": {},
     "output_type": "execute_result"
    }
   ],
   "source": [
    "max_iter = 10000\n",
    "\n",
    "def get_models():\n",
    "    \"\"\"\n",
    "    Create a dictionary of the classification models to\n",
    "    be tested\n",
    "    \"\"\"\n",
    "    models = {}\n",
    "    models['decision_tree'] = DecisionTreeClassifier()\n",
    "    models['knn'] = KNeighborsClassifier()\n",
    "    models['logistic_regression'] = LogisticRegression(max_iter=max_iter)\n",
    "    models['bayes'] = MultinomialNB()\n",
    "    models['rf'] = RandomForestClassifier()\n",
    "    return models\n",
    "\n",
    "models = get_models()\n",
    "\n",
    "models"
   ]
  },
  {
   "cell_type": "code",
   "execution_count": 69,
   "metadata": {},
   "outputs": [
    {
     "data": {
      "text/plain": [
       "Index(['accident_index', 'longitude', 'latitude', 'police_force',\n",
       "       'accident_severity', 'number_of_vehicles', 'number_of_casualties',\n",
       "       'day_of_week', 'local_authority_(district)',\n",
       "       'local_authority_(highway)', '1st_road_class', '1st_road_number',\n",
       "       'road_type', 'speed_limit', 'junction_detail', 'junction_control',\n",
       "       '2nd_road_class', '2nd_road_number',\n",
       "       'pedestrian_crossing-human_control',\n",
       "       'pedestrian_crossing-physical_facilities', 'light_conditions',\n",
       "       'weather_conditions', 'road_surface_conditions',\n",
       "       'special_conditions_at_site', 'carriageway_hazards',\n",
       "       'urban_or_rural_area', 'did_police_officer_attend_scene_of_accident',\n",
       "       'lsoa_of_accident_location', 'district', 'converted_date',\n",
       "       'converted_time', 'sunrise', 'sunset', 'day_length', 'datetime',\n",
       "       'decimal_time', 'day_of_year', 'vehicle_reference_x', 'vehicle_type',\n",
       "       'towing_and_articulation', 'vehicle_manoeuvre',\n",
       "       'vehicle_location-restricted_lane', 'junction_location',\n",
       "       'skidding_and_overturning', 'hit_object_in_carriageway',\n",
       "       'vehicle_leaving_carriageway', 'hit_object_off_carriageway',\n",
       "       '1st_point_of_impact', 'was_vehicle_left_hand_drive?',\n",
       "       'journey_purpose_of_driver', 'sex_of_driver', 'age_of_driver',\n",
       "       'age_band_of_driver', 'engine_capacity_(cc)', 'propulsion_code',\n",
       "       'age_of_vehicle', 'driver_imd_decile', 'driver_home_area_type',\n",
       "       'vehicle_imd_decile', 'vehicle_reference_y', 'casualty_reference',\n",
       "       'casualty_class', 'sex_of_casualty', 'age_of_casualty',\n",
       "       'age_band_of_casualty', 'casualty_severity', 'pedestrian_location',\n",
       "       'pedestrian_movement', 'car_passenger', 'bus_or_coach_passenger',\n",
       "       'pedestrian_road_maintenance_worker', 'casualty_type',\n",
       "       'casualty_home_area_type', 'casualty_imd_decile'],\n",
       "      dtype='object')"
      ]
     },
     "execution_count": 69,
     "metadata": {},
     "output_type": "execute_result"
    }
   ],
   "source": [
    "# merge the three datasets\n",
    "accidents = pd.merge(accidents, vehicles, on='accident_index')\n",
    "accidents = pd.merge(accidents, casualties, on='accident_index')\n",
    "accidents.columns"
   ]
  },
  {
   "cell_type": "markdown",
   "metadata": {},
   "source": [
    "# Feature Selection"
   ]
  },
  {
   "cell_type": "markdown",
   "metadata": {},
   "source": [
    "### Test for columns with many values less than 0\n",
    "\n",
    "Any column with more than 10% of values being less than 0 is dropped."
   ]
  },
  {
   "cell_type": "code",
   "execution_count": 70,
   "metadata": {},
   "outputs": [
    {
     "name": "stdout",
     "output_type": "stream",
     "text": [
      "['junction_control', '2nd_road_class', 'special_conditions_at_site', 'carriageway_hazards', 'towing_and_articulation', 'vehicle_location-restricted_lane', 'skidding_and_overturning', 'hit_object_in_carriageway', 'vehicle_leaving_carriageway', 'hit_object_off_carriageway', 'propulsion_code', 'driver_home_area_type', 'casualty_home_area_type']\n"
     ]
    }
   ],
   "source": [
    "# exclude columns with non-numerical data types\n",
    "test = accidents.select_dtypes(exclude=['object', 'datetime64', 'timedelta64[ns]'])\n",
    "\n",
    "ratios = ((test < 0).sum() / test.sum()).to_dict()\n",
    "\n",
    "to_delete = []\n",
    "for k, v in ratios.items():\n",
    "    if v > 0.10:\n",
    "        to_delete.append(k)\n",
    "\n",
    "print(to_delete)"
   ]
  },
  {
   "cell_type": "code",
   "execution_count": 71,
   "metadata": {},
   "outputs": [],
   "source": [
    "# manually determine data type of features\n",
    "numeric = ['number_of_vehicles', 'number_of_casualties', 'age_of_driver',\n",
    "           'engine_capacity_(cc)', 'age_of_vehicle', 'age_of_casualty']\n",
    "\n",
    "binary = ['was_vehicle_left_hand_drive?', 'sex_of_driver', 'sex_of_casualty']\n",
    "\n",
    "nominal = ['1st_road_class', 'road_type', 'junction_detail', 'light_conditions',\n",
    "           'weather_conditions', 'road_surface_conditions',\n",
    "           'urban_or_rural_area',\n",
    "           'vehicle_type', 'vehicle_manoeuvre',\n",
    "           'junction_location', 'journey_purpose_of_driver', 'casualty_type']\n",
    "\n",
    "ordinal = ['speed_limit', 'day_of_week', 'day_of_year', 'age_band_of_driver', 'age_band_of_casualty']\n",
    "\n",
    "target = 'accident_severity'"
   ]
  },
  {
   "cell_type": "code",
   "execution_count": 72,
   "metadata": {},
   "outputs": [
    {
     "name": "stderr",
     "output_type": "stream",
     "text": [
      "/var/folders/ym/67nh3yg92pl8g2wbm_vrs8_h0000gn/T/ipykernel_2686/444866100.py:33: RuntimeWarning: divide by zero encountered in log10\n",
      "  scores = -np.log10(selector.pvalues_)\n"
     ]
    }
   ],
   "source": [
    "class FeatureSelection:\n",
    "\n",
    "    def __init__(self, df, cat_features, numeric_features, target):\n",
    "        self.df = df\n",
    "        self.cat_features = cat_features\n",
    "        self.numeric_features = numeric_features\n",
    "        self.target = target\n",
    "\n",
    "    def remove_negatives(self):\n",
    "        \"\"\"\n",
    "        Remove rows with any negative values for features in\n",
    "        the data members 'cat_features' and 'numeric_features'\n",
    "        \"\"\"\n",
    "        features = self.numeric_features + self.cat_features\n",
    "        filtered = self.df.filter(features + [self.target], axis=1)\n",
    "        filtered = filtered[(filtered > 0).all(1)]\n",
    "        return filtered\n",
    "\n",
    "    def get_feature_scores(self, k='all'):\n",
    "        \"\"\"\n",
    "        Return the 'KBest selected' columns and scores using\n",
    "        ANOVA\n",
    "        \"\"\"\n",
    "        filtered_dataset = self.remove_negatives()\n",
    "        features = self.cat_features\n",
    "        selector = SelectKBest(f_classif, k=k)\n",
    "        selector.fit(filtered_dataset[features], filtered_dataset[self.target])\n",
    "\n",
    "        cols = selector.get_support(indices=True)\n",
    "        p_values = selector.pvalues_\n",
    "\n",
    "        p_values = pd.Series(p_values, dtype='object')\n",
    "        scores = -np.log10(selector.pvalues_)\n",
    "        return cols, scores\n",
    "\n",
    "    def plot_features(self):\n",
    "        \"\"\"\n",
    "        Plot the scores determined from get_feature_scores\n",
    "        \"\"\"\n",
    "        features, scores = self.get_feature_scores(k='all')\n",
    "        print(features)\n",
    "        plt.bar(range(len(features)), scores)\n",
    "        plt.xticks(range(len(features)), features, rotation='vertical')\n",
    "        plt.show()\n",
    "    \n",
    "    def get_new_X(self):\n",
    "        \"\"\"\n",
    "        Get the transformed dataframe using only the columns\n",
    "        from get_feature_scores\n",
    "        \"\"\"\n",
    "        filtered_dataset = self.remove_negatives()\n",
    "        kbest_cols, _ = self.get_feature_scores(k=12)\n",
    "        target = self.target\n",
    "        target_i = filtered_dataset.columns.get_loc(self.target)\n",
    "        kbest_cols = np.append(kbest_cols, target_i)\n",
    "        new_df = filtered_dataset.iloc[:, kbest_cols]\n",
    "        \n",
    "        return new_df\n",
    "\n",
    "fs = FeatureSelection(accidents, nominal+ordinal+binary, numeric, target)\n",
    "\n",
    "filtered = fs.get_new_X()"
   ]
  },
  {
   "cell_type": "code",
   "execution_count": 73,
   "metadata": {},
   "outputs": [
    {
     "name": "stdout",
     "output_type": "stream",
     "text": [
      "[ 0  1  2  3  4  5  6  7  8  9 10 11 12 13 14 15 16 17 18 19]\n"
     ]
    },
    {
     "name": "stderr",
     "output_type": "stream",
     "text": [
      "/var/folders/ym/67nh3yg92pl8g2wbm_vrs8_h0000gn/T/ipykernel_2686/444866100.py:33: RuntimeWarning: divide by zero encountered in log10\n",
      "  scores = -np.log10(selector.pvalues_)\n"
     ]
    },
    {
     "data": {
      "image/png": "[encoded data removed]",
      "text/plain": [
       "<Figure size 432x288 with 1 Axes>"
      ]
     },
     "metadata": {
      "needs_background": "light"
     },
     "output_type": "display_data"
    }
   ],
   "source": [
    "fs.plot_features()"
   ]
  },
  {
   "cell_type": "code",
   "execution_count": 74,
   "metadata": {},
   "outputs": [
    {
     "data": {
      "text/plain": [
       "Index(['number_of_vehicles', 'number_of_casualties', 'age_of_driver',\n",
       "       'engine_capacity_(cc)', '1st_road_class', 'junction_detail',\n",
       "       'road_surface_conditions', 'urban_or_rural_area', 'junction_location',\n",
       "       'journey_purpose_of_driver', 'speed_limit', 'day_of_week',\n",
       "       'accident_severity'],\n",
       "      dtype='object')"
      ]
     },
     "execution_count": 74,
     "metadata": {},
     "output_type": "execute_result"
    }
   ],
   "source": [
    "filtered.columns"
   ]
  },
  {
   "cell_type": "markdown",
   "metadata": {},
   "source": [
    "# Constructing the model\n",
    "\n",
    "Determining the number of samples remaining:"
   ]
  },
  {
   "cell_type": "code",
   "execution_count": 75,
   "metadata": {},
   "outputs": [
    {
     "name": "stdout",
     "output_type": "stream",
     "text": [
      "Number of samples: 98654\n",
      "Proportion of samples remaining: 33.38%\n"
     ]
    }
   ],
   "source": [
    "print(f\"Number of samples: {filtered.shape[0]}\")\n",
    "print(f\"Proportion of samples remaining: {100 * filtered.shape[0] / accidents.shape[0]:.2f}%\")"
   ]
  },
  {
   "cell_type": "markdown",
   "metadata": {},
   "source": [
    "We see that the model is heavily imbalanced towards accident_severity label 3. \n",
    "\n",
    "Hence, SMOTE oversampling should be used to balance the training data for more accurate training."
   ]
  },
  {
   "cell_type": "code",
   "execution_count": 76,
   "metadata": {},
   "outputs": [
    {
     "data": {
      "text/plain": [
       "3    78790\n",
       "2    18501\n",
       "1     1363\n",
       "Name: accident_severity, dtype: int64"
      ]
     },
     "execution_count": 76,
     "metadata": {},
     "output_type": "execute_result"
    }
   ],
   "source": [
    "filtered.accident_severity.value_counts()"
   ]
  },
  {
   "cell_type": "markdown",
   "metadata": {},
   "source": [
    "Splitting the data into a 3:1 train/test ratio"
   ]
  },
  {
   "cell_type": "code",
   "execution_count": 77,
   "metadata": {},
   "outputs": [
    {
     "name": "stdout",
     "output_type": "stream",
     "text": [
      "X_train shape: (73990, 12)\n",
      "y_train shape: (73990,)\n",
      "X_test shape: (24664, 12)\n",
      "y_test shape: (24664,)\n"
     ]
    }
   ],
   "source": [
    "X_data = filtered.iloc[:, :-1]\n",
    "y_data = filtered.iloc[:, -1]\n",
    "\n",
    "# splitting into train and test sets\n",
    "X_train, X_test, y_train, y_test = train_test_split(X_data, y_data, test_size=0.25)\n",
    "\n",
    "# data set shapes\n",
    "print(f\"X_train shape: {X_train.shape}\")\n",
    "print(f\"y_train shape: {y_train.shape}\")\n",
    "print(f\"X_test shape: {X_test.shape}\")\n",
    "print(f\"y_test shape: {y_test.shape}\")"
   ]
  },
  {
   "cell_type": "code",
   "execution_count": 78,
   "metadata": {},
   "outputs": [
    {
     "name": "stdout",
     "output_type": "stream",
     "text": [
      "Shapes prior to over-sampling: \n",
      "\n",
      "X_train shape: (73990, 12)\n",
      "y_train shape: (73990,)\n",
      "\n",
      "\n",
      "Shapes after over-sampling: \n",
      "\n",
      "X_train shape: (177435, 12)\n",
      "y_train shape: (177435,)\n"
     ]
    }
   ],
   "source": [
    "print(\"Shapes prior to over-sampling: \\n\")\n",
    "print(f\"X_train shape: {X_train.shape}\")\n",
    "print(f\"y_train shape: {y_train.shape}\")\n",
    "\n",
    "oversample = SMOTE()\n",
    "X_train, y_train = oversample.fit_resample(X_train, y_train)\n",
    "\n",
    "print(\"\\n\\nShapes after over-sampling: \\n\")\n",
    "print(f\"X_train shape: {X_train.shape}\")\n",
    "print(f\"y_train shape: {y_train.shape}\")"
   ]
  },
  {
   "cell_type": "code",
   "execution_count": 79,
   "metadata": {},
   "outputs": [
    {
     "name": "stdout",
     "output_type": "stream",
     "text": [
      "Label ratio after over-sampling\n"
     ]
    },
    {
     "data": {
      "text/plain": [
       "3    59145\n",
       "1    59145\n",
       "2    59145\n",
       "Name: accident_severity, dtype: int64"
      ]
     },
     "execution_count": 79,
     "metadata": {},
     "output_type": "execute_result"
    }
   ],
   "source": [
    "print(\"Label ratio after over-sampling\")\n",
    "y_train.value_counts()"
   ]
  },
  {
   "cell_type": "markdown",
   "metadata": {},
   "source": [
    "#### Evaluate model\n",
    "\n",
    "Here we use a repeated stratified k-fold cross-validation method, so that the training data is split into k folds with equal proportions per label. Each k-1 folds are evaluated using the final fold as validation, and the process is repeated three times, hence repeated stratified k-fold."
   ]
  },
  {
   "cell_type": "markdown",
   "metadata": {},
   "source": [
    "Defining a stacked model and appending to the list of individual models"
   ]
  },
  {
   "cell_type": "code",
   "execution_count": 80,
   "metadata": {},
   "outputs": [
    {
     "data": {
      "text/plain": [
       "StackingClassifier(cv=5,\n",
       "                   estimators=[('decision_tree', DecisionTreeClassifier()),\n",
       "                               ('knn', KNeighborsClassifier()),\n",
       "                               ('logistic_regression',\n",
       "                                LogisticRegression(max_iter=10000)),\n",
       "                               ('bayes', MultinomialNB()),\n",
       "                               ('rf', RandomForestClassifier()),\n",
       "                               ('stack',\n",
       "                                StackingClassifier(cv=5,\n",
       "                                                   estimators=[('decision_tree',\n",
       "                                                                DecisionTreeClassifier()),\n",
       "                                                               ('knn',\n",
       "                                                                KNeighborsClassifier()),\n",
       "                                                               ('logistic_regression',\n",
       "                                                                LogisticRegression(max_iter=10000)),\n",
       "                                                               ('bayes',\n",
       "                                                                MultinomialNB()),\n",
       "                                                               ('rf',\n",
       "                                                                RandomForestClassifier())],\n",
       "                                                   final_estimator=LogisticRegression()))],\n",
       "                   final_estimator=LogisticRegression())"
      ]
     },
     "execution_count": 80,
     "metadata": {},
     "output_type": "execute_result"
    }
   ],
   "source": [
    "def get_stacking():\n",
    "    level0 = []\n",
    "    for k, v in models.items():\n",
    "        level0.append((k, v))\n",
    "    level1 = LogisticRegression()\n",
    "    model = StackingClassifier(estimators=level0, final_estimator=level1, cv=5)\n",
    "    return model\n",
    "\n",
    "models['stack'] = get_stacking()\n",
    "\n",
    "get_stacking()"
   ]
  },
  {
   "cell_type": "markdown",
   "metadata": {},
   "source": [
    "### Training all models in the models dictionary"
   ]
  },
  {
   "cell_type": "code",
   "execution_count": 81,
   "metadata": {},
   "outputs": [],
   "source": [
    "def evaluate_model(model, X, y):\n",
    "    \"\"\"\n",
    "    Evaluate the models using a repeated stratified\n",
    "    k-fold with 10 splits and 3 repeats\n",
    "    \"\"\"\n",
    "    cv = RepeatedStratifiedKFold(n_splits=10,\n",
    "                                 n_repeats=3,\n",
    "                                 random_state=1)\n",
    "    scores = cross_val_score(model, X, y,\n",
    "                             scoring='accuracy',\n",
    "                             cv=cv,\n",
    "                             n_jobs=-1,\n",
    "                             error_score='raise')\n",
    "    return scores"
   ]
  },
  {
   "cell_type": "code",
   "execution_count": null,
   "metadata": {},
   "outputs": [
    {
     "name": "stdout",
     "output_type": "stream",
     "text": [
      "decision_tree 0.8886, 0.0025\n",
      "knn 0.8702, 0.0024\n"
     ]
    }
   ],
   "source": [
    "results, names, summary_results = [], [], []\n",
    "for name, model in models.items():\n",
    "    scores = evaluate_model(model, X_train, y_train)\n",
    "    results.append(scores)\n",
    "    names.append(name)\n",
    "    summary_results.append({name: {'mean': np.mean(scores), 'std': np.std(scores)}})\n",
    "    print(f\"{name} {np.mean(scores):.4f}, {np.std(scores):.4f}\")"
   ]
  },
  {
   "cell_type": "markdown",
   "metadata": {},
   "source": [
    "A stacked model has reached the highest cross-validated score, reaching 95.2%"
   ]
  },
  {
   "cell_type": "code",
   "execution_count": 19,
   "metadata": {},
   "outputs": [
    {
     "name": "stdout",
     "output_type": "stream",
     "text": [
      "          0         1         2         3         4         5\n",
      "0  0.892151  0.870375  0.480097  0.419018  0.929106  0.945129\n",
      "1  0.002751  0.002778  0.006448  0.003339  0.001607  0.001845\n"
     ]
    },
    {
     "data": {
      "text/html": [
       "<div>\n",
       "<style scoped>\n",
       "    .dataframe tbody tr th:only-of-type {\n",
       "        vertical-align: middle;\n",
       "    }\n",
       "\n",
       "    .dataframe tbody tr th {\n",
       "        vertical-align: top;\n",
       "    }\n",
       "\n",
       "    .dataframe thead th {\n",
       "        text-align: right;\n",
       "    }\n",
       "</style>\n",
       "<table border=\"1\" class=\"dataframe\">\n",
       "  <thead>\n",
       "    <tr style=\"text-align: right;\">\n",
       "      <th></th>\n",
       "      <th>decision_tree</th>\n",
       "      <th>knn</th>\n",
       "      <th>logistic_regression</th>\n",
       "      <th>bayes</th>\n",
       "      <th>rf</th>\n",
       "      <th>stack</th>\n",
       "    </tr>\n",
       "  </thead>\n",
       "  <tbody>\n",
       "    <tr>\n",
       "      <th>mean</th>\n",
       "      <td>0.892151</td>\n",
       "      <td>0.870375</td>\n",
       "      <td>0.480097</td>\n",
       "      <td>0.419018</td>\n",
       "      <td>0.929106</td>\n",
       "      <td>0.945129</td>\n",
       "    </tr>\n",
       "    <tr>\n",
       "      <th>std</th>\n",
       "      <td>0.002751</td>\n",
       "      <td>0.002778</td>\n",
       "      <td>0.006448</td>\n",
       "      <td>0.003339</td>\n",
       "      <td>0.001607</td>\n",
       "      <td>0.001845</td>\n",
       "    </tr>\n",
       "  </tbody>\n",
       "</table>\n",
       "</div>"
      ],
      "text/plain": [
       "      decision_tree       knn  logistic_regression     bayes        rf  \\\n",
       "mean       0.892151  0.870375             0.480097  0.419018  0.929106   \n",
       "std        0.002751  0.002778             0.006448  0.003339  0.001607   \n",
       "\n",
       "         stack  \n",
       "mean  0.945129  \n",
       "std   0.001845  "
      ]
     },
     "execution_count": 19,
     "metadata": {},
     "output_type": "execute_result"
    }
   ],
   "source": [
    "summary_stats = []\n",
    "for i in results:\n",
    "    summary_stats.append([i.mean(), i.std()])\n",
    "    \n",
    "    \n",
    "summary_stats = pd.DataFrame(summary_stats).T\n",
    "print(summary_stats)\n",
    "summary_stats.columns = names\n",
    "summary_stats.index = ['mean', 'std']\n",
    "\n",
    "summary_stats"
   ]
  },
  {
   "cell_type": "code",
   "execution_count": 20,
   "metadata": {},
   "outputs": [
    {
     "data": {
      "text/plain": [
       "[array([0.8964727 , 0.89049422, 0.89916301, 0.89487844, 0.89368274,\n",
       "        0.89547629, 0.8856004 , 0.89466866, 0.89427005, 0.89506726,\n",
       "        0.89178956, 0.89079314, 0.89557593, 0.88840175, 0.89029494,\n",
       "        0.8906935 , 0.89098156, 0.89118087, 0.89187843, 0.88998505,\n",
       "        0.89258669, 0.89408131, 0.88979673, 0.88919888, 0.89198884,\n",
       "        0.88999601, 0.89068261, 0.89227703, 0.89307424, 0.8894868 ]),\n",
       " array([0.86618175, 0.87126345, 0.86877242, 0.87086489, 0.86966919,\n",
       "        0.8684735 , 0.87414051, 0.8733433 , 0.87194818, 0.87324365,\n",
       "        0.87235951, 0.87046632, 0.86548426, 0.86887206, 0.86618175,\n",
       "        0.87176166, 0.87493772, 0.86676632, 0.87344295, 0.86955655,\n",
       "        0.8672778 , 0.86528497, 0.87006776, 0.87056596, 0.87345556,\n",
       "        0.87225986, 0.86676632, 0.8737419 , 0.87244644, 0.87164923]),\n",
       " array([0.46861299, 0.49810682, 0.47847748, 0.47728179, 0.48634914,\n",
       "        0.47967318, 0.47543597, 0.47394121, 0.48281016, 0.48510214,\n",
       "        0.4845556 , 0.47758071, 0.48664807, 0.48495417, 0.47608609,\n",
       "        0.48465524, 0.47424016, 0.47463876, 0.47304434, 0.47593423,\n",
       "        0.49103228, 0.48495417, 0.48256277, 0.48326026, 0.48096851,\n",
       "        0.46582304, 0.47802691, 0.47583458, 0.48111609, 0.48121574]),\n",
       " array([0.41400957, 0.42417298, 0.41211638, 0.41709845, 0.41948984,\n",
       "        0.41948984, 0.41943199, 0.41813652, 0.42371699, 0.42222222,\n",
       "        0.41390992, 0.4169988 , 0.42576724, 0.42028697, 0.41779593,\n",
       "        0.42058589, 0.41753861, 0.41743896, 0.42212257, 0.41833582,\n",
       "        0.41849342, 0.41510562, 0.41879235, 0.42287764, 0.41909127,\n",
       "        0.41430849, 0.41524664, 0.4206278 , 0.42102641, 0.4243149 ]),\n",
       " array([0.931945  , 0.93094859, 0.93064966, 0.92885612, 0.92865684,\n",
       "        0.92855719, 0.92954659, 0.92884903, 0.92715496, 0.93064275,\n",
       "        0.92576724, 0.92845755, 0.93055002, 0.92795935, 0.9302511 ,\n",
       "        0.92895576, 0.93203787, 0.92974589, 0.9303438 , 0.92566019,\n",
       "        0.92955361, 0.92885612, 0.92756078, 0.92875648, 0.92825827,\n",
       "        0.93154643, 0.93004484, 0.92695566, 0.92864973, 0.92745391]),\n",
       " array([0.94679155, 0.94798725, 0.94539657, 0.94310482, 0.9461937 ,\n",
       "        0.94410124, 0.94618834, 0.94678625, 0.94289985, 0.94588939,\n",
       "        0.94410124, 0.94260662, 0.94629334, 0.94360303, 0.94499801,\n",
       "        0.94778796, 0.94828102, 0.94419532, 0.94549078, 0.94459392,\n",
       "        0.94360303, 0.9456955 , 0.94549621, 0.94240733, 0.94250697,\n",
       "        0.9473894 , 0.94798206, 0.94648729, 0.9426009 , 0.94240159])]"
      ]
     },
     "execution_count": 20,
     "metadata": {},
     "output_type": "execute_result"
    }
   ],
   "source": [
    "results"
   ]
  },
  {
   "cell_type": "code",
   "execution_count": 21,
   "metadata": {},
   "outputs": [
    {
     "data": {
      "image/png": "[encoded data removed]",
      "text/plain": [
       "<Figure size 432x288 with 1 Axes>"
      ]
     },
     "metadata": {
      "needs_background": "light"
     },
     "output_type": "display_data"
    }
   ],
   "source": [
    "model_plot = sns.boxplot(data=results[:2] + results[4:], orient='h')\n",
    "model_plot.yaxis.set_ticklabels(['Decision Tree', 'KNN',\n",
    "                                 'Random Forest', 'Stacked Model'])\n",
    "\n",
    "model_plot.set_ylabel('Models')\n",
    "model_plot.set_xlabel('Accuracy')\n",
    "\n",
    "model_plot.figure.savefig(plots_dir / 'model_plot', bbox_inches='tight')"
   ]
  },
  {
   "cell_type": "markdown",
   "metadata": {},
   "source": [
    "## Fitting the model"
   ]
  },
  {
   "cell_type": "code",
   "execution_count": 22,
   "metadata": {},
   "outputs": [
    {
     "data": {
      "text/plain": [
       "RandomForestClassifier()"
      ]
     },
     "execution_count": 22,
     "metadata": {},
     "output_type": "execute_result"
    }
   ],
   "source": [
    "stacked_model = models['rf']\n",
    "\n",
    "stacked_model.fit(X_train, y_train)"
   ]
  },
  {
   "cell_type": "code",
   "execution_count": 23,
   "metadata": {},
   "outputs": [
    {
     "data": {
      "text/plain": [
       "0.8521276595744681"
      ]
     },
     "execution_count": 23,
     "metadata": {},
     "output_type": "execute_result"
    }
   ],
   "source": [
    "stacked_model.score(X_test, y_test)"
   ]
  },
  {
   "cell_type": "markdown",
   "metadata": {},
   "source": [
    "## Saving model for later use"
   ]
  },
  {
   "cell_type": "code",
   "execution_count": 24,
   "metadata": {},
   "outputs": [],
   "source": [
    "filename = 'prediction_model.pkl'\n",
    "pickle.dump(stacked_model, open(filename, 'wb'))"
   ]
  },
  {
   "cell_type": "markdown",
   "metadata": {},
   "source": [
    "Reopening model using pickle package."
   ]
  },
  {
   "cell_type": "code",
   "execution_count": 25,
   "metadata": {},
   "outputs": [
    {
     "name": "stderr",
     "output_type": "stream",
     "text": [
      "/home/jake/miniconda3/envs/data-science/lib/python3.8/site-packages/sklearn/linear_model/_logistic.py:814: ConvergenceWarning: lbfgs failed to converge (status=1):\n",
      "STOP: TOTAL NO. of ITERATIONS REACHED LIMIT.\n",
      "\n",
      "Increase the number of iterations (max_iter) or scale the data as shown in:\n",
      "    https://scikit-learn.org/stable/modules/preprocessing.html\n",
      "Please also refer to the documentation for alternative solver options:\n",
      "    https://scikit-learn.org/stable/modules/linear_model.html#logistic-regression\n",
      "  n_iter_i = _check_optimize_result(\n",
      "/home/jake/miniconda3/envs/data-science/lib/python3.8/site-packages/sklearn/linear_model/_logistic.py:814: ConvergenceWarning: lbfgs failed to converge (status=1):\n",
      "STOP: TOTAL NO. of ITERATIONS REACHED LIMIT.\n",
      "\n",
      "Increase the number of iterations (max_iter) or scale the data as shown in:\n",
      "    https://scikit-learn.org/stable/modules/preprocessing.html\n",
      "Please also refer to the documentation for alternative solver options:\n",
      "    https://scikit-learn.org/stable/modules/linear_model.html#logistic-regression\n",
      "  n_iter_i = _check_optimize_result(\n",
      "/home/jake/miniconda3/envs/data-science/lib/python3.8/site-packages/sklearn/linear_model/_logistic.py:814: ConvergenceWarning: lbfgs failed to converge (status=1):\n",
      "STOP: TOTAL NO. of ITERATIONS REACHED LIMIT.\n",
      "\n",
      "Increase the number of iterations (max_iter) or scale the data as shown in:\n",
      "    https://scikit-learn.org/stable/modules/preprocessing.html\n",
      "Please also refer to the documentation for alternative solver options:\n",
      "    https://scikit-learn.org/stable/modules/linear_model.html#logistic-regression\n",
      "  n_iter_i = _check_optimize_result(\n",
      "/home/jake/miniconda3/envs/data-science/lib/python3.8/site-packages/sklearn/linear_model/_logistic.py:814: ConvergenceWarning: lbfgs failed to converge (status=1):\n",
      "STOP: TOTAL NO. of ITERATIONS REACHED LIMIT.\n",
      "\n",
      "Increase the number of iterations (max_iter) or scale the data as shown in:\n",
      "    https://scikit-learn.org/stable/modules/preprocessing.html\n",
      "Please also refer to the documentation for alternative solver options:\n",
      "    https://scikit-learn.org/stable/modules/linear_model.html#logistic-regression\n",
      "  n_iter_i = _check_optimize_result(\n",
      "/home/jake/miniconda3/envs/data-science/lib/python3.8/site-packages/sklearn/linear_model/_logistic.py:814: ConvergenceWarning: lbfgs failed to converge (status=1):\n",
      "STOP: TOTAL NO. of ITERATIONS REACHED LIMIT.\n",
      "\n",
      "Increase the number of iterations (max_iter) or scale the data as shown in:\n",
      "    https://scikit-learn.org/stable/modules/preprocessing.html\n",
      "Please also refer to the documentation for alternative solver options:\n",
      "    https://scikit-learn.org/stable/modules/linear_model.html#logistic-regression\n",
      "  n_iter_i = _check_optimize_result(\n",
      "/home/jake/miniconda3/envs/data-science/lib/python3.8/site-packages/sklearn/linear_model/_logistic.py:814: ConvergenceWarning: lbfgs failed to converge (status=1):\n",
      "STOP: TOTAL NO. of ITERATIONS REACHED LIMIT.\n",
      "\n",
      "Increase the number of iterations (max_iter) or scale the data as shown in:\n",
      "    https://scikit-learn.org/stable/modules/preprocessing.html\n",
      "Please also refer to the documentation for alternative solver options:\n",
      "    https://scikit-learn.org/stable/modules/linear_model.html#logistic-regression\n",
      "  n_iter_i = _check_optimize_result(\n",
      "/home/jake/miniconda3/envs/data-science/lib/python3.8/site-packages/sklearn/linear_model/_logistic.py:814: ConvergenceWarning: lbfgs failed to converge (status=1):\n",
      "STOP: TOTAL NO. of ITERATIONS REACHED LIMIT.\n",
      "\n",
      "Increase the number of iterations (max_iter) or scale the data as shown in:\n",
      "    https://scikit-learn.org/stable/modules/preprocessing.html\n",
      "Please also refer to the documentation for alternative solver options:\n",
      "    https://scikit-learn.org/stable/modules/linear_model.html#logistic-regression\n",
      "  n_iter_i = _check_optimize_result(\n",
      "/home/jake/miniconda3/envs/data-science/lib/python3.8/site-packages/sklearn/linear_model/_logistic.py:814: ConvergenceWarning: lbfgs failed to converge (status=1):\n",
      "STOP: TOTAL NO. of ITERATIONS REACHED LIMIT.\n",
      "\n",
      "Increase the number of iterations (max_iter) or scale the data as shown in:\n",
      "    https://scikit-learn.org/stable/modules/preprocessing.html\n",
      "Please also refer to the documentation for alternative solver options:\n",
      "    https://scikit-learn.org/stable/modules/linear_model.html#logistic-regression\n",
      "  n_iter_i = _check_optimize_result(\n",
      "/home/jake/miniconda3/envs/data-science/lib/python3.8/site-packages/sklearn/linear_model/_logistic.py:814: ConvergenceWarning: lbfgs failed to converge (status=1):\n",
      "STOP: TOTAL NO. of ITERATIONS REACHED LIMIT.\n",
      "\n",
      "Increase the number of iterations (max_iter) or scale the data as shown in:\n",
      "    https://scikit-learn.org/stable/modules/preprocessing.html\n",
      "Please also refer to the documentation for alternative solver options:\n",
      "    https://scikit-learn.org/stable/modules/linear_model.html#logistic-regression\n",
      "  n_iter_i = _check_optimize_result(\n",
      "/home/jake/miniconda3/envs/data-science/lib/python3.8/site-packages/sklearn/linear_model/_logistic.py:814: ConvergenceWarning: lbfgs failed to converge (status=1):\n",
      "STOP: TOTAL NO. of ITERATIONS REACHED LIMIT.\n",
      "\n",
      "Increase the number of iterations (max_iter) or scale the data as shown in:\n",
      "    https://scikit-learn.org/stable/modules/preprocessing.html\n",
      "Please also refer to the documentation for alternative solver options:\n",
      "    https://scikit-learn.org/stable/modules/linear_model.html#logistic-regression\n",
      "  n_iter_i = _check_optimize_result(\n",
      "/home/jake/miniconda3/envs/data-science/lib/python3.8/site-packages/sklearn/linear_model/_logistic.py:814: ConvergenceWarning: lbfgs failed to converge (status=1):\n",
      "STOP: TOTAL NO. of ITERATIONS REACHED LIMIT.\n",
      "\n",
      "Increase the number of iterations (max_iter) or scale the data as shown in:\n",
      "    https://scikit-learn.org/stable/modules/preprocessing.html\n",
      "Please also refer to the documentation for alternative solver options:\n",
      "    https://scikit-learn.org/stable/modules/linear_model.html#logistic-regression\n",
      "  n_iter_i = _check_optimize_result(\n",
      "/home/jake/miniconda3/envs/data-science/lib/python3.8/site-packages/sklearn/linear_model/_logistic.py:814: ConvergenceWarning: lbfgs failed to converge (status=1):\n",
      "STOP: TOTAL NO. of ITERATIONS REACHED LIMIT.\n",
      "\n",
      "Increase the number of iterations (max_iter) or scale the data as shown in:\n",
      "    https://scikit-learn.org/stable/modules/preprocessing.html\n",
      "Please also refer to the documentation for alternative solver options:\n",
      "    https://scikit-learn.org/stable/modules/linear_model.html#logistic-regression\n",
      "  n_iter_i = _check_optimize_result(\n",
      "/home/jake/miniconda3/envs/data-science/lib/python3.8/site-packages/sklearn/linear_model/_logistic.py:814: ConvergenceWarning: lbfgs failed to converge (status=1):\n",
      "STOP: TOTAL NO. of ITERATIONS REACHED LIMIT.\n",
      "\n",
      "Increase the number of iterations (max_iter) or scale the data as shown in:\n",
      "    https://scikit-learn.org/stable/modules/preprocessing.html\n",
      "Please also refer to the documentation for alternative solver options:\n",
      "    https://scikit-learn.org/stable/modules/linear_model.html#logistic-regression\n",
      "  n_iter_i = _check_optimize_result(\n",
      "/home/jake/miniconda3/envs/data-science/lib/python3.8/site-packages/sklearn/linear_model/_logistic.py:814: ConvergenceWarning: lbfgs failed to converge (status=1):\n",
      "STOP: TOTAL NO. of ITERATIONS REACHED LIMIT.\n",
      "\n",
      "Increase the number of iterations (max_iter) or scale the data as shown in:\n",
      "    https://scikit-learn.org/stable/modules/preprocessing.html\n",
      "Please also refer to the documentation for alternative solver options:\n",
      "    https://scikit-learn.org/stable/modules/linear_model.html#logistic-regression\n",
      "  n_iter_i = _check_optimize_result(\n",
      "/home/jake/miniconda3/envs/data-science/lib/python3.8/site-packages/sklearn/linear_model/_logistic.py:814: ConvergenceWarning: lbfgs failed to converge (status=1):\n",
      "STOP: TOTAL NO. of ITERATIONS REACHED LIMIT.\n",
      "\n",
      "Increase the number of iterations (max_iter) or scale the data as shown in:\n",
      "    https://scikit-learn.org/stable/modules/preprocessing.html\n",
      "Please also refer to the documentation for alternative solver options:\n",
      "    https://scikit-learn.org/stable/modules/linear_model.html#logistic-regression\n",
      "  n_iter_i = _check_optimize_result(\n",
      "/home/jake/miniconda3/envs/data-science/lib/python3.8/site-packages/sklearn/linear_model/_logistic.py:814: ConvergenceWarning: lbfgs failed to converge (status=1):\n",
      "STOP: TOTAL NO. of ITERATIONS REACHED LIMIT.\n",
      "\n",
      "Increase the number of iterations (max_iter) or scale the data as shown in:\n",
      "    https://scikit-learn.org/stable/modules/preprocessing.html\n",
      "Please also refer to the documentation for alternative solver options:\n",
      "    https://scikit-learn.org/stable/modules/linear_model.html#logistic-regression\n",
      "  n_iter_i = _check_optimize_result(\n",
      "/home/jake/miniconda3/envs/data-science/lib/python3.8/site-packages/sklearn/linear_model/_logistic.py:814: ConvergenceWarning: lbfgs failed to converge (status=1):\n",
      "STOP: TOTAL NO. of ITERATIONS REACHED LIMIT.\n",
      "\n",
      "Increase the number of iterations (max_iter) or scale the data as shown in:\n",
      "    https://scikit-learn.org/stable/modules/preprocessing.html\n",
      "Please also refer to the documentation for alternative solver options:\n",
      "    https://scikit-learn.org/stable/modules/linear_model.html#logistic-regression\n",
      "  n_iter_i = _check_optimize_result(\n",
      "/home/jake/miniconda3/envs/data-science/lib/python3.8/site-packages/sklearn/linear_model/_logistic.py:814: ConvergenceWarning: lbfgs failed to converge (status=1):\n",
      "STOP: TOTAL NO. of ITERATIONS REACHED LIMIT.\n",
      "\n",
      "Increase the number of iterations (max_iter) or scale the data as shown in:\n",
      "    https://scikit-learn.org/stable/modules/preprocessing.html\n",
      "Please also refer to the documentation for alternative solver options:\n",
      "    https://scikit-learn.org/stable/modules/linear_model.html#logistic-regression\n",
      "  n_iter_i = _check_optimize_result(\n"
     ]
    },
    {
     "name": "stderr",
     "output_type": "stream",
     "text": [
      "/home/jake/miniconda3/envs/data-science/lib/python3.8/site-packages/sklearn/linear_model/_logistic.py:814: ConvergenceWarning: lbfgs failed to converge (status=1):\n",
      "STOP: TOTAL NO. of ITERATIONS REACHED LIMIT.\n",
      "\n",
      "Increase the number of iterations (max_iter) or scale the data as shown in:\n",
      "    https://scikit-learn.org/stable/modules/preprocessing.html\n",
      "Please also refer to the documentation for alternative solver options:\n",
      "    https://scikit-learn.org/stable/modules/linear_model.html#logistic-regression\n",
      "  n_iter_i = _check_optimize_result(\n",
      "/home/jake/miniconda3/envs/data-science/lib/python3.8/site-packages/sklearn/linear_model/_logistic.py:814: ConvergenceWarning: lbfgs failed to converge (status=1):\n",
      "STOP: TOTAL NO. of ITERATIONS REACHED LIMIT.\n",
      "\n",
      "Increase the number of iterations (max_iter) or scale the data as shown in:\n",
      "    https://scikit-learn.org/stable/modules/preprocessing.html\n",
      "Please also refer to the documentation for alternative solver options:\n",
      "    https://scikit-learn.org/stable/modules/linear_model.html#logistic-regression\n",
      "  n_iter_i = _check_optimize_result(\n",
      "/home/jake/miniconda3/envs/data-science/lib/python3.8/site-packages/sklearn/linear_model/_logistic.py:814: ConvergenceWarning: lbfgs failed to converge (status=1):\n",
      "STOP: TOTAL NO. of ITERATIONS REACHED LIMIT.\n",
      "\n",
      "Increase the number of iterations (max_iter) or scale the data as shown in:\n",
      "    https://scikit-learn.org/stable/modules/preprocessing.html\n",
      "Please also refer to the documentation for alternative solver options:\n",
      "    https://scikit-learn.org/stable/modules/linear_model.html#logistic-regression\n",
      "  n_iter_i = _check_optimize_result(\n",
      "/home/jake/miniconda3/envs/data-science/lib/python3.8/site-packages/sklearn/linear_model/_logistic.py:814: ConvergenceWarning: lbfgs failed to converge (status=1):\n",
      "STOP: TOTAL NO. of ITERATIONS REACHED LIMIT.\n",
      "\n",
      "Increase the number of iterations (max_iter) or scale the data as shown in:\n",
      "    https://scikit-learn.org/stable/modules/preprocessing.html\n",
      "Please also refer to the documentation for alternative solver options:\n",
      "    https://scikit-learn.org/stable/modules/linear_model.html#logistic-regression\n",
      "  n_iter_i = _check_optimize_result(\n",
      "/home/jake/miniconda3/envs/data-science/lib/python3.8/site-packages/sklearn/linear_model/_logistic.py:814: ConvergenceWarning: lbfgs failed to converge (status=1):\n",
      "STOP: TOTAL NO. of ITERATIONS REACHED LIMIT.\n",
      "\n",
      "Increase the number of iterations (max_iter) or scale the data as shown in:\n",
      "    https://scikit-learn.org/stable/modules/preprocessing.html\n",
      "Please also refer to the documentation for alternative solver options:\n",
      "    https://scikit-learn.org/stable/modules/linear_model.html#logistic-regression\n",
      "  n_iter_i = _check_optimize_result(\n",
      "/home/jake/miniconda3/envs/data-science/lib/python3.8/site-packages/sklearn/linear_model/_logistic.py:814: ConvergenceWarning: lbfgs failed to converge (status=1):\n",
      "STOP: TOTAL NO. of ITERATIONS REACHED LIMIT.\n",
      "\n",
      "Increase the number of iterations (max_iter) or scale the data as shown in:\n",
      "    https://scikit-learn.org/stable/modules/preprocessing.html\n",
      "Please also refer to the documentation for alternative solver options:\n",
      "    https://scikit-learn.org/stable/modules/linear_model.html#logistic-regression\n",
      "  n_iter_i = _check_optimize_result(\n",
      "/home/jake/miniconda3/envs/data-science/lib/python3.8/site-packages/sklearn/linear_model/_logistic.py:814: ConvergenceWarning: lbfgs failed to converge (status=1):\n",
      "STOP: TOTAL NO. of ITERATIONS REACHED LIMIT.\n",
      "\n",
      "Increase the number of iterations (max_iter) or scale the data as shown in:\n",
      "    https://scikit-learn.org/stable/modules/preprocessing.html\n",
      "Please also refer to the documentation for alternative solver options:\n",
      "    https://scikit-learn.org/stable/modules/linear_model.html#logistic-regression\n",
      "  n_iter_i = _check_optimize_result(\n",
      "/home/jake/miniconda3/envs/data-science/lib/python3.8/site-packages/sklearn/linear_model/_logistic.py:814: ConvergenceWarning: lbfgs failed to converge (status=1):\n",
      "STOP: TOTAL NO. of ITERATIONS REACHED LIMIT.\n",
      "\n",
      "Increase the number of iterations (max_iter) or scale the data as shown in:\n",
      "    https://scikit-learn.org/stable/modules/preprocessing.html\n",
      "Please also refer to the documentation for alternative solver options:\n",
      "    https://scikit-learn.org/stable/modules/linear_model.html#logistic-regression\n",
      "  n_iter_i = _check_optimize_result(\n",
      "/home/jake/miniconda3/envs/data-science/lib/python3.8/site-packages/sklearn/linear_model/_logistic.py:814: ConvergenceWarning: lbfgs failed to converge (status=1):\n",
      "STOP: TOTAL NO. of ITERATIONS REACHED LIMIT.\n",
      "\n",
      "Increase the number of iterations (max_iter) or scale the data as shown in:\n",
      "    https://scikit-learn.org/stable/modules/preprocessing.html\n",
      "Please also refer to the documentation for alternative solver options:\n",
      "    https://scikit-learn.org/stable/modules/linear_model.html#logistic-regression\n",
      "  n_iter_i = _check_optimize_result(\n",
      "/home/jake/miniconda3/envs/data-science/lib/python3.8/site-packages/sklearn/linear_model/_logistic.py:814: ConvergenceWarning: lbfgs failed to converge (status=1):\n",
      "STOP: TOTAL NO. of ITERATIONS REACHED LIMIT.\n",
      "\n",
      "Increase the number of iterations (max_iter) or scale the data as shown in:\n",
      "    https://scikit-learn.org/stable/modules/preprocessing.html\n",
      "Please also refer to the documentation for alternative solver options:\n",
      "    https://scikit-learn.org/stable/modules/linear_model.html#logistic-regression\n",
      "  n_iter_i = _check_optimize_result(\n",
      "/home/jake/miniconda3/envs/data-science/lib/python3.8/site-packages/sklearn/linear_model/_logistic.py:814: ConvergenceWarning: lbfgs failed to converge (status=1):\n",
      "STOP: TOTAL NO. of ITERATIONS REACHED LIMIT.\n",
      "\n",
      "Increase the number of iterations (max_iter) or scale the data as shown in:\n",
      "    https://scikit-learn.org/stable/modules/preprocessing.html\n",
      "Please also refer to the documentation for alternative solver options:\n",
      "    https://scikit-learn.org/stable/modules/linear_model.html#logistic-regression\n",
      "  n_iter_i = _check_optimize_result(\n",
      "/home/jake/miniconda3/envs/data-science/lib/python3.8/site-packages/sklearn/linear_model/_logistic.py:814: ConvergenceWarning: lbfgs failed to converge (status=1):\n",
      "STOP: TOTAL NO. of ITERATIONS REACHED LIMIT.\n",
      "\n",
      "Increase the number of iterations (max_iter) or scale the data as shown in:\n",
      "    https://scikit-learn.org/stable/modules/preprocessing.html\n",
      "Please also refer to the documentation for alternative solver options:\n",
      "    https://scikit-learn.org/stable/modules/linear_model.html#logistic-regression\n",
      "  n_iter_i = _check_optimize_result(\n",
      "/home/jake/miniconda3/envs/data-science/lib/python3.8/site-packages/sklearn/linear_model/_logistic.py:814: ConvergenceWarning: lbfgs failed to converge (status=1):\n",
      "STOP: TOTAL NO. of ITERATIONS REACHED LIMIT.\n",
      "\n",
      "Increase the number of iterations (max_iter) or scale the data as shown in:\n",
      "    https://scikit-learn.org/stable/modules/preprocessing.html\n",
      "Please also refer to the documentation for alternative solver options:\n",
      "    https://scikit-learn.org/stable/modules/linear_model.html#logistic-regression\n",
      "  n_iter_i = _check_optimize_result(\n",
      "/home/jake/miniconda3/envs/data-science/lib/python3.8/site-packages/sklearn/linear_model/_logistic.py:814: ConvergenceWarning: lbfgs failed to converge (status=1):\n",
      "STOP: TOTAL NO. of ITERATIONS REACHED LIMIT.\n",
      "\n",
      "Increase the number of iterations (max_iter) or scale the data as shown in:\n",
      "    https://scikit-learn.org/stable/modules/preprocessing.html\n",
      "Please also refer to the documentation for alternative solver options:\n",
      "    https://scikit-learn.org/stable/modules/linear_model.html#logistic-regression\n",
      "  n_iter_i = _check_optimize_result(\n",
      "/home/jake/miniconda3/envs/data-science/lib/python3.8/site-packages/sklearn/linear_model/_logistic.py:814: ConvergenceWarning: lbfgs failed to converge (status=1):\n",
      "STOP: TOTAL NO. of ITERATIONS REACHED LIMIT.\n",
      "\n",
      "Increase the number of iterations (max_iter) or scale the data as shown in:\n",
      "    https://scikit-learn.org/stable/modules/preprocessing.html\n",
      "Please also refer to the documentation for alternative solver options:\n",
      "    https://scikit-learn.org/stable/modules/linear_model.html#logistic-regression\n",
      "  n_iter_i = _check_optimize_result(\n",
      "/home/jake/miniconda3/envs/data-science/lib/python3.8/site-packages/sklearn/linear_model/_logistic.py:814: ConvergenceWarning: lbfgs failed to converge (status=1):\n",
      "STOP: TOTAL NO. of ITERATIONS REACHED LIMIT.\n",
      "\n",
      "Increase the number of iterations (max_iter) or scale the data as shown in:\n",
      "    https://scikit-learn.org/stable/modules/preprocessing.html\n",
      "Please also refer to the documentation for alternative solver options:\n",
      "    https://scikit-learn.org/stable/modules/linear_model.html#logistic-regression\n",
      "  n_iter_i = _check_optimize_result(\n",
      "/home/jake/miniconda3/envs/data-science/lib/python3.8/site-packages/sklearn/linear_model/_logistic.py:814: ConvergenceWarning: lbfgs failed to converge (status=1):\n",
      "STOP: TOTAL NO. of ITERATIONS REACHED LIMIT.\n",
      "\n",
      "Increase the number of iterations (max_iter) or scale the data as shown in:\n",
      "    https://scikit-learn.org/stable/modules/preprocessing.html\n",
      "Please also refer to the documentation for alternative solver options:\n",
      "    https://scikit-learn.org/stable/modules/linear_model.html#logistic-regression\n",
      "  n_iter_i = _check_optimize_result(\n",
      "/home/jake/miniconda3/envs/data-science/lib/python3.8/site-packages/sklearn/linear_model/_logistic.py:814: ConvergenceWarning: lbfgs failed to converge (status=1):\n",
      "STOP: TOTAL NO. of ITERATIONS REACHED LIMIT.\n",
      "\n",
      "Increase the number of iterations (max_iter) or scale the data as shown in:\n",
      "    https://scikit-learn.org/stable/modules/preprocessing.html\n",
      "Please also refer to the documentation for alternative solver options:\n",
      "    https://scikit-learn.org/stable/modules/linear_model.html#logistic-regression\n",
      "  n_iter_i = _check_optimize_result(\n",
      "/home/jake/miniconda3/envs/data-science/lib/python3.8/site-packages/sklearn/linear_model/_logistic.py:814: ConvergenceWarning: lbfgs failed to converge (status=1):\n",
      "STOP: TOTAL NO. of ITERATIONS REACHED LIMIT.\n",
      "\n",
      "Increase the number of iterations (max_iter) or scale the data as shown in:\n",
      "    https://scikit-learn.org/stable/modules/preprocessing.html\n",
      "Please also refer to the documentation for alternative solver options:\n",
      "    https://scikit-learn.org/stable/modules/linear_model.html#logistic-regression\n",
      "  n_iter_i = _check_optimize_result(\n",
      "/home/jake/miniconda3/envs/data-science/lib/python3.8/site-packages/sklearn/linear_model/_logistic.py:814: ConvergenceWarning: lbfgs failed to converge (status=1):\n",
      "STOP: TOTAL NO. of ITERATIONS REACHED LIMIT.\n",
      "\n",
      "Increase the number of iterations (max_iter) or scale the data as shown in:\n",
      "    https://scikit-learn.org/stable/modules/preprocessing.html\n",
      "Please also refer to the documentation for alternative solver options:\n",
      "    https://scikit-learn.org/stable/modules/linear_model.html#logistic-regression\n",
      "  n_iter_i = _check_optimize_result(\n",
      "/home/jake/miniconda3/envs/data-science/lib/python3.8/site-packages/sklearn/linear_model/_logistic.py:814: ConvergenceWarning: lbfgs failed to converge (status=1):\n",
      "STOP: TOTAL NO. of ITERATIONS REACHED LIMIT.\n",
      "\n",
      "Increase the number of iterations (max_iter) or scale the data as shown in:\n",
      "    https://scikit-learn.org/stable/modules/preprocessing.html\n",
      "Please also refer to the documentation for alternative solver options:\n",
      "    https://scikit-learn.org/stable/modules/linear_model.html#logistic-regression\n",
      "  n_iter_i = _check_optimize_result(\n",
      "/home/jake/miniconda3/envs/data-science/lib/python3.8/site-packages/sklearn/linear_model/_logistic.py:814: ConvergenceWarning: lbfgs failed to converge (status=1):\n",
      "STOP: TOTAL NO. of ITERATIONS REACHED LIMIT.\n",
      "\n",
      "Increase the number of iterations (max_iter) or scale the data as shown in:\n",
      "    https://scikit-learn.org/stable/modules/preprocessing.html\n",
      "Please also refer to the documentation for alternative solver options:\n",
      "    https://scikit-learn.org/stable/modules/linear_model.html#logistic-regression\n",
      "  n_iter_i = _check_optimize_result(\n",
      "/home/jake/miniconda3/envs/data-science/lib/python3.8/site-packages/sklearn/linear_model/_logistic.py:814: ConvergenceWarning: lbfgs failed to converge (status=1):\n",
      "STOP: TOTAL NO. of ITERATIONS REACHED LIMIT.\n",
      "\n",
      "Increase the number of iterations (max_iter) or scale the data as shown in:\n",
      "    https://scikit-learn.org/stable/modules/preprocessing.html\n",
      "Please also refer to the documentation for alternative solver options:\n",
      "    https://scikit-learn.org/stable/modules/linear_model.html#logistic-regression\n",
      "  n_iter_i = _check_optimize_result(\n",
      "/home/jake/miniconda3/envs/data-science/lib/python3.8/site-packages/sklearn/linear_model/_logistic.py:814: ConvergenceWarning: lbfgs failed to converge (status=1):\n",
      "STOP: TOTAL NO. of ITERATIONS REACHED LIMIT.\n",
      "\n",
      "Increase the number of iterations (max_iter) or scale the data as shown in:\n",
      "    https://scikit-learn.org/stable/modules/preprocessing.html\n",
      "Please also refer to the documentation for alternative solver options:\n",
      "    https://scikit-learn.org/stable/modules/linear_model.html#logistic-regression\n",
      "  n_iter_i = _check_optimize_result(\n",
      "/home/jake/miniconda3/envs/data-science/lib/python3.8/site-packages/sklearn/linear_model/_logistic.py:814: ConvergenceWarning: lbfgs failed to converge (status=1):\n",
      "STOP: TOTAL NO. of ITERATIONS REACHED LIMIT.\n",
      "\n",
      "Increase the number of iterations (max_iter) or scale the data as shown in:\n",
      "    https://scikit-learn.org/stable/modules/preprocessing.html\n",
      "Please also refer to the documentation for alternative solver options:\n",
      "    https://scikit-learn.org/stable/modules/linear_model.html#logistic-regression\n",
      "  n_iter_i = _check_optimize_result(\n",
      "/home/jake/miniconda3/envs/data-science/lib/python3.8/site-packages/sklearn/linear_model/_logistic.py:814: ConvergenceWarning: lbfgs failed to converge (status=1):\n",
      "STOP: TOTAL NO. of ITERATIONS REACHED LIMIT.\n",
      "\n",
      "Increase the number of iterations (max_iter) or scale the data as shown in:\n",
      "    https://scikit-learn.org/stable/modules/preprocessing.html\n",
      "Please also refer to the documentation for alternative solver options:\n",
      "    https://scikit-learn.org/stable/modules/linear_model.html#logistic-regression\n",
      "  n_iter_i = _check_optimize_result(\n",
      "/home/jake/miniconda3/envs/data-science/lib/python3.8/site-packages/sklearn/linear_model/_logistic.py:814: ConvergenceWarning: lbfgs failed to converge (status=1):\n",
      "STOP: TOTAL NO. of ITERATIONS REACHED LIMIT.\n",
      "\n",
      "Increase the number of iterations (max_iter) or scale the data as shown in:\n",
      "    https://scikit-learn.org/stable/modules/preprocessing.html\n",
      "Please also refer to the documentation for alternative solver options:\n",
      "    https://scikit-learn.org/stable/modules/linear_model.html#logistic-regression\n",
      "  n_iter_i = _check_optimize_result(\n",
      "/home/jake/miniconda3/envs/data-science/lib/python3.8/site-packages/sklearn/linear_model/_logistic.py:814: ConvergenceWarning: lbfgs failed to converge (status=1):\n",
      "STOP: TOTAL NO. of ITERATIONS REACHED LIMIT.\n",
      "\n",
      "Increase the number of iterations (max_iter) or scale the data as shown in:\n",
      "    https://scikit-learn.org/stable/modules/preprocessing.html\n",
      "Please also refer to the documentation for alternative solver options:\n",
      "    https://scikit-learn.org/stable/modules/linear_model.html#logistic-regression\n",
      "  n_iter_i = _check_optimize_result(\n",
      "/home/jake/miniconda3/envs/data-science/lib/python3.8/site-packages/sklearn/linear_model/_logistic.py:814: ConvergenceWarning: lbfgs failed to converge (status=1):\n",
      "STOP: TOTAL NO. of ITERATIONS REACHED LIMIT.\n",
      "\n",
      "Increase the number of iterations (max_iter) or scale the data as shown in:\n",
      "    https://scikit-learn.org/stable/modules/preprocessing.html\n",
      "Please also refer to the documentation for alternative solver options:\n",
      "    https://scikit-learn.org/stable/modules/linear_model.html#logistic-regression\n",
      "  n_iter_i = _check_optimize_result(\n",
      "/home/jake/miniconda3/envs/data-science/lib/python3.8/site-packages/sklearn/linear_model/_logistic.py:814: ConvergenceWarning: lbfgs failed to converge (status=1):\n",
      "STOP: TOTAL NO. of ITERATIONS REACHED LIMIT.\n",
      "\n",
      "Increase the number of iterations (max_iter) or scale the data as shown in:\n",
      "    https://scikit-learn.org/stable/modules/preprocessing.html\n",
      "Please also refer to the documentation for alternative solver options:\n",
      "    https://scikit-learn.org/stable/modules/linear_model.html#logistic-regression\n",
      "  n_iter_i = _check_optimize_result(\n"
     ]
    }
   ],
   "source": [
    "with open('prediction_model.pkl', 'rb') as model:\n",
    "    prediction_model = pickle.load(model)"
   ]
  },
  {
   "cell_type": "code",
   "execution_count": null,
   "metadata": {},
   "outputs": [],
   "source": []
  }
 ],
 "metadata": {
  "interpreter": {
   "hash": "496d701c09bd200faf5a43ebc3c61dde3e6dfd19068c5afa6d90de8674a96c33"
  },
  "kernelspec": {
   "display_name": "Python 3 (ipykernel)",
   "language": "python",
   "name": "python3"
  },
  "language_info": {
   "codemirror_mode": {
    "name": "ipython",
    "version": 3
   },
   "file_extension": ".py",
   "mimetype": "text/x-python",
   "name": "python",
   "nbconvert_exporter": "python",
   "pygments_lexer": "ipython3",
   "version": "3.10.4"
  }
 },
 "nbformat": 4,
 "nbformat_minor": 2
}
