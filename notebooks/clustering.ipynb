{
 "cells": [
  {
   "cell_type": "markdown",
   "id": "fe10aa49",
   "metadata": {},
   "source": [
    "# Clustering"
   ]
  },
  {
   "cell_type": "markdown",
   "id": "fa746d68",
   "metadata": {},
   "source": [
    "## Packages"
   ]
  },
  {
   "cell_type": "code",
   "execution_count": 51,
   "id": "9e0c035f",
   "metadata": {},
   "outputs": [],
   "source": [
    "from pathlib import Path\n",
    "import numpy as np\n",
    "import pandas as pd\n",
    "import datetime\n",
    "\n",
    "import scipy.stats as stats\n",
    "from sklearn.cluster import KMeans\n",
    "\n",
    "import matplotlib.pyplot as plt\n",
    "import matplotlib.dates as mdates\n",
    "#from mpl_toolkits.basemap import Basemap\n",
    "import seaborn as sns"
   ]
  },
  {
   "cell_type": "markdown",
   "id": "826ca557",
   "metadata": {},
   "source": [
    "## Directory  creation and file management"
   ]
  },
  {
   "cell_type": "code",
   "execution_count": 52,
   "id": "3c90fbbe",
   "metadata": {},
   "outputs": [
    {
     "name": "stdout",
     "output_type": "stream",
     "text": [
      "/Volumes/GoogleDrive/My Drive/Dev/TrafficAccidents/data/accidents2019.csv\n",
      "/Volumes/GoogleDrive/My Drive/Dev/TrafficAccidents/data/casualties2019.csv\n",
      "/Volumes/GoogleDrive/My Drive/Dev/TrafficAccidents/data/vehicles2019.csv\n"
     ]
    },
    {
     "data": {
      "text/html": [
       "<div>\n",
       "<style scoped>\n",
       "    .dataframe tbody tr th:only-of-type {\n",
       "        vertical-align: middle;\n",
       "    }\n",
       "\n",
       "    .dataframe tbody tr th {\n",
       "        vertical-align: top;\n",
       "    }\n",
       "\n",
       "    .dataframe thead th {\n",
       "        text-align: right;\n",
       "    }\n",
       "</style>\n",
       "<table border=\"1\" class=\"dataframe\">\n",
       "  <thead>\n",
       "    <tr style=\"text-align: right;\">\n",
       "      <th></th>\n",
       "      <th>accident_index</th>\n",
       "      <th>longitude</th>\n",
       "      <th>latitude</th>\n",
       "      <th>police_force</th>\n",
       "      <th>accident_severity</th>\n",
       "      <th>number_of_vehicles</th>\n",
       "      <th>number_of_casualties</th>\n",
       "      <th>day_of_week</th>\n",
       "      <th>local_authority_(district)</th>\n",
       "      <th>local_authority_(highway)</th>\n",
       "      <th>...</th>\n",
       "      <th>lsoa_of_accident_location</th>\n",
       "      <th>district</th>\n",
       "      <th>converted_date</th>\n",
       "      <th>converted_time</th>\n",
       "      <th>sunrise</th>\n",
       "      <th>sunset</th>\n",
       "      <th>day_length</th>\n",
       "      <th>datetime</th>\n",
       "      <th>decimal_time</th>\n",
       "      <th>day_of_year</th>\n",
       "    </tr>\n",
       "  </thead>\n",
       "  <tbody>\n",
       "    <tr>\n",
       "      <th>0</th>\n",
       "      <td>2019010152270</td>\n",
       "      <td>-0.127949</td>\n",
       "      <td>51.436208</td>\n",
       "      <td>1</td>\n",
       "      <td>3</td>\n",
       "      <td>2</td>\n",
       "      <td>1</td>\n",
       "      <td>3</td>\n",
       "      <td>9</td>\n",
       "      <td>E09000022</td>\n",
       "      <td>...</td>\n",
       "      <td>E01003117</td>\n",
       "      <td>lambeth</td>\n",
       "      <td>2019-01-15</td>\n",
       "      <td>21:45:00</td>\n",
       "      <td>0 days 08:00:00</td>\n",
       "      <td>0 days 16:19:00</td>\n",
       "      <td>08:19:00</td>\n",
       "      <td>2019-01-15 21:45:00</td>\n",
       "      <td>21.750000</td>\n",
       "      <td>15</td>\n",
       "    </tr>\n",
       "    <tr>\n",
       "      <th>1</th>\n",
       "      <td>2019010157567</td>\n",
       "      <td>-0.123427</td>\n",
       "      <td>51.449310</td>\n",
       "      <td>1</td>\n",
       "      <td>3</td>\n",
       "      <td>2</td>\n",
       "      <td>2</td>\n",
       "      <td>3</td>\n",
       "      <td>9</td>\n",
       "      <td>E09000022</td>\n",
       "      <td>...</td>\n",
       "      <td>E01003023</td>\n",
       "      <td>lambeth</td>\n",
       "      <td>2019-01-15</td>\n",
       "      <td>08:42:00</td>\n",
       "      <td>0 days 08:00:00</td>\n",
       "      <td>0 days 16:19:00</td>\n",
       "      <td>08:19:00</td>\n",
       "      <td>2019-01-15 08:42:00</td>\n",
       "      <td>8.700000</td>\n",
       "      <td>15</td>\n",
       "    </tr>\n",
       "    <tr>\n",
       "      <th>2</th>\n",
       "      <td>2019010157732</td>\n",
       "      <td>-0.145106</td>\n",
       "      <td>51.461256</td>\n",
       "      <td>1</td>\n",
       "      <td>2</td>\n",
       "      <td>1</td>\n",
       "      <td>2</td>\n",
       "      <td>3</td>\n",
       "      <td>9</td>\n",
       "      <td>E09000022</td>\n",
       "      <td>...</td>\n",
       "      <td>E01003026</td>\n",
       "      <td>lambeth</td>\n",
       "      <td>2019-01-15</td>\n",
       "      <td>07:08:00</td>\n",
       "      <td>0 days 08:00:00</td>\n",
       "      <td>0 days 16:19:00</td>\n",
       "      <td>08:19:00</td>\n",
       "      <td>2019-01-15 07:08:00</td>\n",
       "      <td>7.133333</td>\n",
       "      <td>15</td>\n",
       "    </tr>\n",
       "    <tr>\n",
       "      <th>3</th>\n",
       "      <td>2019010157896</td>\n",
       "      <td>-0.240823</td>\n",
       "      <td>51.533125</td>\n",
       "      <td>1</td>\n",
       "      <td>3</td>\n",
       "      <td>2</td>\n",
       "      <td>1</td>\n",
       "      <td>3</td>\n",
       "      <td>28</td>\n",
       "      <td>E09000005</td>\n",
       "      <td>...</td>\n",
       "      <td>E01000535</td>\n",
       "      <td>brent</td>\n",
       "      <td>2019-01-15</td>\n",
       "      <td>21:05:00</td>\n",
       "      <td>0 days 08:00:00</td>\n",
       "      <td>0 days 16:19:00</td>\n",
       "      <td>08:19:00</td>\n",
       "      <td>2019-01-15 21:05:00</td>\n",
       "      <td>21.083333</td>\n",
       "      <td>15</td>\n",
       "    </tr>\n",
       "    <tr>\n",
       "      <th>4</th>\n",
       "      <td>2019010157795</td>\n",
       "      <td>0.161736</td>\n",
       "      <td>51.550272</td>\n",
       "      <td>1</td>\n",
       "      <td>3</td>\n",
       "      <td>1</td>\n",
       "      <td>1</td>\n",
       "      <td>3</td>\n",
       "      <td>16</td>\n",
       "      <td>E09000002</td>\n",
       "      <td>...</td>\n",
       "      <td>E01000035</td>\n",
       "      <td>barking and dagenham</td>\n",
       "      <td>2019-01-15</td>\n",
       "      <td>16:10:00</td>\n",
       "      <td>0 days 08:00:00</td>\n",
       "      <td>0 days 16:19:00</td>\n",
       "      <td>08:19:00</td>\n",
       "      <td>2019-01-15 16:10:00</td>\n",
       "      <td>16.166667</td>\n",
       "      <td>15</td>\n",
       "    </tr>\n",
       "  </tbody>\n",
       "</table>\n",
       "<p>5 rows × 37 columns</p>\n",
       "</div>"
      ],
      "text/plain": [
       "  accident_index  longitude   latitude  police_force  accident_severity  \\\n",
       "0  2019010152270  -0.127949  51.436208             1                  3   \n",
       "1  2019010157567  -0.123427  51.449310             1                  3   \n",
       "2  2019010157732  -0.145106  51.461256             1                  2   \n",
       "3  2019010157896  -0.240823  51.533125             1                  3   \n",
       "4  2019010157795   0.161736  51.550272             1                  3   \n",
       "\n",
       "   number_of_vehicles  number_of_casualties  day_of_week  \\\n",
       "0                   2                     1            3   \n",
       "1                   2                     2            3   \n",
       "2                   1                     2            3   \n",
       "3                   2                     1            3   \n",
       "4                   1                     1            3   \n",
       "\n",
       "   local_authority_(district) local_authority_(highway)  ...  \\\n",
       "0                           9                 E09000022  ...   \n",
       "1                           9                 E09000022  ...   \n",
       "2                           9                 E09000022  ...   \n",
       "3                          28                 E09000005  ...   \n",
       "4                          16                 E09000002  ...   \n",
       "\n",
       "   lsoa_of_accident_location              district  converted_date  \\\n",
       "0                  E01003117               lambeth      2019-01-15   \n",
       "1                  E01003023               lambeth      2019-01-15   \n",
       "2                  E01003026               lambeth      2019-01-15   \n",
       "3                  E01000535                 brent      2019-01-15   \n",
       "4                  E01000035  barking and dagenham      2019-01-15   \n",
       "\n",
       "   converted_time         sunrise          sunset  day_length  \\\n",
       "0        21:45:00 0 days 08:00:00 0 days 16:19:00    08:19:00   \n",
       "1        08:42:00 0 days 08:00:00 0 days 16:19:00    08:19:00   \n",
       "2        07:08:00 0 days 08:00:00 0 days 16:19:00    08:19:00   \n",
       "3        21:05:00 0 days 08:00:00 0 days 16:19:00    08:19:00   \n",
       "4        16:10:00 0 days 08:00:00 0 days 16:19:00    08:19:00   \n",
       "\n",
       "             datetime  decimal_time  day_of_year  \n",
       "0 2019-01-15 21:45:00     21.750000           15  \n",
       "1 2019-01-15 08:42:00      8.700000           15  \n",
       "2 2019-01-15 07:08:00      7.133333           15  \n",
       "3 2019-01-15 21:05:00     21.083333           15  \n",
       "4 2019-01-15 16:10:00     16.166667           15  \n",
       "\n",
       "[5 rows x 37 columns]"
      ]
     },
     "execution_count": 52,
     "metadata": {},
     "output_type": "execute_result"
    }
   ],
   "source": [
    "# creating Path object for current working directory\n",
    "cwd = Path('./')\n",
    "root = cwd.resolve().parent\n",
    "# creating Path object for additional data directory\n",
    "additional_data_dir = root / 'additional_data'\n",
    "# create new directory for additional data\n",
    "Path(additional_data_dir).mkdir(exist_ok=True)\n",
    "\n",
    "# creating Path object for plots directroy\n",
    "plots_dir = root / 'plots'\n",
    "# create new directory for plots\n",
    "Path(plots_dir).mkdir(exist_ok=True)\n",
    "\n",
    "# defining the directory to original data\n",
    "data_dir = root / 'data'\n",
    "additional_directory = root / 'additional_data'\n",
    "\n",
    "# list the .csv files for the project\n",
    "for file in data_dir.glob('*.csv'):\n",
    "    print(file)\n",
    "    \n",
    "# reading in .csv files to dataframes\n",
    "vehicles = pd.read_csv(data_dir / 'vehicles2019.csv', dtype={'Accident_Index': str})\n",
    "casualties = pd.read_csv(data_dir / 'casualties2019.csv', dtype={'Accident_Index': str})\n",
    "# cleaned accidents DataFrame\n",
    "accidents = pd.read_pickle(additional_data_dir / 'accidents_cleaned.pkl')\n",
    "\n",
    "# convert column names to lowercase for ease of indexing\n",
    "def lower_columns(df):\n",
    "    \"\"\"\n",
    "    Defintion:\n",
    "        convert column names to lower case\n",
    "    \"\"\"\n",
    "    df.columns = map(str.lower, df.columns)\n",
    "    \n",
    "# converting all column names to lower case\n",
    "lower_columns(vehicles)\n",
    "lower_columns(casualties)\n",
    "\n",
    "accidents.head(5)"
   ]
  },
  {
   "cell_type": "markdown",
   "id": "84237c49",
   "metadata": {},
   "source": [
    "## Clustering on location"
   ]
  },
  {
   "cell_type": "code",
   "execution_count": 53,
   "id": "737dec71",
   "metadata": {},
   "outputs": [],
   "source": [
    "coords = accidents.filter(['longitude', 'latitude'])\n",
    "coords.head(5)\n",
    "\n",
    "km = KMeans(n_clusters=25)\n",
    "\n",
    "centers = km.fit(coords).cluster_centers_\n",
    "\n",
    "# analysing kmeans clustering for different number of clusters\n",
    "inertias = {}\n",
    "\n",
    "for i in range(2, 26):\n",
    "    km = KMeans(n_clusters=i)\n",
    "    fit = km.fit(coords)\n",
    "    inertias[i] = fit.inertia_"
   ]
  },
  {
   "cell_type": "code",
   "execution_count": 54,
   "id": "c3999227",
   "metadata": {},
   "outputs": [
    {
     "data": {
      "text/plain": [
       "Text(0, 0.5, 'Inertia')"
      ]
     },
     "execution_count": 54,
     "metadata": {},
     "output_type": "execute_result"
    },
    {
     "data": {
      "image/png": "[encoded data removed]",
      "text/plain": [
       "<Figure size 432x432 with 1 Axes>"
      ]
     },
     "metadata": {
      "needs_background": "light"
     },
     "output_type": "display_data"
    }
   ],
   "source": [
    "fig = plt.subplots(figsize=(6,6))\n",
    "\n",
    "plt.plot(inertias.keys(), inertias.values())\n",
    "plt.xlabel('Number of clusters', fontsize=13)\n",
    "plt.ylabel('Inertia', fontsize=13)"
   ]
  },
  {
   "cell_type": "code",
   "execution_count": 48,
   "id": "a30abaf6",
   "metadata": {},
   "outputs": [
    {
     "ename": "NameError",
     "evalue": "name 'Basemap' is not defined",
     "output_type": "error",
     "traceback": [
      "\u001b[0;31m---------------------------------------------------------------------------\u001b[0m",
      "\u001b[0;31mNameError\u001b[0m                                 Traceback (most recent call last)",
      "Input \u001b[0;32mIn [48]\u001b[0m, in \u001b[0;36m<cell line: 7>\u001b[0;34m()\u001b[0m\n\u001b[1;32m      3\u001b[0m centers \u001b[38;5;241m=\u001b[39m \u001b[38;5;28mlist\u001b[39m(\u001b[38;5;28mzip\u001b[39m(\u001b[38;5;241m*\u001b[39mcenters))\n\u001b[1;32m      6\u001b[0m fig \u001b[38;5;241m=\u001b[39m plt\u001b[38;5;241m.\u001b[39mfigure(figsize\u001b[38;5;241m=\u001b[39m(\u001b[38;5;241m8\u001b[39m, \u001b[38;5;241m8\u001b[39m))\n\u001b[0;32m----> 7\u001b[0m m \u001b[38;5;241m=\u001b[39m \u001b[43mBasemap\u001b[49m(llcrnrlon\u001b[38;5;241m=\u001b[39m\u001b[38;5;241m-\u001b[39m\u001b[38;5;241m10.5\u001b[39m,llcrnrlat\u001b[38;5;241m=\u001b[39m\u001b[38;5;241m49.5\u001b[39m,urcrnrlon\u001b[38;5;241m=\u001b[39m\u001b[38;5;241m3.5\u001b[39m,urcrnrlat\u001b[38;5;241m=\u001b[39m\u001b[38;5;241m59.5\u001b[39m,\n\u001b[1;32m      8\u001b[0m             resolution\u001b[38;5;241m=\u001b[39m\u001b[38;5;124m'\u001b[39m\u001b[38;5;124mi\u001b[39m\u001b[38;5;124m'\u001b[39m,projection\u001b[38;5;241m=\u001b[39m\u001b[38;5;124m'\u001b[39m\u001b[38;5;124mtmerc\u001b[39m\u001b[38;5;124m'\u001b[39m,lon_0\u001b[38;5;241m=\u001b[39m\u001b[38;5;241m-\u001b[39m\u001b[38;5;241m4.36\u001b[39m,lat_0\u001b[38;5;241m=\u001b[39m\u001b[38;5;241m54.7\u001b[39m)\n\u001b[1;32m      9\u001b[0m m\u001b[38;5;241m.\u001b[39mshadedrelief()\n\u001b[1;32m     10\u001b[0m m\u001b[38;5;241m.\u001b[39mdrawcoastlines(color\u001b[38;5;241m=\u001b[39m\u001b[38;5;124m'\u001b[39m\u001b[38;5;124mgrey\u001b[39m\u001b[38;5;124m'\u001b[39m)\n",
      "\u001b[0;31mNameError\u001b[0m: name 'Basemap' is not defined"
     ]
    },
    {
     "data": {
      "text/plain": [
       "<Figure size 576x576 with 0 Axes>"
      ]
     },
     "metadata": {},
     "output_type": "display_data"
    }
   ],
   "source": [
    "km = KMeans(n_clusters=8)\n",
    "centers = km.fit(coords).cluster_centers_\n",
    "centers = list(zip(*centers))\n",
    "\n",
    "\n",
    "fig = plt.figure(figsize=(8, 8))\n",
    "m = Basemap(llcrnrlon=-10.5,llcrnrlat=49.5,urcrnrlon=3.5,urcrnrlat=59.5,\n",
    "            resolution='i',projection='tmerc',lon_0=-4.36,lat_0=54.7)\n",
    "m.shadedrelief()\n",
    "m.drawcoastlines(color='grey')\n",
    "m.drawcountries(color='gray')\n",
    "\n",
    "m.scatter(accidents.longitude, accidents.latitude,\n",
    "          latlon=True,\n",
    "          alpha=1,\n",
    "          s=1,\n",
    "          marker='o',\n",
    "          label='Accidents')\n",
    "\n",
    "m.scatter(centers[0], centers[1],\n",
    "          latlon=True,\n",
    "          alpha=1,\n",
    "          s=20,\n",
    "          color='cyan',\n",
    "          marker='o',\n",
    "          label='Cluster Centres')\n",
    "\n",
    "plt.legend(loc='upper left')\n",
    "\n",
    "fig.savefig(plots_dir / 'accident_clusters')"
   ]
  },
  {
   "cell_type": "markdown",
   "id": "ba7d79d7",
   "metadata": {},
   "source": [
    "## Clustering on weather conditions and speed limit"
   ]
  },
  {
   "cell_type": "code",
   "execution_count": 58,
   "id": "57a36914",
   "metadata": {},
   "outputs": [
    {
     "data": {
      "text/plain": [
       "Index(['accident_index', 'longitude', 'latitude', 'police_force',\n",
       "       'accident_severity', 'number_of_vehicles', 'number_of_casualties',\n",
       "       'day_of_week', 'local_authority_(district)',\n",
       "       'local_authority_(highway)', '1st_road_class', '1st_road_number',\n",
       "       'road_type', 'speed_limit', 'junction_detail', 'junction_control',\n",
       "       '2nd_road_class', '2nd_road_number',\n",
       "       'pedestrian_crossing-human_control',\n",
       "       'pedestrian_crossing-physical_facilities', 'light_conditions',\n",
       "       'weather_conditions', 'road_surface_conditions',\n",
       "       'special_conditions_at_site', 'carriageway_hazards',\n",
       "       'urban_or_rural_area', 'did_police_officer_attend_scene_of_accident',\n",
       "       'lsoa_of_accident_location', 'district', 'converted_date',\n",
       "       'converted_time', 'sunrise', 'sunset', 'day_length', 'datetime',\n",
       "       'decimal_time', 'day_of_year', 'vehicle_reference_x', 'vehicle_type',\n",
       "       'towing_and_articulation', 'vehicle_manoeuvre',\n",
       "       'vehicle_location-restricted_lane', 'junction_location',\n",
       "       'skidding_and_overturning', 'hit_object_in_carriageway',\n",
       "       'vehicle_leaving_carriageway', 'hit_object_off_carriageway',\n",
       "       '1st_point_of_impact', 'was_vehicle_left_hand_drive?',\n",
       "       'journey_purpose_of_driver', 'sex_of_driver', 'age_of_driver',\n",
       "       'age_band_of_driver', 'engine_capacity_(cc)', 'propulsion_code',\n",
       "       'age_of_vehicle', 'driver_imd_decile', 'driver_home_area_type',\n",
       "       'vehicle_imd_decile', 'vehicle_reference_y', 'casualty_reference',\n",
       "       'casualty_class', 'sex_of_casualty', 'age_of_casualty',\n",
       "       'age_band_of_casualty', 'casualty_severity', 'pedestrian_location',\n",
       "       'pedestrian_movement', 'car_passenger', 'bus_or_coach_passenger',\n",
       "       'pedestrian_road_maintenance_worker', 'casualty_type',\n",
       "       'casualty_home_area_type', 'casualty_imd_decile'],\n",
       "      dtype='object')"
      ]
     },
     "execution_count": 58,
     "metadata": {},
     "output_type": "execute_result"
    }
   ],
   "source": [
    "accidents_vehicles = pd.merge(accidents, vehicles, on='accident_index')\n",
    "avc = pd.merge(accidents_vehicles, casualties, on='accident_index')\n",
    "\n",
    "avc.columns"
   ]
  },
  {
   "cell_type": "code",
   "execution_count": 59,
   "id": "8e988354",
   "metadata": {},
   "outputs": [],
   "source": [
    "def clusterer(df, x_col, y_col, n_clusters=5):\n",
    "    df = df.filter([x_col, y_col])\n",
    "    \n",
    "    km = KMeans(n_clusters = n_clusters)\n",
    "    \n",
    "    centers = list(zip(*km.fit(df).cluster_centers_))\n",
    "    \n",
    "    plt.subplots(figsize=(4, 4))\n",
    "    \n",
    "    plt.scatter(df[x_col], df[y_col], s=0.2)\n",
    "    plt.scatter(centers[0], centers[1])\n",
    "    plt.ylabel(y_col, fontsize=13)\n",
    "    plt.xlabel(x_col, fontsize=13)\n",
    "    plt.xticks(range(1, 10))\n",
    "    \n",
    "    plt.show()"
   ]
  },
  {
   "cell_type": "code",
   "execution_count": 60,
   "id": "9d926339",
   "metadata": {},
   "outputs": [
    {
     "data": {
      "image/png": "[encoded data removed]",
      "text/plain": [
       "<Figure size 288x288 with 1 Axes>"
      ]
     },
     "metadata": {
      "needs_background": "light"
     },
     "output_type": "display_data"
    }
   ],
   "source": [
    "# clustering on age band of the driver and overturning\n",
    "clusterer(avc, 'age_band_of_driver', 'skidding_and_overturning')"
   ]
  },
  {
   "cell_type": "code",
   "execution_count": 61,
   "id": "9479a851",
   "metadata": {},
   "outputs": [
    {
     "data": {
      "image/png": "[encoded data removed]",
      "text/plain": [
       "<Figure size 288x288 with 1 Axes>"
      ]
     },
     "metadata": {
      "needs_background": "light"
     },
     "output_type": "display_data"
    }
   ],
   "source": [
    "# clustering on light conditions and skidding and overturning\n",
    "clusterer(avc, 'light_conditions', 'skidding_and_overturning')"
   ]
  },
  {
   "cell_type": "code",
   "execution_count": 62,
   "id": "e769b9b1",
   "metadata": {},
   "outputs": [
    {
     "data": {
      "image/png": "[encoded data removed]",
      "text/plain": [
       "<Figure size 288x288 with 1 Axes>"
      ]
     },
     "metadata": {
      "needs_background": "light"
     },
     "output_type": "display_data"
    }
   ],
   "source": [
    "# clustering on weather conditions and vehicle type\n",
    "clusterer(avc, 'weather_conditions', 'vehicle_type', 10)"
   ]
  },
  {
   "cell_type": "code",
   "execution_count": 63,
   "id": "9c5a538e",
   "metadata": {},
   "outputs": [
    {
     "data": {
      "image/png": "[encoded data removed]",
      "text/plain": [
       "<Figure size 288x288 with 1 Axes>"
      ]
     },
     "metadata": {
      "needs_background": "light"
     },
     "output_type": "display_data"
    }
   ],
   "source": [
    "# clustering on weather conditions and speed limit\n",
    "clusterer(avc, 'weather_conditions', 'speed_limit', 12)"
   ]
  },
  {
   "cell_type": "code",
   "execution_count": null,
   "id": "dc7c476a",
   "metadata": {},
   "outputs": [],
   "source": []
  }
 ],
 "metadata": {
  "kernelspec": {
   "display_name": "Python 3 (ipykernel)",
   "language": "python",
   "name": "python3"
  },
  "language_info": {
   "codemirror_mode": {
    "name": "ipython",
    "version": 3
   },
   "file_extension": ".py",
   "mimetype": "text/x-python",
   "name": "python",
   "nbconvert_exporter": "python",
   "pygments_lexer": "ipython3",
   "version": "3.10.4"
  }
 },
 "nbformat": 4,
 "nbformat_minor": 5
}
