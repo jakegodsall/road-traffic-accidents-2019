{
 "cells": [
  {
   "cell_type": "markdown",
   "metadata": {},
   "source": [
    "# Predictive Model\n",
    "\n",
    "This final notebook is assoicated with the __Predictive Model__ section of the report."
   ]
  },
  {
   "cell_type": "markdown",
   "metadata": {},
   "source": [
    "## Packages\n",
    "Importing all necessary packages to run the notebook"
   ]
  },
  {
   "cell_type": "code",
   "execution_count": 44,
   "metadata": {},
   "outputs": [],
   "source": [
    "# file manipualtion\n",
    "from pathlib import Path\n",
    "import numpy as np\n",
    "import pandas as pd\n",
    "import pickle\n",
    "\n",
    "# model selection\n",
    "from sklearn.model_selection import train_test_split\n",
    "from sklearn.model_selection import RepeatedStratifiedKFold\n",
    "from sklearn.model_selection import cross_validate, cross_val_score\n",
    "from sklearn.feature_selection import SelectKBest, chi2, f_classif, mutual_info_classif\n",
    "\n",
    "# balancing dataset\n",
    "from imblearn.over_sampling import SMOTE\n",
    "\n",
    "# stats\n",
    "from scipy.stats import pearsonr\n",
    "\n",
    "# models\n",
    "from sklearn.metrics import mean_squared_error\n",
    "from sklearn.linear_model import LogisticRegression\n",
    "from sklearn.neighbors import KNeighborsClassifier\n",
    "from sklearn.tree import DecisionTreeClassifier\n",
    "from sklearn.naive_bayes import MultinomialNB\n",
    "from sklearn.ensemble import RandomForestClassifier\n",
    "from sklearn.ensemble import StackingClassifier\n",
    "\n",
    "# visualistaion\n",
    "import matplotlib.pyplot as plt\n",
    "import seaborn as sns\n",
    "\n",
    "# warning supression\n",
    "from warnings import simplefilter\n",
    "from sklearn.exceptions import ConvergenceWarning\n",
    "simplefilter(\"ignore\", category=ConvergenceWarning)"
   ]
  },
  {
   "cell_type": "markdown",
   "metadata": {},
   "source": [
    "## Directory navigation and creation\n",
    "Creating pathlib.Path objects for cross-platform navigation and loading the three datasets into pandas DataFrame objects\n",
    "\n",
    "**Note:** here we import the cleaned accidents.pkl file"
   ]
  },
  {
   "cell_type": "code",
   "execution_count": 45,
   "metadata": {},
   "outputs": [
    {
     "name": "stdout",
     "output_type": "stream",
     "text": [
      "/Volumes/GoogleDrive/My Drive/Dev/TrafficAccidents/data/accidents2019.csv\n",
      "/Volumes/GoogleDrive/My Drive/Dev/TrafficAccidents/data/casualties2019.csv\n",
      "/Volumes/GoogleDrive/My Drive/Dev/TrafficAccidents/data/vehicles2019.csv\n"
     ]
    },
    {
     "data": {
      "text/html": [
       "<div>\n",
       "<style scoped>\n",
       "    .dataframe tbody tr th:only-of-type {\n",
       "        vertical-align: middle;\n",
       "    }\n",
       "\n",
       "    .dataframe tbody tr th {\n",
       "        vertical-align: top;\n",
       "    }\n",
       "\n",
       "    .dataframe thead th {\n",
       "        text-align: right;\n",
       "    }\n",
       "</style>\n",
       "<table border=\"1\" class=\"dataframe\">\n",
       "  <thead>\n",
       "    <tr style=\"text-align: right;\">\n",
       "      <th></th>\n",
       "      <th>accident_index</th>\n",
       "      <th>longitude</th>\n",
       "      <th>latitude</th>\n",
       "      <th>police_force</th>\n",
       "      <th>accident_severity</th>\n",
       "      <th>number_of_vehicles</th>\n",
       "      <th>number_of_casualties</th>\n",
       "      <th>day_of_week</th>\n",
       "      <th>local_authority_(district)</th>\n",
       "      <th>local_authority_(highway)</th>\n",
       "      <th>...</th>\n",
       "      <th>lsoa_of_accident_location</th>\n",
       "      <th>district</th>\n",
       "      <th>converted_date</th>\n",
       "      <th>converted_time</th>\n",
       "      <th>sunrise</th>\n",
       "      <th>sunset</th>\n",
       "      <th>day_length</th>\n",
       "      <th>datetime</th>\n",
       "      <th>decimal_time</th>\n",
       "      <th>day_of_year</th>\n",
       "    </tr>\n",
       "  </thead>\n",
       "  <tbody>\n",
       "    <tr>\n",
       "      <th>0</th>\n",
       "      <td>2019010128300</td>\n",
       "      <td>-0.153842</td>\n",
       "      <td>51.508057</td>\n",
       "      <td>1</td>\n",
       "      <td>3</td>\n",
       "      <td>2</td>\n",
       "      <td>3</td>\n",
       "      <td>2</td>\n",
       "      <td>1</td>\n",
       "      <td>E09000033</td>\n",
       "      <td>...</td>\n",
       "      <td>E01004762</td>\n",
       "      <td>westminster</td>\n",
       "      <td>2019-02-18</td>\n",
       "      <td>17:50:00</td>\n",
       "      <td>0 days 07:10:00</td>\n",
       "      <td>0 days 17:19:00</td>\n",
       "      <td>10:09:00</td>\n",
       "      <td>2019-02-18 17:50:00</td>\n",
       "      <td>17.833333</td>\n",
       "      <td>49</td>\n",
       "    </tr>\n",
       "    <tr>\n",
       "      <th>1</th>\n",
       "      <td>2019010164251</td>\n",
       "      <td>-0.141154</td>\n",
       "      <td>51.502191</td>\n",
       "      <td>1</td>\n",
       "      <td>3</td>\n",
       "      <td>1</td>\n",
       "      <td>2</td>\n",
       "      <td>2</td>\n",
       "      <td>1</td>\n",
       "      <td>E09000033</td>\n",
       "      <td>...</td>\n",
       "      <td>E01004736</td>\n",
       "      <td>westminster</td>\n",
       "      <td>2019-02-18</td>\n",
       "      <td>18:50:00</td>\n",
       "      <td>0 days 07:10:00</td>\n",
       "      <td>0 days 17:19:00</td>\n",
       "      <td>10:09:00</td>\n",
       "      <td>2019-02-18 18:50:00</td>\n",
       "      <td>18.833333</td>\n",
       "      <td>49</td>\n",
       "    </tr>\n",
       "    <tr>\n",
       "      <th>2</th>\n",
       "      <td>2019010164259</td>\n",
       "      <td>-0.174097</td>\n",
       "      <td>51.527663</td>\n",
       "      <td>1</td>\n",
       "      <td>3</td>\n",
       "      <td>2</td>\n",
       "      <td>1</td>\n",
       "      <td>2</td>\n",
       "      <td>1</td>\n",
       "      <td>E09000033</td>\n",
       "      <td>...</td>\n",
       "      <td>E01004728</td>\n",
       "      <td>westminster</td>\n",
       "      <td>2019-02-18</td>\n",
       "      <td>23:00:00</td>\n",
       "      <td>0 days 07:10:00</td>\n",
       "      <td>0 days 17:19:00</td>\n",
       "      <td>10:09:00</td>\n",
       "      <td>2019-02-18 23:00:00</td>\n",
       "      <td>23.000000</td>\n",
       "      <td>49</td>\n",
       "    </tr>\n",
       "    <tr>\n",
       "      <th>3</th>\n",
       "      <td>2019010164414</td>\n",
       "      <td>-0.163973</td>\n",
       "      <td>51.515931</td>\n",
       "      <td>1</td>\n",
       "      <td>3</td>\n",
       "      <td>2</td>\n",
       "      <td>1</td>\n",
       "      <td>2</td>\n",
       "      <td>1</td>\n",
       "      <td>E09000033</td>\n",
       "      <td>...</td>\n",
       "      <td>E01004658</td>\n",
       "      <td>westminster</td>\n",
       "      <td>2019-02-18</td>\n",
       "      <td>02:00:00</td>\n",
       "      <td>0 days 07:10:00</td>\n",
       "      <td>0 days 17:19:00</td>\n",
       "      <td>10:09:00</td>\n",
       "      <td>2019-02-18 02:00:00</td>\n",
       "      <td>2.000000</td>\n",
       "      <td>49</td>\n",
       "    </tr>\n",
       "    <tr>\n",
       "      <th>4</th>\n",
       "      <td>2019010164107</td>\n",
       "      <td>-0.103521</td>\n",
       "      <td>51.464277</td>\n",
       "      <td>1</td>\n",
       "      <td>3</td>\n",
       "      <td>1</td>\n",
       "      <td>1</td>\n",
       "      <td>2</td>\n",
       "      <td>9</td>\n",
       "      <td>E09000022</td>\n",
       "      <td>...</td>\n",
       "      <td>E01003051</td>\n",
       "      <td>lambeth</td>\n",
       "      <td>2019-02-18</td>\n",
       "      <td>08:00:00</td>\n",
       "      <td>0 days 07:10:00</td>\n",
       "      <td>0 days 17:19:00</td>\n",
       "      <td>10:09:00</td>\n",
       "      <td>2019-02-18 08:00:00</td>\n",
       "      <td>8.000000</td>\n",
       "      <td>49</td>\n",
       "    </tr>\n",
       "  </tbody>\n",
       "</table>\n",
       "<p>5 rows × 37 columns</p>\n",
       "</div>"
      ],
      "text/plain": [
       "  accident_index  longitude   latitude  police_force  accident_severity  \\\n",
       "0  2019010128300  -0.153842  51.508057             1                  3   \n",
       "1  2019010164251  -0.141154  51.502191             1                  3   \n",
       "2  2019010164259  -0.174097  51.527663             1                  3   \n",
       "3  2019010164414  -0.163973  51.515931             1                  3   \n",
       "4  2019010164107  -0.103521  51.464277             1                  3   \n",
       "\n",
       "   number_of_vehicles  number_of_casualties  day_of_week  \\\n",
       "0                   2                     3            2   \n",
       "1                   1                     2            2   \n",
       "2                   2                     1            2   \n",
       "3                   2                     1            2   \n",
       "4                   1                     1            2   \n",
       "\n",
       "   local_authority_(district) local_authority_(highway)  ...  \\\n",
       "0                           1                 E09000033  ...   \n",
       "1                           1                 E09000033  ...   \n",
       "2                           1                 E09000033  ...   \n",
       "3                           1                 E09000033  ...   \n",
       "4                           9                 E09000022  ...   \n",
       "\n",
       "   lsoa_of_accident_location     district  converted_date  converted_time  \\\n",
       "0                  E01004762  westminster      2019-02-18        17:50:00   \n",
       "1                  E01004736  westminster      2019-02-18        18:50:00   \n",
       "2                  E01004728  westminster      2019-02-18        23:00:00   \n",
       "3                  E01004658  westminster      2019-02-18        02:00:00   \n",
       "4                  E01003051      lambeth      2019-02-18        08:00:00   \n",
       "\n",
       "          sunrise          sunset  day_length            datetime  \\\n",
       "0 0 days 07:10:00 0 days 17:19:00    10:09:00 2019-02-18 17:50:00   \n",
       "1 0 days 07:10:00 0 days 17:19:00    10:09:00 2019-02-18 18:50:00   \n",
       "2 0 days 07:10:00 0 days 17:19:00    10:09:00 2019-02-18 23:00:00   \n",
       "3 0 days 07:10:00 0 days 17:19:00    10:09:00 2019-02-18 02:00:00   \n",
       "4 0 days 07:10:00 0 days 17:19:00    10:09:00 2019-02-18 08:00:00   \n",
       "\n",
       "   decimal_time  day_of_year  \n",
       "0     17.833333           49  \n",
       "1     18.833333           49  \n",
       "2     23.000000           49  \n",
       "3      2.000000           49  \n",
       "4      8.000000           49  \n",
       "\n",
       "[5 rows x 37 columns]"
      ]
     },
     "execution_count": 45,
     "metadata": {},
     "output_type": "execute_result"
    }
   ],
   "source": [
    "# creating Path object for current working directory\n",
    "cwd = Path('./')\n",
    "root = cwd.resolve().parent\n",
    "# creating Path object for additional data directory\n",
    "additional_data_dir = root / 'additional_data'\n",
    "# create new directory for additional data\n",
    "Path(additional_data_dir).mkdir(exist_ok=True)\n",
    "\n",
    "# creating Path object for plots directroy\n",
    "plots_dir = root / 'plots'\n",
    "# create new directory for plots\n",
    "Path(plots_dir).mkdir(exist_ok=True)\n",
    "\n",
    "# defining the directory to original data\n",
    "data_dir = root / 'data'\n",
    "additional_directory = root / 'additional_data'\n",
    "\n",
    "# list the .csv files for the project\n",
    "for file in data_dir.glob('*.csv'):\n",
    "    print(file)\n",
    "    \n",
    "# reading in .csv files to dataframes\n",
    "vehicles = pd.read_csv(data_dir / 'vehicles2019.csv', dtype={'Accident_Index': str})\n",
    "casualties = pd.read_csv(data_dir / 'casualties2019.csv', dtype={'Accident_Index': str})\n",
    "# cleaned accidents DataFrame\n",
    "accidents = pd.read_pickle(additional_data_dir / 'accidents_cleaned.pkl')\n",
    "\n",
    "# convert column names to lowercase for ease of indexing\n",
    "def lower_columns(df):\n",
    "    \"\"\"\n",
    "    Defintion:\n",
    "        convert column names to lower case\n",
    "    \"\"\"\n",
    "    df.columns = map(str.lower, df.columns)\n",
    "    \n",
    "# converting all column names to lower case\n",
    "lower_columns(vehicles)\n",
    "lower_columns(casualties)\n",
    "\n",
    "accidents.head(5)"
   ]
  },
  {
   "cell_type": "markdown",
   "metadata": {},
   "source": [
    "## Testing classification models"
   ]
  },
  {
   "cell_type": "code",
   "execution_count": 46,
   "metadata": {},
   "outputs": [
    {
     "data": {
      "text/plain": [
       "{'decision_tree': DecisionTreeClassifier(),\n",
       " 'knn': KNeighborsClassifier(),\n",
       " 'bayes': MultinomialNB(),\n",
       " 'rf': RandomForestClassifier()}"
      ]
     },
     "execution_count": 46,
     "metadata": {},
     "output_type": "execute_result"
    }
   ],
   "source": [
    "def get_models():\n",
    "    \"\"\"\n",
    "    Create a dictionary of the classification models to\n",
    "    be tested\n",
    "    \"\"\"\n",
    "    models = {}\n",
    "    models['decision_tree'] = DecisionTreeClassifier()\n",
    "    models['knn'] = KNeighborsClassifier()\n",
    "    models['bayes'] = MultinomialNB()\n",
    "    models['rf'] = RandomForestClassifier()\n",
    "    return models\n",
    "\n",
    "models = get_models()\n",
    "\n",
    "models"
   ]
  },
  {
   "cell_type": "code",
   "execution_count": 47,
   "metadata": {},
   "outputs": [
    {
     "data": {
      "text/plain": [
       "Index(['accident_index', 'longitude', 'latitude', 'police_force',\n",
       "       'accident_severity', 'number_of_vehicles', 'number_of_casualties',\n",
       "       'day_of_week', 'local_authority_(district)',\n",
       "       'local_authority_(highway)', '1st_road_class', '1st_road_number',\n",
       "       'road_type', 'speed_limit', 'junction_detail', 'junction_control',\n",
       "       '2nd_road_class', '2nd_road_number',\n",
       "       'pedestrian_crossing-human_control',\n",
       "       'pedestrian_crossing-physical_facilities', 'light_conditions',\n",
       "       'weather_conditions', 'road_surface_conditions',\n",
       "       'special_conditions_at_site', 'carriageway_hazards',\n",
       "       'urban_or_rural_area', 'did_police_officer_attend_scene_of_accident',\n",
       "       'lsoa_of_accident_location', 'district', 'converted_date',\n",
       "       'converted_time', 'sunrise', 'sunset', 'day_length', 'datetime',\n",
       "       'decimal_time', 'day_of_year', 'vehicle_reference_x', 'vehicle_type',\n",
       "       'towing_and_articulation', 'vehicle_manoeuvre',\n",
       "       'vehicle_location-restricted_lane', 'junction_location',\n",
       "       'skidding_and_overturning', 'hit_object_in_carriageway',\n",
       "       'vehicle_leaving_carriageway', 'hit_object_off_carriageway',\n",
       "       '1st_point_of_impact', 'was_vehicle_left_hand_drive?',\n",
       "       'journey_purpose_of_driver', 'sex_of_driver', 'age_of_driver',\n",
       "       'age_band_of_driver', 'engine_capacity_(cc)', 'propulsion_code',\n",
       "       'age_of_vehicle', 'driver_imd_decile', 'driver_home_area_type',\n",
       "       'vehicle_imd_decile', 'vehicle_reference_y', 'casualty_reference',\n",
       "       'casualty_class', 'sex_of_casualty', 'age_of_casualty',\n",
       "       'age_band_of_casualty', 'casualty_severity', 'pedestrian_location',\n",
       "       'pedestrian_movement', 'car_passenger', 'bus_or_coach_passenger',\n",
       "       'pedestrian_road_maintenance_worker', 'casualty_type',\n",
       "       'casualty_home_area_type', 'casualty_imd_decile'],\n",
       "      dtype='object')"
      ]
     },
     "execution_count": 47,
     "metadata": {},
     "output_type": "execute_result"
    }
   ],
   "source": [
    "# merge the three datasets\n",
    "accidents = pd.merge(accidents, vehicles, on='accident_index', how='left')\n",
    "accidents = pd.merge(accidents, casualties, on='accident_index', how='left')\n",
    "accidents.columns"
   ]
  },
  {
   "cell_type": "markdown",
   "metadata": {},
   "source": [
    "# Feature Selection"
   ]
  },
  {
   "cell_type": "markdown",
   "metadata": {},
   "source": [
    "### Test for columns with many values less than 0\n",
    "\n",
    "Any column with more than 10% of values being less than 0 is dropped."
   ]
  },
  {
   "cell_type": "code",
   "execution_count": 132,
   "metadata": {},
   "outputs": [
    {
     "name": "stdout",
     "output_type": "stream",
     "text": [
      "['junction_control', '2nd_road_class', 'special_conditions_at_site', 'carriageway_hazards', 'towing_and_articulation', 'vehicle_location-restricted_lane', 'skidding_and_overturning', 'hit_object_in_carriageway', 'vehicle_leaving_carriageway', 'hit_object_off_carriageway', 'propulsion_code', 'driver_home_area_type', 'casualty_home_area_type']\n"
     ]
    }
   ],
   "source": [
    "# exclude columns with non-numerical data types\n",
    "test = accidents.select_dtypes(exclude=['object', 'datetime64', 'timedelta64[ns]'])\n",
    "\n",
    "ratios = ((test < 0).sum() / test.sum()).to_dict()\n",
    "\n",
    "to_delete = []\n",
    "for k, v in ratios.items():\n",
    "    if v > 0.10:\n",
    "        to_delete.append(k)\n",
    "\n",
    "print(to_delete)"
   ]
  },
  {
   "cell_type": "code",
   "execution_count": 133,
   "metadata": {},
   "outputs": [],
   "source": [
    "# manually determine data type of features\n",
    "numeric = ['number_of_vehicles', 'number_of_casualties', 'age_of_driver',\n",
    "           'engine_capacity_(cc)', 'age_of_vehicle', 'age_of_casualty']\n",
    "\n",
    "binary = ['was_vehicle_left_hand_drive?', 'sex_of_driver', 'sex_of_casualty']\n",
    "\n",
    "nominal = ['1st_road_class', 'road_type', 'junction_detail', 'light_conditions',\n",
    "           'weather_conditions', 'road_surface_conditions',\n",
    "           'urban_or_rural_area',\n",
    "           'vehicle_type', 'vehicle_manoeuvre',\n",
    "           'junction_location', 'journey_purpose_of_driver', 'casualty_type']\n",
    "\n",
    "ordinal = ['speed_limit', 'day_of_week', 'day_of_year', 'age_band_of_driver', 'age_band_of_casualty']\n",
    "\n",
    "target = 'accident_severity'"
   ]
  },
  {
   "cell_type": "code",
   "execution_count": 261,
   "metadata": {},
   "outputs": [],
   "source": [
    "class FeatureSelection:\n",
    "\n",
    "    def __init__(self, df, cat_features, numeric_features, target):\n",
    "        self.df = df\n",
    "        self.cat_features = cat_features\n",
    "        self.numeric_features = numeric_features\n",
    "        self.target = target\n",
    "\n",
    "    def remove_negatives(self):\n",
    "        \"\"\"\n",
    "        Remove rows with any negative values for features in\n",
    "        the data members 'cat_features' and 'numeric_features'\n",
    "        \"\"\"\n",
    "        features = self.numeric_features + self.cat_features\n",
    "        filtered = self.df.filter(features + [self.target], axis=1)\n",
    "        filtered = filtered[(filtered > 0).all(1)]\n",
    "        return filtered\n",
    "\n",
    "    def get_feature_scores(self, k='all'):\n",
    "        \"\"\"\n",
    "        Return the 'KBest selected' columns and scores using\n",
    "        ANOVA\n",
    "        \"\"\"\n",
    "        filtered_dataset = self.remove_negatives()\n",
    "        features = self.cat_features + self.numeric_features\n",
    "        selector = SelectKBest(f_classif, k=k)\n",
    "        selector.fit(filtered_dataset[features], filtered_dataset[self.target])\n",
    "\n",
    "        cols = selector.get_support(indices=True)\n",
    "        p_values = selector.pvalues_\n",
    "\n",
    "        # dealing with 0 p-values\n",
    "        p_values = [0.1E-308 if (p == 0) else p for p in p_values]\n",
    "                \n",
    "        scores = -np.log10(p_values)\n",
    "        p_values = pd.Series(p_values, dtype='object')\n",
    "\n",
    "        return cols, scores\n",
    "    \n",
    "    def get_new_X(self):\n",
    "        \"\"\"\n",
    "        Get the transformed dataframe using only the columns\n",
    "        from get_feature_scores\n",
    "        \"\"\"\n",
    "        filtered_dataset = self.remove_negatives()\n",
    "        kbest_cols, _ = self.get_feature_scores(k=12)\n",
    "        target = self.target\n",
    "        target_i = filtered_dataset.columns.get_loc(self.target)\n",
    "        kbest_cols = np.append(kbest_cols, target_i)\n",
    "        new_df = filtered_dataset.iloc[:, kbest_cols]\n",
    "        \n",
    "        return new_df\n",
    "\n",
    "    def plot_features(self):\n",
    "        \"\"\"\n",
    "        Plot the scores determined from get_feature_scores\n",
    "        \"\"\"\n",
    "        fig, ax = plt.subplots(figsize=(8,8))\n",
    "        \n",
    "        # get the scores for all features\n",
    "        features, scores = self.get_feature_scores(k='all')\n",
    "        \n",
    "        # get the selected features\n",
    "        best_features, best_scores = self.get_feature_scores(k=12)\n",
    "        feature_bool = [True if f in best_features else False for f in features]\n",
    "        colours = []\n",
    "        for f in feature_bool:\n",
    "            if f:\n",
    "                colours.append('g')\n",
    "            else:\n",
    "                colours.append('b')\n",
    "                \n",
    "        ax.barh(range(len(features)), scores, color=colours)\n",
    "        ax.set_yticks(range(len(features)), self.cat_features + self.numeric_features,)\n",
    "        ax.set_xlabel(\"Score\", fontsize=13)\n",
    "        \n",
    "        # added legend\n",
    "        colours = {'Selected': 'g', 'Ignored': 'b'}\n",
    "        labels = list(colours.keys())\n",
    "        handles = [plt.Rectangle((0,0),1,1, color=colours[label]) for label in labels]\n",
    "        ax.legend(handles, labels)\n",
    "        \n",
    "        \n",
    "        return ax    \n",
    "\n",
    "fs = FeatureSelection(accidents, nominal+ordinal+binary, numeric, target)\n",
    "\n",
    "filtered = fs.get_new_X()"
   ]
  },
  {
   "cell_type": "code",
   "execution_count": 262,
   "metadata": {},
   "outputs": [
    {
     "data": {
      "image/png": "[encoded data removed]",
      "text/plain": [
       "<Figure size 576x576 with 1 Axes>"
      ]
     },
     "metadata": {
      "needs_background": "light"
     },
     "output_type": "display_data"
    }
   ],
   "source": [
    "feature_plot = fs.plot_features()\n",
    "feature_plot.figure.savefig(plots_dir / 'feature_plot')"
   ]
  },
  {
   "cell_type": "code",
   "execution_count": 201,
   "metadata": {},
   "outputs": [
    {
     "data": {
      "text/plain": [
       "Index(['number_of_casualties', '1st_road_class', 'junction_detail',\n",
       "       'urban_or_rural_area', 'junction_location', 'journey_purpose_of_driver',\n",
       "       'speed_limit', 'day_of_week', 'day_of_year', 'age_band_of_driver',\n",
       "       'age_band_of_casualty', 'sex_of_casualty', 'accident_severity'],\n",
       "      dtype='object')"
      ]
     },
     "execution_count": 201,
     "metadata": {},
     "output_type": "execute_result"
    }
   ],
   "source": [
    "filtered.columns"
   ]
  },
  {
   "cell_type": "markdown",
   "metadata": {},
   "source": [
    "# Constructing the model\n",
    "\n",
    "Determining the number of samples remaining:"
   ]
  },
  {
   "cell_type": "code",
   "execution_count": 53,
   "metadata": {},
   "outputs": [
    {
     "name": "stdout",
     "output_type": "stream",
     "text": [
      "Number of samples in filtered dataset: 98654\n",
      "Number of samples in the original dataset: 295579\n",
      "Proportion of samples remaining: 33.38%\n"
     ]
    }
   ],
   "source": [
    "print(f\"Number of samples in filtered dataset: {filtered.shape[0]}\")\n",
    "print(f\"Number of samples in the original dataset: {accidents.shape[0]}\")\n",
    "print(f\"Proportion of samples remaining: {100 * filtered.shape[0] / accidents.shape[0]:.2f}%\")"
   ]
  },
  {
   "cell_type": "markdown",
   "metadata": {},
   "source": [
    "We see that the model is heavily imbalanced towards accident_severity label 3. \n",
    "\n",
    "Hence, SMOTE oversampling should be used to balance the training data for more accurate training."
   ]
  },
  {
   "cell_type": "code",
   "execution_count": 54,
   "metadata": {},
   "outputs": [
    {
     "data": {
      "text/plain": [
       "3    78790\n",
       "2    18501\n",
       "1     1363\n",
       "Name: accident_severity, dtype: int64"
      ]
     },
     "execution_count": 54,
     "metadata": {},
     "output_type": "execute_result"
    }
   ],
   "source": [
    "filtered.accident_severity.value_counts()"
   ]
  },
  {
   "cell_type": "markdown",
   "metadata": {},
   "source": [
    "Splitting the data into a 3:1 train/test ratio"
   ]
  },
  {
   "cell_type": "code",
   "execution_count": 55,
   "metadata": {},
   "outputs": [
    {
     "name": "stdout",
     "output_type": "stream",
     "text": [
      "X_train shape: (51793, 12)\n",
      "y_train shape: (51793,)\n",
      "X_val shape: (22197, 12)\n",
      "y_val shape: (22197,)\n",
      "X_test shape: (24664, 12)\n",
      "y_test shape: (24664,)\n"
     ]
    }
   ],
   "source": [
    "X_data = filtered.iloc[:, :-1]\n",
    "y_data = filtered.iloc[:, -1]\n",
    "\n",
    "# splitting into train and test sets\n",
    "X_train, X_test, y_train, y_test = train_test_split(X_data, y_data, test_size=0.25)\n",
    "X_train, X_val, y_train, y_val = train_test_split(X_train, y_train, test_size=0.3)\n",
    "\n",
    "# data set shapes\n",
    "print(f\"X_train shape: {X_train.shape}\")\n",
    "print(f\"y_train shape: {y_train.shape}\")\n",
    "print(f\"X_val shape: {X_val.shape}\")\n",
    "print(f\"y_val shape: {y_val.shape}\")\n",
    "print(f\"X_test shape: {X_test.shape}\")\n",
    "print(f\"y_test shape: {y_test.shape}\")"
   ]
  },
  {
   "cell_type": "code",
   "execution_count": 56,
   "metadata": {},
   "outputs": [
    {
     "name": "stdout",
     "output_type": "stream",
     "text": [
      "Shapes prior to over-sampling: \n",
      "\n",
      "X_train shape: (51793, 12)\n",
      "y_train shape: (51793,)\n",
      "\n",
      "\n",
      "Shapes after over-sampling: \n",
      "\n",
      "X_train shape: (124077, 12)\n",
      "y_train shape: (124077,)\n"
     ]
    }
   ],
   "source": [
    "print(\"Shapes prior to over-sampling: \\n\")\n",
    "print(f\"X_train shape: {X_train.shape}\")\n",
    "print(f\"y_train shape: {y_train.shape}\")\n",
    "\n",
    "oversample = SMOTE()\n",
    "X_train, y_train = oversample.fit_resample(X_train, y_train)\n",
    "\n",
    "print(\"\\n\\nShapes after over-sampling: \\n\")\n",
    "print(f\"X_train shape: {X_train.shape}\")\n",
    "print(f\"y_train shape: {y_train.shape}\")"
   ]
  },
  {
   "cell_type": "code",
   "execution_count": 57,
   "metadata": {},
   "outputs": [
    {
     "name": "stdout",
     "output_type": "stream",
     "text": [
      "Label ratio after over-sampling\n"
     ]
    },
    {
     "data": {
      "text/plain": [
       "3    41359\n",
       "2    41359\n",
       "1    41359\n",
       "Name: accident_severity, dtype: int64"
      ]
     },
     "execution_count": 57,
     "metadata": {},
     "output_type": "execute_result"
    }
   ],
   "source": [
    "print(\"Label ratio after over-sampling\")\n",
    "y_train.value_counts()"
   ]
  },
  {
   "cell_type": "markdown",
   "metadata": {},
   "source": [
    "#### Evaluate model\n",
    "\n",
    "Here we use a repeated stratified k-fold cross-validation method, so that the training data is split into k folds with equal proportions per label. Each k-1 folds are evaluated using the final fold as validation, and the process is repeated three times, hence repeated stratified k-fold."
   ]
  },
  {
   "cell_type": "markdown",
   "metadata": {},
   "source": [
    "### Training all models in the models dictionary"
   ]
  },
  {
   "cell_type": "code",
   "execution_count": 58,
   "metadata": {},
   "outputs": [],
   "source": [
    "def evaluate_model(model, X, y):\n",
    "    \"\"\"\n",
    "    Evaluate the models using a repeated stratified\n",
    "    k-fold with 10 splits and 3 repeats\n",
    "    \"\"\"\n",
    "    cv = RepeatedStratifiedKFold(n_splits=10,\n",
    "                                 n_repeats=3,\n",
    "                                 random_state=1)\n",
    "    scores = cross_val_score(model, X, y,\n",
    "                             scoring='accuracy',\n",
    "                             cv=cv,\n",
    "                             n_jobs=-1,\n",
    "                             error_score='raise')\n",
    "    return scores"
   ]
  },
  {
   "cell_type": "code",
   "execution_count": 59,
   "metadata": {},
   "outputs": [
    {
     "name": "stdout",
     "output_type": "stream",
     "text": [
      "decision_tree 0.8719, 0.0025\n",
      "knn 0.8544, 0.0027\n",
      "bayes 0.4067, 0.0046\n",
      "rf 0.9152, 0.0029\n"
     ]
    }
   ],
   "source": [
    "results, names, summary_results = [], [], []\n",
    "for name, model in models.items():\n",
    "    scores = evaluate_model(model, X_train, y_train)\n",
    "    results.append(scores)\n",
    "    names.append(name)\n",
    "    summary_results.append({name: {'mean': np.mean(scores), 'std': np.std(scores)}})\n",
    "    print(f\"{name} {np.mean(scores):.4f}, {np.std(scores):.4f}\")"
   ]
  },
  {
   "cell_type": "markdown",
   "metadata": {},
   "source": [
    "A random forest model has reached the highest cross-validated score, reaching 92.62%"
   ]
  },
  {
   "cell_type": "code",
   "execution_count": 60,
   "metadata": {},
   "outputs": [
    {
     "name": "stdout",
     "output_type": "stream",
     "text": [
      "          0         1         2         3\n",
      "0  0.871926  0.854416  0.406718  0.915241\n",
      "1  0.002535  0.002730  0.004561  0.002863\n"
     ]
    },
    {
     "data": {
      "text/html": [
       "<div>\n",
       "<style scoped>\n",
       "    .dataframe tbody tr th:only-of-type {\n",
       "        vertical-align: middle;\n",
       "    }\n",
       "\n",
       "    .dataframe tbody tr th {\n",
       "        vertical-align: top;\n",
       "    }\n",
       "\n",
       "    .dataframe thead th {\n",
       "        text-align: right;\n",
       "    }\n",
       "</style>\n",
       "<table border=\"1\" class=\"dataframe\">\n",
       "  <thead>\n",
       "    <tr style=\"text-align: right;\">\n",
       "      <th></th>\n",
       "      <th>decision_tree</th>\n",
       "      <th>knn</th>\n",
       "      <th>bayes</th>\n",
       "      <th>rf</th>\n",
       "    </tr>\n",
       "  </thead>\n",
       "  <tbody>\n",
       "    <tr>\n",
       "      <th>mean</th>\n",
       "      <td>0.871926</td>\n",
       "      <td>0.854416</td>\n",
       "      <td>0.406718</td>\n",
       "      <td>0.915241</td>\n",
       "    </tr>\n",
       "    <tr>\n",
       "      <th>std</th>\n",
       "      <td>0.002535</td>\n",
       "      <td>0.002730</td>\n",
       "      <td>0.004561</td>\n",
       "      <td>0.002863</td>\n",
       "    </tr>\n",
       "  </tbody>\n",
       "</table>\n",
       "</div>"
      ],
      "text/plain": [
       "      decision_tree       knn     bayes        rf\n",
       "mean       0.871926  0.854416  0.406718  0.915241\n",
       "std        0.002535  0.002730  0.004561  0.002863"
      ]
     },
     "execution_count": 60,
     "metadata": {},
     "output_type": "execute_result"
    }
   ],
   "source": [
    "summary_stats = []\n",
    "for i in results:\n",
    "    summary_stats.append([i.mean(), i.std()])\n",
    "    \n",
    "    \n",
    "summary_stats = pd.DataFrame(summary_stats).T\n",
    "print(summary_stats)\n",
    "summary_stats.columns = names\n",
    "summary_stats.index = ['mean', 'std']\n",
    "\n",
    "summary_stats"
   ]
  },
  {
   "cell_type": "code",
   "execution_count": 61,
   "metadata": {},
   "outputs": [
    {
     "data": {
      "text/plain": [
       "[array([0.87298517, 0.87177627, 0.8726628 , 0.8691167 , 0.87088975,\n",
       "        0.86943907, 0.86750484, 0.87216894, 0.87313613, 0.87507052,\n",
       "        0.87048678, 0.87088975, 0.87097034, 0.87467763, 0.87677305,\n",
       "        0.86605416, 0.87314636, 0.87216894, 0.86934795, 0.87434513,\n",
       "        0.87508059, 0.86992263, 0.87137331, 0.87185687, 0.86758543,\n",
       "        0.87290458, 0.8762089 , 0.87305553, 0.87152414, 0.87466753]),\n",
       " array([0.85251451, 0.85195035, 0.8537234 , 0.85323985, 0.85082205,\n",
       "        0.85751128, 0.85033849, 0.85435641, 0.8570162 , 0.8574998 ,\n",
       "        0.8525951 , 0.85356222, 0.85831721, 0.85364281, 0.85332044,\n",
       "        0.85525467, 0.85815603, 0.85943419, 0.84758604, 0.85459821,\n",
       "        0.85759188, 0.85573823, 0.85114442, 0.85654417, 0.85082205,\n",
       "        0.85420696, 0.85589942, 0.8565326 , 0.85322802, 0.85532361]),\n",
       " array([0.41070277, 0.39708253, 0.40707608, 0.40425532, 0.41247582,\n",
       "        0.41207286, 0.40989684, 0.40219231, 0.41097767, 0.40090272,\n",
       "        0.40385235, 0.41126692, 0.41005803, 0.40312701, 0.40755964,\n",
       "        0.40264346, 0.41126692, 0.40839848, 0.4057387 , 0.4038849 ,\n",
       "        0.40578659, 0.41537718, 0.39804965, 0.40820438, 0.3997421 ,\n",
       "        0.40393295, 0.41013862, 0.40799549, 0.41250907, 0.4043685 ]),\n",
       " array([0.91336235, 0.91312057, 0.91376531, 0.90989684, 0.91827853,\n",
       "        0.92021277, 0.91118633, 0.91496736, 0.91940034, 0.91472556,\n",
       "        0.90909091, 0.91424887, 0.9198098 , 0.91441006, 0.91545777,\n",
       "        0.91561896, 0.9210187 , 0.91545096, 0.91303297, 0.91649875,\n",
       "        0.9174726 , 0.91424887, 0.91481302, 0.91449065, 0.91360413,\n",
       "        0.91223404, 0.91594133, 0.91432256, 0.91778835, 0.91875554])]"
      ]
     },
     "execution_count": 61,
     "metadata": {},
     "output_type": "execute_result"
    }
   ],
   "source": [
    "results"
   ]
  },
  {
   "cell_type": "code",
   "execution_count": 62,
   "metadata": {},
   "outputs": [
    {
     "data": {
      "image/png": "[encoded data removed]",
      "text/plain": [
       "<Figure size 432x288 with 1 Axes>"
      ]
     },
     "metadata": {
      "needs_background": "light"
     },
     "output_type": "display_data"
    }
   ],
   "source": [
    "model_plot = sns.boxplot(data=results[:2] + results[3:], orient='h')\n",
    "model_plot.yaxis.set_ticklabels(['Decision Tree', 'KNN',\n",
    "                                 'Random Forest'])\n",
    "\n",
    "model_plot.set_ylabel('Models')\n",
    "model_plot.set_xlabel('Accuracy')\n",
    "\n",
    "model_plot.figure.savefig(plots_dir / 'model_plot', bbox_inches='tight')"
   ]
  },
  {
   "cell_type": "markdown",
   "metadata": {},
   "source": [
    "## Fitting the model"
   ]
  },
  {
   "cell_type": "code",
   "execution_count": 63,
   "metadata": {},
   "outputs": [
    {
     "data": {
      "text/plain": [
       "RandomForestClassifier()"
      ]
     },
     "execution_count": 63,
     "metadata": {},
     "output_type": "execute_result"
    }
   ],
   "source": [
    "rf_model = models['rf']\n",
    "\n",
    "rf_model.fit(X_train, y_train)"
   ]
  },
  {
   "cell_type": "code",
   "execution_count": 64,
   "metadata": {},
   "outputs": [
    {
     "data": {
      "text/plain": [
       "0.8221699643204671"
      ]
     },
     "execution_count": 64,
     "metadata": {},
     "output_type": "execute_result"
    }
   ],
   "source": [
    "rf_model.score(X_test, y_test)"
   ]
  },
  {
   "cell_type": "markdown",
   "metadata": {},
   "source": [
    "## Saving model for later use"
   ]
  },
  {
   "cell_type": "code",
   "execution_count": 65,
   "metadata": {},
   "outputs": [],
   "source": [
    "filename = 'prediction_model.pkl'\n",
    "pickle.dump(rf_model, open(filename, 'wb'))"
   ]
  },
  {
   "cell_type": "markdown",
   "metadata": {},
   "source": [
    "Reopening model using pickle package."
   ]
  },
  {
   "cell_type": "code",
   "execution_count": 66,
   "metadata": {},
   "outputs": [],
   "source": [
    "with open('prediction_model.pkl', 'rb') as model:\n",
    "    prediction_model = pickle.load(model)"
   ]
  },
  {
   "cell_type": "markdown",
   "metadata": {},
   "source": [
    "## Comparing to the government model"
   ]
  },
  {
   "cell_type": "code",
   "execution_count": 67,
   "metadata": {},
   "outputs": [
    {
     "data": {
      "text/html": [
       "<div>\n",
       "<style scoped>\n",
       "    .dataframe tbody tr th:only-of-type {\n",
       "        vertical-align: middle;\n",
       "    }\n",
       "\n",
       "    .dataframe tbody tr th {\n",
       "        vertical-align: top;\n",
       "    }\n",
       "\n",
       "    .dataframe thead th {\n",
       "        text-align: right;\n",
       "    }\n",
       "</style>\n",
       "<table border=\"1\" class=\"dataframe\">\n",
       "  <thead>\n",
       "    <tr style=\"text-align: right;\">\n",
       "      <th></th>\n",
       "      <th>accident_index</th>\n",
       "      <th>Adjusted_Serious</th>\n",
       "      <th>Adjusted_Slight</th>\n",
       "    </tr>\n",
       "  </thead>\n",
       "  <tbody>\n",
       "    <tr>\n",
       "      <th>0</th>\n",
       "      <td>200401BS00001</td>\n",
       "      <td>0.239280</td>\n",
       "      <td>0.760720</td>\n",
       "    </tr>\n",
       "    <tr>\n",
       "      <th>1</th>\n",
       "      <td>200401BS00002</td>\n",
       "      <td>1.000000</td>\n",
       "      <td>0.000000</td>\n",
       "    </tr>\n",
       "    <tr>\n",
       "      <th>2</th>\n",
       "      <td>200401BS00003</td>\n",
       "      <td>0.057141</td>\n",
       "      <td>0.942859</td>\n",
       "    </tr>\n",
       "    <tr>\n",
       "      <th>3</th>\n",
       "      <td>200401BS00003</td>\n",
       "      <td>0.048599</td>\n",
       "      <td>0.951401</td>\n",
       "    </tr>\n",
       "    <tr>\n",
       "      <th>4</th>\n",
       "      <td>200401BS00004</td>\n",
       "      <td>0.187000</td>\n",
       "      <td>0.813000</td>\n",
       "    </tr>\n",
       "  </tbody>\n",
       "</table>\n",
       "</div>"
      ],
      "text/plain": [
       "  accident_index  Adjusted_Serious  Adjusted_Slight\n",
       "0  200401BS00001          0.239280         0.760720\n",
       "1  200401BS00002          1.000000         0.000000\n",
       "2  200401BS00003          0.057141         0.942859\n",
       "3  200401BS00003          0.048599         0.951401\n",
       "4  200401BS00004          0.187000         0.813000"
      ]
     },
     "execution_count": 67,
     "metadata": {},
     "output_type": "execute_result"
    }
   ],
   "source": [
    "# load the government model into memory and store in a DataFrame\n",
    "gov_model = pd.read_csv(additional_data_dir / 'cas_adjustment.csv')\n",
    "# filter for the required features\n",
    "gov_model = gov_model.filter(['accident_index', 'Adjusted_Serious', 'Adjusted_Slight'])\n",
    "\n",
    "gov_model.head(5)"
   ]
  },
  {
   "cell_type": "code",
   "execution_count": 68,
   "metadata": {},
   "outputs": [
    {
     "name": "stdout",
     "output_type": "stream",
     "text": [
      "(22197, 13)\n"
     ]
    }
   ],
   "source": [
    "# determine the probabilities of the classification model\n",
    "X_val = X_val.join(accidents.accident_index)\n",
    "probabilities = rf_model.predict_proba(X_val.drop('accident_index', axis=1))\n",
    "class_labels = rf_model.classes_\n",
    "\n",
    "# store in a DataFrame\n",
    "probabilities = pd.DataFrame(probabilities, columns=class_labels)\n",
    "probabilities.columns = ['fatal', 'serious', 'slight']\n",
    "\n",
    "probabilities.head(5)\n",
    "print(X_val.shape)"
   ]
  },
  {
   "cell_type": "code",
   "execution_count": 69,
   "metadata": {},
   "outputs": [],
   "source": [
    "# merge the probabilities with accident index\n",
    "validation_aindex = X_val.accident_index\n",
    "validation_data = validation_aindex.reset_index()\n",
    "\n",
    "probabilities = validation_data.join(probabilities)"
   ]
  },
  {
   "cell_type": "code",
   "execution_count": 70,
   "metadata": {
    "scrolled": true
   },
   "outputs": [
    {
     "data": {
      "text/html": [
       "<div>\n",
       "<style scoped>\n",
       "    .dataframe tbody tr th:only-of-type {\n",
       "        vertical-align: middle;\n",
       "    }\n",
       "\n",
       "    .dataframe tbody tr th {\n",
       "        vertical-align: top;\n",
       "    }\n",
       "\n",
       "    .dataframe thead th {\n",
       "        text-align: right;\n",
       "    }\n",
       "</style>\n",
       "<table border=\"1\" class=\"dataframe\">\n",
       "  <thead>\n",
       "    <tr style=\"text-align: right;\">\n",
       "      <th></th>\n",
       "      <th>index</th>\n",
       "      <th>accident_index</th>\n",
       "      <th>fatal</th>\n",
       "      <th>serious</th>\n",
       "      <th>slight</th>\n",
       "      <th>Adjusted_Serious</th>\n",
       "      <th>Adjusted_Slight</th>\n",
       "    </tr>\n",
       "  </thead>\n",
       "  <tbody>\n",
       "    <tr>\n",
       "      <th>0</th>\n",
       "      <td>12967</td>\n",
       "      <td>201997GK00701</td>\n",
       "      <td>0.00</td>\n",
       "      <td>0.01</td>\n",
       "      <td>0.99</td>\n",
       "      <td>0.048938</td>\n",
       "      <td>0.951062</td>\n",
       "    </tr>\n",
       "    <tr>\n",
       "      <th>1</th>\n",
       "      <td>244790</td>\n",
       "      <td>201906K264764</td>\n",
       "      <td>0.01</td>\n",
       "      <td>0.16</td>\n",
       "      <td>0.83</td>\n",
       "      <td>0.064815</td>\n",
       "      <td>0.935185</td>\n",
       "    </tr>\n",
       "    <tr>\n",
       "      <th>2</th>\n",
       "      <td>116338</td>\n",
       "      <td>2019545449919</td>\n",
       "      <td>0.02</td>\n",
       "      <td>0.51</td>\n",
       "      <td>0.47</td>\n",
       "      <td>0.072856</td>\n",
       "      <td>0.927144</td>\n",
       "    </tr>\n",
       "    <tr>\n",
       "      <th>3</th>\n",
       "      <td>116338</td>\n",
       "      <td>2019545449919</td>\n",
       "      <td>0.02</td>\n",
       "      <td>0.51</td>\n",
       "      <td>0.47</td>\n",
       "      <td>1.000000</td>\n",
       "      <td>0.000000</td>\n",
       "    </tr>\n",
       "    <tr>\n",
       "      <th>4</th>\n",
       "      <td>116337</td>\n",
       "      <td>2019545449919</td>\n",
       "      <td>0.02</td>\n",
       "      <td>0.51</td>\n",
       "      <td>0.47</td>\n",
       "      <td>0.072856</td>\n",
       "      <td>0.927144</td>\n",
       "    </tr>\n",
       "    <tr>\n",
       "      <th>...</th>\n",
       "      <td>...</td>\n",
       "      <td>...</td>\n",
       "      <td>...</td>\n",
       "      <td>...</td>\n",
       "      <td>...</td>\n",
       "      <td>...</td>\n",
       "      <td>...</td>\n",
       "    </tr>\n",
       "    <tr>\n",
       "      <th>42852</th>\n",
       "      <td>196997</td>\n",
       "      <td>2019530879457</td>\n",
       "      <td>0.00</td>\n",
       "      <td>0.31</td>\n",
       "      <td>0.69</td>\n",
       "      <td>0.000000</td>\n",
       "      <td>1.000000</td>\n",
       "    </tr>\n",
       "    <tr>\n",
       "      <th>42853</th>\n",
       "      <td>138359</td>\n",
       "      <td>2019010191269</td>\n",
       "      <td>0.00</td>\n",
       "      <td>0.73</td>\n",
       "      <td>0.27</td>\n",
       "      <td>0.000000</td>\n",
       "      <td>1.000000</td>\n",
       "    </tr>\n",
       "    <tr>\n",
       "      <th>42854</th>\n",
       "      <td>19528</td>\n",
       "      <td>2019220356393</td>\n",
       "      <td>0.01</td>\n",
       "      <td>0.52</td>\n",
       "      <td>0.47</td>\n",
       "      <td>0.000000</td>\n",
       "      <td>1.000000</td>\n",
       "    </tr>\n",
       "    <tr>\n",
       "      <th>42855</th>\n",
       "      <td>135734</td>\n",
       "      <td>2019546294519</td>\n",
       "      <td>0.00</td>\n",
       "      <td>0.01</td>\n",
       "      <td>0.99</td>\n",
       "      <td>0.052855</td>\n",
       "      <td>0.947145</td>\n",
       "    </tr>\n",
       "    <tr>\n",
       "      <th>42856</th>\n",
       "      <td>135734</td>\n",
       "      <td>2019546294519</td>\n",
       "      <td>0.00</td>\n",
       "      <td>0.01</td>\n",
       "      <td>0.99</td>\n",
       "      <td>0.048061</td>\n",
       "      <td>0.951939</td>\n",
       "    </tr>\n",
       "  </tbody>\n",
       "</table>\n",
       "<p>42857 rows × 7 columns</p>\n",
       "</div>"
      ],
      "text/plain": [
       "        index accident_index  fatal  serious  slight  Adjusted_Serious  \\\n",
       "0       12967  201997GK00701   0.00     0.01    0.99          0.048938   \n",
       "1      244790  201906K264764   0.01     0.16    0.83          0.064815   \n",
       "2      116338  2019545449919   0.02     0.51    0.47          0.072856   \n",
       "3      116338  2019545449919   0.02     0.51    0.47          1.000000   \n",
       "4      116337  2019545449919   0.02     0.51    0.47          0.072856   \n",
       "...       ...            ...    ...      ...     ...               ...   \n",
       "42852  196997  2019530879457   0.00     0.31    0.69          0.000000   \n",
       "42853  138359  2019010191269   0.00     0.73    0.27          0.000000   \n",
       "42854   19528  2019220356393   0.01     0.52    0.47          0.000000   \n",
       "42855  135734  2019546294519   0.00     0.01    0.99          0.052855   \n",
       "42856  135734  2019546294519   0.00     0.01    0.99          0.048061   \n",
       "\n",
       "       Adjusted_Slight  \n",
       "0             0.951062  \n",
       "1             0.935185  \n",
       "2             0.927144  \n",
       "3             0.000000  \n",
       "4             0.927144  \n",
       "...                ...  \n",
       "42852         1.000000  \n",
       "42853         1.000000  \n",
       "42854         1.000000  \n",
       "42855         0.947145  \n",
       "42856         0.951939  \n",
       "\n",
       "[42857 rows x 7 columns]"
      ]
     },
     "execution_count": 70,
     "metadata": {},
     "output_type": "execute_result"
    }
   ],
   "source": [
    "final_df = probabilities.merge(gov_model, on='accident_index')\n",
    "final_df"
   ]
  },
  {
   "cell_type": "code",
   "execution_count": 71,
   "metadata": {},
   "outputs": [
    {
     "name": "stdout",
     "output_type": "stream",
     "text": [
      "MSE for serious injuries: 0.1412\n",
      "MSE for slight injuries: 0.1492\n"
     ]
    }
   ],
   "source": [
    "serious = mean_squared_error(final_df['serious'], final_df['Adjusted_Serious'])\n",
    "slight = mean_squared_error(final_df['slight'], final_df['Adjusted_Slight'])\n",
    "\n",
    "print(f\"MSE for serious injuries: {serious:.4f}\")\n",
    "print(f\"MSE for slight injuries: {slight:.4f}\")"
   ]
  },
  {
   "cell_type": "code",
   "execution_count": null,
   "metadata": {},
   "outputs": [],
   "source": []
  }
 ],
 "metadata": {
  "interpreter": {
   "hash": "496d701c09bd200faf5a43ebc3c61dde3e6dfd19068c5afa6d90de8674a96c33"
  },
  "kernelspec": {
   "display_name": "Python 3 (ipykernel)",
   "language": "python",
   "name": "python3"
  },
  "language_info": {
   "codemirror_mode": {
    "name": "ipython",
    "version": 3
   },
   "file_extension": ".py",
   "mimetype": "text/x-python",
   "name": "python",
   "nbconvert_exporter": "python",
   "pygments_lexer": "ipython3",
   "version": "3.10.4"
  }
 },
 "nbformat": 4,
 "nbformat_minor": 2
}
