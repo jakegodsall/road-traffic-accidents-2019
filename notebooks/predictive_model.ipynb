{
 "cells": [
  {
   "cell_type": "markdown",
   "metadata": {},
   "source": [
    "# Predictive Model\n",
    "\n",
    "This final notebook is assoicated with the __Predictive Model__ section of the report."
   ]
  },
  {
   "cell_type": "markdown",
   "metadata": {},
   "source": [
    "## Packages\n",
    "Importing all necessary packages to run the notebook"
   ]
  },
  {
   "cell_type": "code",
   "execution_count": 136,
   "metadata": {},
   "outputs": [],
   "source": [
    "# file manipualtion\n",
    "from pathlib import Path\n",
    "import numpy as np\n",
    "import pandas as pd\n",
    "import pickle\n",
    "\n",
    "# model selection\n",
    "from sklearn.model_selection import train_test_split\n",
    "from sklearn.model_selection import RepeatedStratifiedKFold\n",
    "from sklearn.model_selection import cross_validate, cross_val_score\n",
    "from sklearn.feature_selection import SelectKBest, chi2, f_classif, mutual_info_classif\n",
    "\n",
    "# balancing dataset\n",
    "from imblearn.over_sampling import SMOTE\n",
    "\n",
    "# stats\n",
    "from scipy.stats import pearsonr\n",
    "\n",
    "# models\n",
    "from sklearn.linear_model import LogisticRegression\n",
    "from sklearn.neighbors import KNeighborsClassifier\n",
    "from sklearn.tree import DecisionTreeClassifier\n",
    "from sklearn.naive_bayes import MultinomialNB\n",
    "from sklearn.ensemble import RandomForestClassifier\n",
    "from sklearn.ensemble import StackingClassifier\n",
    "\n",
    "# visualistaion\n",
    "import matplotlib.pyplot as plt\n",
    "import seaborn as sns\n",
    "\n",
    "# warning supression\n",
    "from warnings import simplefilter\n",
    "from sklearn.exceptions import ConvergenceWarning\n",
    "simplefilter(\"ignore\", category=ConvergenceWarning)"
   ]
  },
  {
   "cell_type": "markdown",
   "metadata": {},
   "source": [
    "## Directory navigation and creation\n",
    "Creating pathlib.Path objects for cross-platform navigation and loading the three datasets into pandas DataFrame objects\n",
    "\n",
    "**Note:** here we import the cleaned accidents.pkl file"
   ]
  },
  {
   "cell_type": "code",
   "execution_count": 24,
   "metadata": {},
   "outputs": [
    {
     "name": "stdout",
     "output_type": "stream",
     "text": [
      "/Volumes/GoogleDrive/My Drive/Dev/TrafficAccidents/data/accidents2019.csv\n",
      "/Volumes/GoogleDrive/My Drive/Dev/TrafficAccidents/data/casualties2019.csv\n",
      "/Volumes/GoogleDrive/My Drive/Dev/TrafficAccidents/data/vehicles2019.csv\n"
     ]
    },
    {
     "data": {
      "text/html": [
       "<div>\n",
       "<style scoped>\n",
       "    .dataframe tbody tr th:only-of-type {\n",
       "        vertical-align: middle;\n",
       "    }\n",
       "\n",
       "    .dataframe tbody tr th {\n",
       "        vertical-align: top;\n",
       "    }\n",
       "\n",
       "    .dataframe thead th {\n",
       "        text-align: right;\n",
       "    }\n",
       "</style>\n",
       "<table border=\"1\" class=\"dataframe\">\n",
       "  <thead>\n",
       "    <tr style=\"text-align: right;\">\n",
       "      <th></th>\n",
       "      <th>accident_index</th>\n",
       "      <th>longitude</th>\n",
       "      <th>latitude</th>\n",
       "      <th>police_force</th>\n",
       "      <th>accident_severity</th>\n",
       "      <th>number_of_vehicles</th>\n",
       "      <th>number_of_casualties</th>\n",
       "      <th>day_of_week</th>\n",
       "      <th>local_authority_(district)</th>\n",
       "      <th>local_authority_(highway)</th>\n",
       "      <th>...</th>\n",
       "      <th>lsoa_of_accident_location</th>\n",
       "      <th>district</th>\n",
       "      <th>converted_date</th>\n",
       "      <th>converted_time</th>\n",
       "      <th>sunrise</th>\n",
       "      <th>sunset</th>\n",
       "      <th>day_length</th>\n",
       "      <th>datetime</th>\n",
       "      <th>decimal_time</th>\n",
       "      <th>day_of_year</th>\n",
       "    </tr>\n",
       "  </thead>\n",
       "  <tbody>\n",
       "    <tr>\n",
       "      <th>0</th>\n",
       "      <td>2019010128300</td>\n",
       "      <td>-0.153842</td>\n",
       "      <td>51.508057</td>\n",
       "      <td>1</td>\n",
       "      <td>3</td>\n",
       "      <td>2</td>\n",
       "      <td>3</td>\n",
       "      <td>2</td>\n",
       "      <td>1</td>\n",
       "      <td>E09000033</td>\n",
       "      <td>...</td>\n",
       "      <td>E01004762</td>\n",
       "      <td>westminster</td>\n",
       "      <td>2019-02-18</td>\n",
       "      <td>17:50:00</td>\n",
       "      <td>0 days 07:10:00</td>\n",
       "      <td>0 days 17:19:00</td>\n",
       "      <td>10:09:00</td>\n",
       "      <td>2019-02-18 17:50:00</td>\n",
       "      <td>17.833333</td>\n",
       "      <td>49</td>\n",
       "    </tr>\n",
       "    <tr>\n",
       "      <th>1</th>\n",
       "      <td>2019010164251</td>\n",
       "      <td>-0.141154</td>\n",
       "      <td>51.502191</td>\n",
       "      <td>1</td>\n",
       "      <td>3</td>\n",
       "      <td>1</td>\n",
       "      <td>2</td>\n",
       "      <td>2</td>\n",
       "      <td>1</td>\n",
       "      <td>E09000033</td>\n",
       "      <td>...</td>\n",
       "      <td>E01004736</td>\n",
       "      <td>westminster</td>\n",
       "      <td>2019-02-18</td>\n",
       "      <td>18:50:00</td>\n",
       "      <td>0 days 07:10:00</td>\n",
       "      <td>0 days 17:19:00</td>\n",
       "      <td>10:09:00</td>\n",
       "      <td>2019-02-18 18:50:00</td>\n",
       "      <td>18.833333</td>\n",
       "      <td>49</td>\n",
       "    </tr>\n",
       "    <tr>\n",
       "      <th>2</th>\n",
       "      <td>2019010164259</td>\n",
       "      <td>-0.174097</td>\n",
       "      <td>51.527663</td>\n",
       "      <td>1</td>\n",
       "      <td>3</td>\n",
       "      <td>2</td>\n",
       "      <td>1</td>\n",
       "      <td>2</td>\n",
       "      <td>1</td>\n",
       "      <td>E09000033</td>\n",
       "      <td>...</td>\n",
       "      <td>E01004728</td>\n",
       "      <td>westminster</td>\n",
       "      <td>2019-02-18</td>\n",
       "      <td>23:00:00</td>\n",
       "      <td>0 days 07:10:00</td>\n",
       "      <td>0 days 17:19:00</td>\n",
       "      <td>10:09:00</td>\n",
       "      <td>2019-02-18 23:00:00</td>\n",
       "      <td>23.000000</td>\n",
       "      <td>49</td>\n",
       "    </tr>\n",
       "    <tr>\n",
       "      <th>3</th>\n",
       "      <td>2019010164414</td>\n",
       "      <td>-0.163973</td>\n",
       "      <td>51.515931</td>\n",
       "      <td>1</td>\n",
       "      <td>3</td>\n",
       "      <td>2</td>\n",
       "      <td>1</td>\n",
       "      <td>2</td>\n",
       "      <td>1</td>\n",
       "      <td>E09000033</td>\n",
       "      <td>...</td>\n",
       "      <td>E01004658</td>\n",
       "      <td>westminster</td>\n",
       "      <td>2019-02-18</td>\n",
       "      <td>02:00:00</td>\n",
       "      <td>0 days 07:10:00</td>\n",
       "      <td>0 days 17:19:00</td>\n",
       "      <td>10:09:00</td>\n",
       "      <td>2019-02-18 02:00:00</td>\n",
       "      <td>2.000000</td>\n",
       "      <td>49</td>\n",
       "    </tr>\n",
       "    <tr>\n",
       "      <th>4</th>\n",
       "      <td>2019010164107</td>\n",
       "      <td>-0.103521</td>\n",
       "      <td>51.464277</td>\n",
       "      <td>1</td>\n",
       "      <td>3</td>\n",
       "      <td>1</td>\n",
       "      <td>1</td>\n",
       "      <td>2</td>\n",
       "      <td>9</td>\n",
       "      <td>E09000022</td>\n",
       "      <td>...</td>\n",
       "      <td>E01003051</td>\n",
       "      <td>lambeth</td>\n",
       "      <td>2019-02-18</td>\n",
       "      <td>08:00:00</td>\n",
       "      <td>0 days 07:10:00</td>\n",
       "      <td>0 days 17:19:00</td>\n",
       "      <td>10:09:00</td>\n",
       "      <td>2019-02-18 08:00:00</td>\n",
       "      <td>8.000000</td>\n",
       "      <td>49</td>\n",
       "    </tr>\n",
       "  </tbody>\n",
       "</table>\n",
       "<p>5 rows × 37 columns</p>\n",
       "</div>"
      ],
      "text/plain": [
       "  accident_index  longitude   latitude  police_force  accident_severity  \\\n",
       "0  2019010128300  -0.153842  51.508057             1                  3   \n",
       "1  2019010164251  -0.141154  51.502191             1                  3   \n",
       "2  2019010164259  -0.174097  51.527663             1                  3   \n",
       "3  2019010164414  -0.163973  51.515931             1                  3   \n",
       "4  2019010164107  -0.103521  51.464277             1                  3   \n",
       "\n",
       "   number_of_vehicles  number_of_casualties  day_of_week  \\\n",
       "0                   2                     3            2   \n",
       "1                   1                     2            2   \n",
       "2                   2                     1            2   \n",
       "3                   2                     1            2   \n",
       "4                   1                     1            2   \n",
       "\n",
       "   local_authority_(district) local_authority_(highway)  ...  \\\n",
       "0                           1                 E09000033  ...   \n",
       "1                           1                 E09000033  ...   \n",
       "2                           1                 E09000033  ...   \n",
       "3                           1                 E09000033  ...   \n",
       "4                           9                 E09000022  ...   \n",
       "\n",
       "   lsoa_of_accident_location     district  converted_date  converted_time  \\\n",
       "0                  E01004762  westminster      2019-02-18        17:50:00   \n",
       "1                  E01004736  westminster      2019-02-18        18:50:00   \n",
       "2                  E01004728  westminster      2019-02-18        23:00:00   \n",
       "3                  E01004658  westminster      2019-02-18        02:00:00   \n",
       "4                  E01003051      lambeth      2019-02-18        08:00:00   \n",
       "\n",
       "          sunrise          sunset  day_length            datetime  \\\n",
       "0 0 days 07:10:00 0 days 17:19:00    10:09:00 2019-02-18 17:50:00   \n",
       "1 0 days 07:10:00 0 days 17:19:00    10:09:00 2019-02-18 18:50:00   \n",
       "2 0 days 07:10:00 0 days 17:19:00    10:09:00 2019-02-18 23:00:00   \n",
       "3 0 days 07:10:00 0 days 17:19:00    10:09:00 2019-02-18 02:00:00   \n",
       "4 0 days 07:10:00 0 days 17:19:00    10:09:00 2019-02-18 08:00:00   \n",
       "\n",
       "   decimal_time  day_of_year  \n",
       "0     17.833333           49  \n",
       "1     18.833333           49  \n",
       "2     23.000000           49  \n",
       "3      2.000000           49  \n",
       "4      8.000000           49  \n",
       "\n",
       "[5 rows x 37 columns]"
      ]
     },
     "execution_count": 24,
     "metadata": {},
     "output_type": "execute_result"
    }
   ],
   "source": [
    "# creating Path object for current working directory\n",
    "cwd = Path('./')\n",
    "root = cwd.resolve().parent\n",
    "# creating Path object for additional data directory\n",
    "additional_data_dir = root / 'additional_data'\n",
    "# create new directory for additional data\n",
    "Path(additional_data_dir).mkdir(exist_ok=True)\n",
    "\n",
    "# creating Path object for plots directroy\n",
    "plots_dir = root / 'plots'\n",
    "# create new directory for plots\n",
    "Path(plots_dir).mkdir(exist_ok=True)\n",
    "\n",
    "# defining the directory to original data\n",
    "data_dir = root / 'data'\n",
    "additional_directory = root / 'additional_data'\n",
    "\n",
    "# list the .csv files for the project\n",
    "for file in data_dir.glob('*.csv'):\n",
    "    print(file)\n",
    "    \n",
    "# reading in .csv files to dataframes\n",
    "vehicles = pd.read_csv(data_dir / 'vehicles2019.csv', dtype={'Accident_Index': str})\n",
    "casualties = pd.read_csv(data_dir / 'casualties2019.csv', dtype={'Accident_Index': str})\n",
    "# cleaned accidents DataFrame\n",
    "accidents = pd.read_pickle(additional_data_dir / 'accidents_cleaned.pkl')\n",
    "\n",
    "# convert column names to lowercase for ease of indexing\n",
    "def lower_columns(df):\n",
    "    \"\"\"\n",
    "    Defintion:\n",
    "        convert column names to lower case\n",
    "    \"\"\"\n",
    "    df.columns = map(str.lower, df.columns)\n",
    "    \n",
    "# converting all column names to lower case\n",
    "lower_columns(vehicles)\n",
    "lower_columns(casualties)\n",
    "\n",
    "accidents.head(5)"
   ]
  },
  {
   "cell_type": "markdown",
   "metadata": {},
   "source": [
    "## Testing classification models"
   ]
  },
  {
   "cell_type": "code",
   "execution_count": 25,
   "metadata": {},
   "outputs": [
    {
     "data": {
      "text/plain": [
       "{'decision_tree': DecisionTreeClassifier(),\n",
       " 'knn': KNeighborsClassifier(),\n",
       " 'bayes': MultinomialNB(),\n",
       " 'rf': RandomForestClassifier()}"
      ]
     },
     "execution_count": 25,
     "metadata": {},
     "output_type": "execute_result"
    }
   ],
   "source": [
    "def get_models():\n",
    "    \"\"\"\n",
    "    Create a dictionary of the classification models to\n",
    "    be tested\n",
    "    \"\"\"\n",
    "    models = {}\n",
    "    models['decision_tree'] = DecisionTreeClassifier()\n",
    "    models['knn'] = KNeighborsClassifier()\n",
    "    models['bayes'] = MultinomialNB()\n",
    "    models['rf'] = RandomForestClassifier()\n",
    "    return models\n",
    "\n",
    "models = get_models()\n",
    "\n",
    "models"
   ]
  },
  {
   "cell_type": "code",
   "execution_count": 26,
   "metadata": {},
   "outputs": [
    {
     "data": {
      "text/plain": [
       "Index(['accident_index', 'longitude', 'latitude', 'police_force',\n",
       "       'accident_severity', 'number_of_vehicles', 'number_of_casualties',\n",
       "       'day_of_week', 'local_authority_(district)',\n",
       "       'local_authority_(highway)', '1st_road_class', '1st_road_number',\n",
       "       'road_type', 'speed_limit', 'junction_detail', 'junction_control',\n",
       "       '2nd_road_class', '2nd_road_number',\n",
       "       'pedestrian_crossing-human_control',\n",
       "       'pedestrian_crossing-physical_facilities', 'light_conditions',\n",
       "       'weather_conditions', 'road_surface_conditions',\n",
       "       'special_conditions_at_site', 'carriageway_hazards',\n",
       "       'urban_or_rural_area', 'did_police_officer_attend_scene_of_accident',\n",
       "       'lsoa_of_accident_location', 'district', 'converted_date',\n",
       "       'converted_time', 'sunrise', 'sunset', 'day_length', 'datetime',\n",
       "       'decimal_time', 'day_of_year', 'vehicle_reference_x', 'vehicle_type',\n",
       "       'towing_and_articulation', 'vehicle_manoeuvre',\n",
       "       'vehicle_location-restricted_lane', 'junction_location',\n",
       "       'skidding_and_overturning', 'hit_object_in_carriageway',\n",
       "       'vehicle_leaving_carriageway', 'hit_object_off_carriageway',\n",
       "       '1st_point_of_impact', 'was_vehicle_left_hand_drive?',\n",
       "       'journey_purpose_of_driver', 'sex_of_driver', 'age_of_driver',\n",
       "       'age_band_of_driver', 'engine_capacity_(cc)', 'propulsion_code',\n",
       "       'age_of_vehicle', 'driver_imd_decile', 'driver_home_area_type',\n",
       "       'vehicle_imd_decile', 'vehicle_reference_y', 'casualty_reference',\n",
       "       'casualty_class', 'sex_of_casualty', 'age_of_casualty',\n",
       "       'age_band_of_casualty', 'casualty_severity', 'pedestrian_location',\n",
       "       'pedestrian_movement', 'car_passenger', 'bus_or_coach_passenger',\n",
       "       'pedestrian_road_maintenance_worker', 'casualty_type',\n",
       "       'casualty_home_area_type', 'casualty_imd_decile'],\n",
       "      dtype='object')"
      ]
     },
     "execution_count": 26,
     "metadata": {},
     "output_type": "execute_result"
    }
   ],
   "source": [
    "# merge the three datasets\n",
    "accidents = pd.merge(accidents, vehicles, on='accident_index', how='left')\n",
    "accidents = pd.merge(accidents, casualties, on='accident_index', how='left')\n",
    "accidents.columns"
   ]
  },
  {
   "cell_type": "markdown",
   "metadata": {},
   "source": [
    "# Feature Selection"
   ]
  },
  {
   "cell_type": "markdown",
   "metadata": {},
   "source": [
    "### Test for columns with many values less than 0\n",
    "\n",
    "Any column with more than 10% of values being less than 0 is dropped."
   ]
  },
  {
   "cell_type": "code",
   "execution_count": 27,
   "metadata": {},
   "outputs": [
    {
     "name": "stdout",
     "output_type": "stream",
     "text": [
      "['junction_control', '2nd_road_class', 'special_conditions_at_site', 'carriageway_hazards', 'towing_and_articulation', 'vehicle_location-restricted_lane', 'skidding_and_overturning', 'hit_object_in_carriageway', 'vehicle_leaving_carriageway', 'hit_object_off_carriageway', 'propulsion_code', 'driver_home_area_type', 'casualty_home_area_type']\n"
     ]
    }
   ],
   "source": [
    "# exclude columns with non-numerical data types\n",
    "test = accidents.select_dtypes(exclude=['object', 'datetime64', 'timedelta64[ns]'])\n",
    "\n",
    "ratios = ((test < 0).sum() / test.sum()).to_dict()\n",
    "\n",
    "to_delete = []\n",
    "for k, v in ratios.items():\n",
    "    if v > 0.10:\n",
    "        to_delete.append(k)\n",
    "\n",
    "print(to_delete)"
   ]
  },
  {
   "cell_type": "code",
   "execution_count": 28,
   "metadata": {},
   "outputs": [],
   "source": [
    "# manually determine data type of features\n",
    "numeric = ['number_of_vehicles', 'number_of_casualties', 'age_of_driver',\n",
    "           'engine_capacity_(cc)', 'age_of_vehicle', 'age_of_casualty']\n",
    "\n",
    "binary = ['was_vehicle_left_hand_drive?', 'sex_of_driver', 'sex_of_casualty']\n",
    "\n",
    "nominal = ['1st_road_class', 'road_type', 'junction_detail', 'light_conditions',\n",
    "           'weather_conditions', 'road_surface_conditions',\n",
    "           'urban_or_rural_area',\n",
    "           'vehicle_type', 'vehicle_manoeuvre',\n",
    "           'junction_location', 'journey_purpose_of_driver', 'casualty_type']\n",
    "\n",
    "ordinal = ['speed_limit', 'day_of_week', 'day_of_year', 'age_band_of_driver', 'age_band_of_casualty']\n",
    "\n",
    "target = 'accident_severity'"
   ]
  },
  {
   "cell_type": "code",
   "execution_count": 29,
   "metadata": {},
   "outputs": [
    {
     "name": "stderr",
     "output_type": "stream",
     "text": [
      "/var/folders/ym/67nh3yg92pl8g2wbm_vrs8_h0000gn/T/ipykernel_3981/444866100.py:33: RuntimeWarning: divide by zero encountered in log10\n",
      "  scores = -np.log10(selector.pvalues_)\n"
     ]
    }
   ],
   "source": [
    "class FeatureSelection:\n",
    "\n",
    "    def __init__(self, df, cat_features, numeric_features, target):\n",
    "        self.df = df\n",
    "        self.cat_features = cat_features\n",
    "        self.numeric_features = numeric_features\n",
    "        self.target = target\n",
    "\n",
    "    def remove_negatives(self):\n",
    "        \"\"\"\n",
    "        Remove rows with any negative values for features in\n",
    "        the data members 'cat_features' and 'numeric_features'\n",
    "        \"\"\"\n",
    "        features = self.numeric_features + self.cat_features\n",
    "        filtered = self.df.filter(features + [self.target], axis=1)\n",
    "        filtered = filtered[(filtered > 0).all(1)]\n",
    "        return filtered\n",
    "\n",
    "    def get_feature_scores(self, k='all'):\n",
    "        \"\"\"\n",
    "        Return the 'KBest selected' columns and scores using\n",
    "        ANOVA\n",
    "        \"\"\"\n",
    "        filtered_dataset = self.remove_negatives()\n",
    "        features = self.cat_features\n",
    "        selector = SelectKBest(f_classif, k=k)\n",
    "        selector.fit(filtered_dataset[features], filtered_dataset[self.target])\n",
    "\n",
    "        cols = selector.get_support(indices=True)\n",
    "        p_values = selector.pvalues_\n",
    "\n",
    "        p_values = pd.Series(p_values, dtype='object')\n",
    "        scores = -np.log10(selector.pvalues_)\n",
    "        return cols, scores\n",
    "\n",
    "    def plot_features(self):\n",
    "        \"\"\"\n",
    "        Plot the scores determined from get_feature_scores\n",
    "        \"\"\"\n",
    "        features, scores = self.get_feature_scores(k='all')\n",
    "        print(features)\n",
    "        plt.bar(range(len(features)), scores)\n",
    "        plt.xticks(range(len(features)), features, rotation='vertical')\n",
    "        plt.show()\n",
    "    \n",
    "    def get_new_X(self):\n",
    "        \"\"\"\n",
    "        Get the transformed dataframe using only the columns\n",
    "        from get_feature_scores\n",
    "        \"\"\"\n",
    "        filtered_dataset = self.remove_negatives()\n",
    "        kbest_cols, _ = self.get_feature_scores(k=12)\n",
    "        target = self.target\n",
    "        target_i = filtered_dataset.columns.get_loc(self.target)\n",
    "        kbest_cols = np.append(kbest_cols, target_i)\n",
    "        new_df = filtered_dataset.iloc[:, kbest_cols]\n",
    "        \n",
    "        return new_df\n",
    "\n",
    "fs = FeatureSelection(accidents, nominal+ordinal+binary, numeric, target)\n",
    "\n",
    "filtered = fs.get_new_X()"
   ]
  },
  {
   "cell_type": "code",
   "execution_count": 30,
   "metadata": {},
   "outputs": [
    {
     "name": "stderr",
     "output_type": "stream",
     "text": [
      "/var/folders/ym/67nh3yg92pl8g2wbm_vrs8_h0000gn/T/ipykernel_3981/444866100.py:33: RuntimeWarning: divide by zero encountered in log10\n",
      "  scores = -np.log10(selector.pvalues_)\n"
     ]
    },
    {
     "name": "stdout",
     "output_type": "stream",
     "text": [
      "[ 0  1  2  3  4  5  6  7  8  9 10 11 12 13 14 15 16 17 18 19]\n"
     ]
    },
    {
     "data": {
      "image/png": "[encoded data removed]",
      "text/plain": [
       "<Figure size 432x288 with 1 Axes>"
      ]
     },
     "metadata": {
      "needs_background": "light"
     },
     "output_type": "display_data"
    }
   ],
   "source": [
    "fs.plot_features()"
   ]
  },
  {
   "cell_type": "code",
   "execution_count": 31,
   "metadata": {},
   "outputs": [
    {
     "data": {
      "text/plain": [
       "Index(['number_of_vehicles', 'number_of_casualties', 'age_of_driver',\n",
       "       'engine_capacity_(cc)', '1st_road_class', 'junction_detail',\n",
       "       'road_surface_conditions', 'urban_or_rural_area', 'junction_location',\n",
       "       'journey_purpose_of_driver', 'speed_limit', 'day_of_week',\n",
       "       'accident_severity'],\n",
       "      dtype='object')"
      ]
     },
     "execution_count": 31,
     "metadata": {},
     "output_type": "execute_result"
    }
   ],
   "source": [
    "filtered.columns"
   ]
  },
  {
   "cell_type": "markdown",
   "metadata": {},
   "source": [
    "# Constructing the model\n",
    "\n",
    "Determining the number of samples remaining:"
   ]
  },
  {
   "cell_type": "code",
   "execution_count": 32,
   "metadata": {},
   "outputs": [
    {
     "name": "stdout",
     "output_type": "stream",
     "text": [
      "Number of samples in filtered dataset: 98654\n",
      "Number of samples in the original dataset: 295579\n",
      "Proportion of samples remaining: 33.38%\n"
     ]
    }
   ],
   "source": [
    "print(f\"Number of samples in filtered dataset: {filtered.shape[0]}\")\n",
    "print(f\"Number of samples in the original dataset: {accidents.shape[0]}\")\n",
    "print(f\"Proportion of samples remaining: {100 * filtered.shape[0] / accidents.shape[0]:.2f}%\")"
   ]
  },
  {
   "cell_type": "markdown",
   "metadata": {},
   "source": [
    "We see that the model is heavily imbalanced towards accident_severity label 3. \n",
    "\n",
    "Hence, SMOTE oversampling should be used to balance the training data for more accurate training."
   ]
  },
  {
   "cell_type": "code",
   "execution_count": 33,
   "metadata": {},
   "outputs": [
    {
     "data": {
      "text/plain": [
       "3    78790\n",
       "2    18501\n",
       "1     1363\n",
       "Name: accident_severity, dtype: int64"
      ]
     },
     "execution_count": 33,
     "metadata": {},
     "output_type": "execute_result"
    }
   ],
   "source": [
    "filtered.accident_severity.value_counts()"
   ]
  },
  {
   "cell_type": "markdown",
   "metadata": {},
   "source": [
    "Splitting the data into a 3:1 train/test ratio"
   ]
  },
  {
   "cell_type": "code",
   "execution_count": 109,
   "metadata": {},
   "outputs": [
    {
     "name": "stdout",
     "output_type": "stream",
     "text": [
      "X_train shape: (51793, 12)\n",
      "y_train shape: (51793,)\n",
      "X_val shape: (22197, 12)\n",
      "y_val shape: (22197,)\n",
      "X_test shape: (24664, 12)\n",
      "y_test shape: (24664,)\n"
     ]
    }
   ],
   "source": [
    "X_data = filtered.iloc[:, :-1]\n",
    "y_data = filtered.iloc[:, -1]\n",
    "\n",
    "# splitting into train and test sets\n",
    "X_train, X_test, y_train, y_test = train_test_split(X_data, y_data, test_size=0.25)\n",
    "X_train, X_val, y_train, y_val = train_test_split(X_train, y_train, test_size=0.3)\n",
    "\n",
    "# data set shapes\n",
    "print(f\"X_train shape: {X_train.shape}\")\n",
    "print(f\"y_train shape: {y_train.shape}\")\n",
    "print(f\"X_val shape: {X_val.shape}\")\n",
    "print(f\"y_val shape: {y_val.shape}\")\n",
    "print(f\"X_test shape: {X_test.shape}\")\n",
    "print(f\"y_test shape: {y_test.shape}\")"
   ]
  },
  {
   "cell_type": "code",
   "execution_count": 83,
   "metadata": {},
   "outputs": [
    {
     "name": "stdout",
     "output_type": "stream",
     "text": [
      "Shapes prior to over-sampling: \n",
      "\n",
      "X_train shape: (51793, 12)\n",
      "y_train shape: (51793,)\n",
      "\n",
      "\n",
      "Shapes after over-sampling: \n",
      "\n",
      "X_train shape: (123996, 12)\n",
      "y_train shape: (123996,)\n"
     ]
    }
   ],
   "source": [
    "print(\"Shapes prior to over-sampling: \\n\")\n",
    "print(f\"X_train shape: {X_train.shape}\")\n",
    "print(f\"y_train shape: {y_train.shape}\")\n",
    "\n",
    "oversample = SMOTE()\n",
    "X_train, y_train = oversample.fit_resample(X_train, y_train)\n",
    "\n",
    "print(\"\\n\\nShapes after over-sampling: \\n\")\n",
    "print(f\"X_train shape: {X_train.shape}\")\n",
    "print(f\"y_train shape: {y_train.shape}\")"
   ]
  },
  {
   "cell_type": "code",
   "execution_count": 84,
   "metadata": {},
   "outputs": [
    {
     "name": "stdout",
     "output_type": "stream",
     "text": [
      "Label ratio after over-sampling\n"
     ]
    },
    {
     "data": {
      "text/plain": [
       "3    41332\n",
       "2    41332\n",
       "1    41332\n",
       "Name: accident_severity, dtype: int64"
      ]
     },
     "execution_count": 84,
     "metadata": {},
     "output_type": "execute_result"
    }
   ],
   "source": [
    "print(\"Label ratio after over-sampling\")\n",
    "y_train.value_counts()"
   ]
  },
  {
   "cell_type": "markdown",
   "metadata": {},
   "source": [
    "#### Evaluate model\n",
    "\n",
    "Here we use a repeated stratified k-fold cross-validation method, so that the training data is split into k folds with equal proportions per label. Each k-1 folds are evaluated using the final fold as validation, and the process is repeated three times, hence repeated stratified k-fold."
   ]
  },
  {
   "cell_type": "markdown",
   "metadata": {},
   "source": [
    "### Training all models in the models dictionary"
   ]
  },
  {
   "cell_type": "code",
   "execution_count": 85,
   "metadata": {},
   "outputs": [],
   "source": [
    "def evaluate_model(model, X, y):\n",
    "    \"\"\"\n",
    "    Evaluate the models using a repeated stratified\n",
    "    k-fold with 10 splits and 3 repeats\n",
    "    \"\"\"\n",
    "    cv = RepeatedStratifiedKFold(n_splits=10,\n",
    "                                 n_repeats=3,\n",
    "                                 random_state=1)\n",
    "    scores = cross_val_score(model, X, y,\n",
    "                             scoring='accuracy',\n",
    "                             cv=cv,\n",
    "                             n_jobs=-1,\n",
    "                             error_score='raise')\n",
    "    return scores"
   ]
  },
  {
   "cell_type": "code",
   "execution_count": 38,
   "metadata": {},
   "outputs": [
    {
     "name": "stdout",
     "output_type": "stream",
     "text": [
      "decision_tree 0.8880, 0.0023\n",
      "knn 0.8713, 0.0021\n",
      "bayes 0.4056, 0.0038\n",
      "rf 0.9262, 0.0021\n"
     ]
    }
   ],
   "source": [
    "results, names, summary_results = [], [], []\n",
    "for name, model in models.items():\n",
    "    scores = evaluate_model(model, X_train, y_train)\n",
    "    results.append(scores)\n",
    "    names.append(name)\n",
    "    summary_results.append({name: {'mean': np.mean(scores), 'std': np.std(scores)}})\n",
    "    print(f\"{name} {np.mean(scores):.4f}, {np.std(scores):.4f}\")"
   ]
  },
  {
   "cell_type": "markdown",
   "metadata": {},
   "source": [
    "A random forest model has reached the highest cross-validated score, reaching 92.62%"
   ]
  },
  {
   "cell_type": "code",
   "execution_count": 39,
   "metadata": {},
   "outputs": [
    {
     "name": "stdout",
     "output_type": "stream",
     "text": [
      "          0         1         2         3\n",
      "0  0.888040  0.871338  0.405586  0.926242\n",
      "1  0.002283  0.002116  0.003756  0.002074\n"
     ]
    },
    {
     "data": {
      "text/html": [
       "<div>\n",
       "<style scoped>\n",
       "    .dataframe tbody tr th:only-of-type {\n",
       "        vertical-align: middle;\n",
       "    }\n",
       "\n",
       "    .dataframe tbody tr th {\n",
       "        vertical-align: top;\n",
       "    }\n",
       "\n",
       "    .dataframe thead th {\n",
       "        text-align: right;\n",
       "    }\n",
       "</style>\n",
       "<table border=\"1\" class=\"dataframe\">\n",
       "  <thead>\n",
       "    <tr style=\"text-align: right;\">\n",
       "      <th></th>\n",
       "      <th>decision_tree</th>\n",
       "      <th>knn</th>\n",
       "      <th>bayes</th>\n",
       "      <th>rf</th>\n",
       "    </tr>\n",
       "  </thead>\n",
       "  <tbody>\n",
       "    <tr>\n",
       "      <th>mean</th>\n",
       "      <td>0.888040</td>\n",
       "      <td>0.871338</td>\n",
       "      <td>0.405586</td>\n",
       "      <td>0.926242</td>\n",
       "    </tr>\n",
       "    <tr>\n",
       "      <th>std</th>\n",
       "      <td>0.002283</td>\n",
       "      <td>0.002116</td>\n",
       "      <td>0.003756</td>\n",
       "      <td>0.002074</td>\n",
       "    </tr>\n",
       "  </tbody>\n",
       "</table>\n",
       "</div>"
      ],
      "text/plain": [
       "      decision_tree       knn     bayes        rf\n",
       "mean       0.888040  0.871338  0.405586  0.926242\n",
       "std        0.002283  0.002116  0.003756  0.002074"
      ]
     },
     "execution_count": 39,
     "metadata": {},
     "output_type": "execute_result"
    }
   ],
   "source": [
    "summary_stats = []\n",
    "for i in results:\n",
    "    summary_stats.append([i.mean(), i.std()])\n",
    "    \n",
    "    \n",
    "summary_stats = pd.DataFrame(summary_stats).T\n",
    "print(summary_stats)\n",
    "summary_stats.columns = names\n",
    "summary_stats.index = ['mean', 'std']\n",
    "\n",
    "summary_stats"
   ]
  },
  {
   "cell_type": "code",
   "execution_count": 40,
   "metadata": {},
   "outputs": [
    {
     "data": {
      "text/plain": [
       "[array([0.88977177, 0.8845807 , 0.8877367 , 0.88503156, 0.88452435,\n",
       "        0.88649684, 0.89190712, 0.89038548, 0.8877367 , 0.89241434,\n",
       "        0.88655959, 0.88722949, 0.88520063, 0.88480613, 0.88644049,\n",
       "        0.89106177, 0.89021641, 0.88801849, 0.8877367 , 0.88925834,\n",
       "        0.88864469, 0.8873422 , 0.88863841, 0.89072362, 0.89094905,\n",
       "        0.88514427, 0.88801849, 0.89032913, 0.8853697 , 0.8889202 ]),\n",
       " array([0.86970978, 0.86947701, 0.87471821, 0.871055  , 0.87629621,\n",
       "        0.86829351, 0.86998422, 0.87195672, 0.87133679, 0.87139315,\n",
       "        0.87038602, 0.87308386, 0.86981515, 0.87004058, 0.87099865,\n",
       "        0.87161858, 0.87156222, 0.87545086, 0.87082958, 0.87218215,\n",
       "        0.87094956, 0.87545086, 0.86789901, 0.871844  , 0.87297115,\n",
       "        0.86778629, 0.87308386, 0.86947701, 0.87099865, 0.86947701]),\n",
       " array([0.40445196, 0.41140667, 0.40137511, 0.41332281, 0.40498197,\n",
       "        0.40825068, 0.40706718, 0.4008679 , 0.40148783, 0.40233318,\n",
       "        0.40259228, 0.40622182, 0.39912083, 0.40734896, 0.40723625,\n",
       "        0.40622182, 0.41467538, 0.40430568, 0.39979711, 0.40954689,\n",
       "        0.40405748, 0.40081154, 0.40791253, 0.40751803, 0.40526375,\n",
       "        0.40881425, 0.40329125, 0.4032349 , 0.40655996, 0.40751803]),\n",
       " array([0.9227388 , 0.92363616, 0.92893372, 0.92560866, 0.92842651,\n",
       "        0.92617223, 0.9267358 , 0.92527051, 0.92425609, 0.93006087,\n",
       "        0.9256692 , 0.92899008, 0.92481966, 0.9243688 , 0.92312894,\n",
       "        0.92989179, 0.92566501, 0.92893372, 0.92487601, 0.92882101,\n",
       "        0.924204  , 0.92701758, 0.92448151, 0.92651037, 0.92679216,\n",
       "        0.92391794, 0.92532687, 0.92820108, 0.9251578 , 0.92865194])]"
      ]
     },
     "execution_count": 40,
     "metadata": {},
     "output_type": "execute_result"
    }
   ],
   "source": [
    "results"
   ]
  },
  {
   "cell_type": "code",
   "execution_count": 43,
   "metadata": {},
   "outputs": [
    {
     "data": {
      "image/png": "[encoded data removed]",
      "text/plain": [
       "<Figure size 432x288 with 1 Axes>"
      ]
     },
     "metadata": {
      "needs_background": "light"
     },
     "output_type": "display_data"
    }
   ],
   "source": [
    "model_plot = sns.boxplot(data=results[:2] + results[3:], orient='h')\n",
    "model_plot.yaxis.set_ticklabels(['Decision Tree', 'KNN',\n",
    "                                 'Random Forest'])\n",
    "\n",
    "model_plot.set_ylabel('Models')\n",
    "model_plot.set_xlabel('Accuracy')\n",
    "\n",
    "model_plot.figure.savefig(plots_dir / 'model_plot', bbox_inches='tight')"
   ]
  },
  {
   "cell_type": "markdown",
   "metadata": {},
   "source": [
    "## Fitting the model"
   ]
  },
  {
   "cell_type": "code",
   "execution_count": 86,
   "metadata": {},
   "outputs": [
    {
     "data": {
      "text/plain": [
       "RandomForestClassifier()"
      ]
     },
     "execution_count": 86,
     "metadata": {},
     "output_type": "execute_result"
    }
   ],
   "source": [
    "rf_model = models['rf']\n",
    "\n",
    "rf_model.fit(X_train, y_train)"
   ]
  },
  {
   "cell_type": "code",
   "execution_count": 47,
   "metadata": {},
   "outputs": [
    {
     "data": {
      "text/plain": [
       "0.8420369769704833"
      ]
     },
     "execution_count": 47,
     "metadata": {},
     "output_type": "execute_result"
    }
   ],
   "source": [
    "rf_model.score(X_test, y_test)"
   ]
  },
  {
   "cell_type": "markdown",
   "metadata": {},
   "source": [
    "## Saving model for later use"
   ]
  },
  {
   "cell_type": "code",
   "execution_count": 49,
   "metadata": {},
   "outputs": [],
   "source": [
    "filename = 'prediction_model.pkl'\n",
    "pickle.dump(stacked_model, open(filename, 'wb'))"
   ]
  },
  {
   "cell_type": "markdown",
   "metadata": {},
   "source": [
    "Reopening model using pickle package."
   ]
  },
  {
   "cell_type": "code",
   "execution_count": 147,
   "metadata": {},
   "outputs": [],
   "source": [
    "with open('prediction_model.pkl', 'rb') as model:\n",
    "    prediction_model = pickle.load(model)"
   ]
  },
  {
   "cell_type": "markdown",
   "metadata": {},
   "source": [
    "## Comparing to the government model"
   ]
  },
  {
   "cell_type": "code",
   "execution_count": null,
   "metadata": {},
   "outputs": [],
   "source": [
    "# load the government model into memory and store in a DataFrame\n",
    "gov_model = pd.read_csv(additional_data_dir / 'cas_adjustment.csv')\n",
    "# filter for the required features\n",
    "gov_model = gov_model.filter(['accident_index', 'Adjusted_Serious', 'Adjusted_Slight'])\n",
    "\n",
    "gov_model.head(5)"
   ]
  },
  {
   "cell_type": "code",
   "execution_count": null,
   "metadata": {},
   "outputs": [],
   "source": [
    "# determine the probabilities of the classification model\n",
    "probabilities = rf_model.predict_proba(X_val.drop('accident_index', axis=1))\n",
    "class_labels = rf_model.classes_\n",
    "\n",
    "# store in a DataFrame\n",
    "probabilities = pd.DataFrame(probabilities, columns=class_labels)\n",
    "probabilities.columns = ['fatal', 'serious', 'slight']\n",
    "\n",
    "probabilities.head(5)"
   ]
  },
  {
   "cell_type": "code",
   "execution_count": null,
   "metadata": {},
   "outputs": [],
   "source": [
    "# merge the probabilities with accident index\n",
    "validation_aindex = X_val.accident_index\n",
    "validation_data = validation_aindex.reset_index()\n",
    "\n",
    "probabilities = validation_data.join(probabilities)"
   ]
  },
  {
   "cell_type": "code",
   "execution_count": null,
   "metadata": {
    "scrolled": true
   },
   "outputs": [],
   "source": [
    "final_df = probabilities.merge(gov_model, on='accident_index')\n",
    "final_df"
   ]
  },
  {
   "cell_type": "code",
   "execution_count": null,
   "metadata": {},
   "outputs": [],
   "source": [
    "from sklearn.metrics import mean_squared_error\n",
    "\n",
    "mean_squared_error(test2['serious'], test2['Adjusted_Serious'])\n",
    "\n",
    "mean_squared_error(test2['slight'], test2['Adjusted_Slight'])"
   ]
  },
  {
   "cell_type": "code",
   "execution_count": null,
   "metadata": {},
   "outputs": [],
   "source": []
  }
 ],
 "metadata": {
  "interpreter": {
   "hash": "496d701c09bd200faf5a43ebc3c61dde3e6dfd19068c5afa6d90de8674a96c33"
  },
  "kernelspec": {
   "display_name": "Python 3 (ipykernel)",
   "language": "python",
   "name": "python3"
  },
  "language_info": {
   "codemirror_mode": {
    "name": "ipython",
    "version": 3
   },
   "file_extension": ".py",
   "mimetype": "text/x-python",
   "name": "python",
   "nbconvert_exporter": "python",
   "pygments_lexer": "ipython3",
   "version": "3.10.4"
  }
 },
 "nbformat": 4,
 "nbformat_minor": 2
}
