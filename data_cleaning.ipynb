{
 "cells": [
  {
   "cell_type": "code",
   "execution_count": 1,
   "id": "60e549a5",
   "metadata": {},
   "outputs": [],
   "source": [
    "import numpy as np\n",
    "import pandas as pd\n",
    "\n",
    "from pathlib import Path"
   ]
  },
  {
   "cell_type": "code",
   "execution_count": 12,
   "id": "74f0a3d2",
   "metadata": {},
   "outputs": [],
   "source": []
  },
  {
   "cell_type": "code",
   "execution_count": 2,
   "id": "622eae1a",
   "metadata": {},
   "outputs": [
    {
     "name": "stdout",
     "output_type": "stream",
     "text": [
      "data/accidents2019.csv\n",
      "data/casualties2019.csv\n",
      "data/vehicles2019.csv\n"
     ]
    }
   ],
   "source": [
    "# defining the directory to relevant data\n",
    "directory = Path('./data/')\n",
    "# list the .csv files for the project\n",
    "for file in directory.glob('*.csv'):\n",
    "    print(file)"
   ]
  },
  {
   "cell_type": "code",
   "execution_count": 3,
   "id": "f641d121",
   "metadata": {},
   "outputs": [],
   "source": [
    "# reading in .csv files to dataframes\n",
    "vehicles = pd.read_csv(directory / 'vehicles2019.csv', dtype={'Accident_Index': str})\n",
    "casualties = pd.read_csv(directory / 'casualties2019.csv', dtype={'Accident_Index': str})\n",
    "accidents = pd.read_csv(directory / 'accidents2019.csv', dtype={'Accident_Index': str,\n",
    "                                                                'LSOA_of_Accident_Location': str})\n",
    "\n",
    "def lower_columns(df):\n",
    "    \"\"\"\n",
    "    Defintion:\n",
    "        convert column names to lower case\n",
    "    \"\"\"\n",
    "    df.columns = map(str.lower, df.columns)\n",
    "    \n",
    "# converting all column names to lower case\n",
    "lower_columns(vehicles)\n",
    "lower_columns(casualties)\n",
    "lower_columns(accidents)"
   ]
  },
  {
   "cell_type": "markdown",
   "id": "baaae269",
   "metadata": {},
   "source": []
  },
  {
   "cell_type": "code",
   "execution_count": 4,
   "id": "132b3bff",
   "metadata": {},
   "outputs": [
    {
     "data": {
      "text/plain": [
       "accident_index                                    0\n",
       "location_easting_osgr                            28\n",
       "location_northing_osgr                           28\n",
       "longitude                                        28\n",
       "latitude                                         28\n",
       "police_force                                      0\n",
       "accident_severity                                 0\n",
       "number_of_vehicles                                0\n",
       "number_of_casualties                              0\n",
       "date                                              0\n",
       "day_of_week                                       0\n",
       "time                                             63\n",
       "local_authority_(district)                        0\n",
       "local_authority_(highway)                         0\n",
       "1st_road_class                                    0\n",
       "1st_road_number                                   0\n",
       "road_type                                         0\n",
       "speed_limit                                       0\n",
       "junction_detail                                   0\n",
       "junction_control                                  0\n",
       "2nd_road_class                                    0\n",
       "2nd_road_number                                   0\n",
       "pedestrian_crossing-human_control                 0\n",
       "pedestrian_crossing-physical_facilities           0\n",
       "light_conditions                                  0\n",
       "weather_conditions                                0\n",
       "road_surface_conditions                           0\n",
       "special_conditions_at_site                        0\n",
       "carriageway_hazards                               0\n",
       "urban_or_rural_area                               0\n",
       "did_police_officer_attend_scene_of_accident       0\n",
       "lsoa_of_accident_location                      5714\n",
       "dtype: int64"
      ]
     },
     "execution_count": 4,
     "metadata": {},
     "output_type": "execute_result"
    }
   ],
   "source": []
  },
  {
   "cell_type": "markdown",
   "id": "b45c3cd3",
   "metadata": {},
   "source": []
  },
  {
   "cell_type": "code",
   "execution_count": 5,
   "id": "cfee2f81",
   "metadata": {},
   "outputs": [],
   "source": []
  },
  {
   "cell_type": "code",
   "execution_count": 6,
   "id": "69f08fcb",
   "metadata": {},
   "outputs": [
    {
     "data": {
      "text/plain": [
       "dtype('<M8[ns]')"
      ]
     },
     "execution_count": 6,
     "metadata": {},
     "output_type": "execute_result"
    }
   ],
   "source": []
  },
  {
   "cell_type": "code",
   "execution_count": 8,
   "id": "1fe3a91a",
   "metadata": {},
   "outputs": [
    {
     "name": "stdout",
     "output_type": "stream",
     "text": [
      "converted_date dtype: datetime64[ns]\n",
      "converted_time dtype: object\n",
      "<class 'datetime.time'>\n"
     ]
    }
   ],
   "source": []
  },
  {
   "cell_type": "code",
   "execution_count": 9,
   "id": "1f44f618",
   "metadata": {},
   "outputs": [
    {
     "data": {
      "text/html": [
       "<div>\n",
       "<style scoped>\n",
       "    .dataframe tbody tr th:only-of-type {\n",
       "        vertical-align: middle;\n",
       "    }\n",
       "\n",
       "    .dataframe tbody tr th {\n",
       "        vertical-align: top;\n",
       "    }\n",
       "\n",
       "    .dataframe thead th {\n",
       "        text-align: right;\n",
       "    }\n",
       "</style>\n",
       "<table border=\"1\" class=\"dataframe\">\n",
       "  <thead>\n",
       "    <tr style=\"text-align: right;\">\n",
       "      <th></th>\n",
       "      <th>datetime</th>\n",
       "      <th>time</th>\n",
       "      <th>converted_time</th>\n",
       "      <th>decimal_time</th>\n",
       "    </tr>\n",
       "  </thead>\n",
       "  <tbody>\n",
       "    <tr>\n",
       "      <th>0</th>\n",
       "      <td>2019-02-18 17:50:00</td>\n",
       "      <td>17:50</td>\n",
       "      <td>17:50:00</td>\n",
       "      <td>17.833333</td>\n",
       "    </tr>\n",
       "    <tr>\n",
       "      <th>1</th>\n",
       "      <td>2019-01-15 21:45:00</td>\n",
       "      <td>21:45</td>\n",
       "      <td>21:45:00</td>\n",
       "      <td>21.750000</td>\n",
       "    </tr>\n",
       "    <tr>\n",
       "      <th>2</th>\n",
       "      <td>2019-01-01 01:50:00</td>\n",
       "      <td>01:50</td>\n",
       "      <td>01:50:00</td>\n",
       "      <td>1.833333</td>\n",
       "    </tr>\n",
       "    <tr>\n",
       "      <th>3</th>\n",
       "      <td>2019-01-01 01:20:00</td>\n",
       "      <td>01:20</td>\n",
       "      <td>01:20:00</td>\n",
       "      <td>1.333333</td>\n",
       "    </tr>\n",
       "    <tr>\n",
       "      <th>4</th>\n",
       "      <td>2019-01-01 00:40:00</td>\n",
       "      <td>00:40</td>\n",
       "      <td>00:40:00</td>\n",
       "      <td>0.666667</td>\n",
       "    </tr>\n",
       "  </tbody>\n",
       "</table>\n",
       "</div>"
      ],
      "text/plain": [
       "             datetime   time converted_time  decimal_time\n",
       "0 2019-02-18 17:50:00  17:50       17:50:00     17.833333\n",
       "1 2019-01-15 21:45:00  21:45       21:45:00     21.750000\n",
       "2 2019-01-01 01:50:00  01:50       01:50:00      1.833333\n",
       "3 2019-01-01 01:20:00  01:20       01:20:00      1.333333\n",
       "4 2019-01-01 00:40:00  00:40       00:40:00      0.666667"
      ]
     },
     "execution_count": 9,
     "metadata": {},
     "output_type": "execute_result"
    }
   ],
   "source": []
  },
  {
   "cell_type": "code",
   "execution_count": 11,
   "id": "e252b688",
   "metadata": {},
   "outputs": [
    {
     "data": {
      "text/html": [
       "<div>\n",
       "<style scoped>\n",
       "    .dataframe tbody tr th:only-of-type {\n",
       "        vertical-align: middle;\n",
       "    }\n",
       "\n",
       "    .dataframe tbody tr th {\n",
       "        vertical-align: top;\n",
       "    }\n",
       "\n",
       "    .dataframe thead th {\n",
       "        text-align: right;\n",
       "    }\n",
       "</style>\n",
       "<table border=\"1\" class=\"dataframe\">\n",
       "  <thead>\n",
       "    <tr style=\"text-align: right;\">\n",
       "      <th></th>\n",
       "      <th>datetime</th>\n",
       "      <th>day_of_year</th>\n",
       "    </tr>\n",
       "  </thead>\n",
       "  <tbody>\n",
       "    <tr>\n",
       "      <th>0</th>\n",
       "      <td>2019-02-18 17:50:00</td>\n",
       "      <td>49.0</td>\n",
       "    </tr>\n",
       "    <tr>\n",
       "      <th>1</th>\n",
       "      <td>2019-01-15 21:45:00</td>\n",
       "      <td>15.0</td>\n",
       "    </tr>\n",
       "    <tr>\n",
       "      <th>2</th>\n",
       "      <td>2019-01-01 01:50:00</td>\n",
       "      <td>1.0</td>\n",
       "    </tr>\n",
       "    <tr>\n",
       "      <th>3</th>\n",
       "      <td>2019-01-01 01:20:00</td>\n",
       "      <td>1.0</td>\n",
       "    </tr>\n",
       "    <tr>\n",
       "      <th>4</th>\n",
       "      <td>2019-01-01 00:40:00</td>\n",
       "      <td>1.0</td>\n",
       "    </tr>\n",
       "    <tr>\n",
       "      <th>...</th>\n",
       "      <td>...</td>\n",
       "      <td>...</td>\n",
       "    </tr>\n",
       "    <tr>\n",
       "      <th>117531</th>\n",
       "      <td>2019-05-18 01:00:00</td>\n",
       "      <td>138.0</td>\n",
       "    </tr>\n",
       "    <tr>\n",
       "      <th>117532</th>\n",
       "      <td>2019-05-30 08:46:00</td>\n",
       "      <td>150.0</td>\n",
       "    </tr>\n",
       "    <tr>\n",
       "      <th>117533</th>\n",
       "      <td>2019-06-21 15:30:00</td>\n",
       "      <td>172.0</td>\n",
       "    </tr>\n",
       "    <tr>\n",
       "      <th>117534</th>\n",
       "      <td>2019-06-29 14:10:00</td>\n",
       "      <td>180.0</td>\n",
       "    </tr>\n",
       "    <tr>\n",
       "      <th>117535</th>\n",
       "      <td>2019-04-21 12:45:00</td>\n",
       "      <td>111.0</td>\n",
       "    </tr>\n",
       "  </tbody>\n",
       "</table>\n",
       "<p>117536 rows × 2 columns</p>\n",
       "</div>"
      ],
      "text/plain": [
       "                  datetime  day_of_year\n",
       "0      2019-02-18 17:50:00         49.0\n",
       "1      2019-01-15 21:45:00         15.0\n",
       "2      2019-01-01 01:50:00          1.0\n",
       "3      2019-01-01 01:20:00          1.0\n",
       "4      2019-01-01 00:40:00          1.0\n",
       "...                    ...          ...\n",
       "117531 2019-05-18 01:00:00        138.0\n",
       "117532 2019-05-30 08:46:00        150.0\n",
       "117533 2019-06-21 15:30:00        172.0\n",
       "117534 2019-06-29 14:10:00        180.0\n",
       "117535 2019-04-21 12:45:00        111.0\n",
       "\n",
       "[117536 rows x 2 columns]"
      ]
     },
     "execution_count": 11,
     "metadata": {},
     "output_type": "execute_result"
    }
   ],
   "source": []
  },
  {
   "cell_type": "code",
   "execution_count": 14,
   "id": "5be31514",
   "metadata": {},
   "outputs": [],
   "source": []
  },
  {
   "cell_type": "code",
   "execution_count": null,
   "id": "a9c4efe5",
   "metadata": {},
   "outputs": [],
   "source": []
  }
 ],
 "metadata": {
  "kernelspec": {
   "display_name": "Python 3 (ipykernel)",
   "language": "python",
   "name": "python3"
  },
  "language_info": {
   "codemirror_mode": {
    "name": "ipython",
    "version": 3
   },
   "file_extension": ".py",
   "mimetype": "text/x-python",
   "name": "python",
   "nbconvert_exporter": "python",
   "pygments_lexer": "ipython3",
   "version": "3.10.2"
  }
 },
 "nbformat": 4,
 "nbformat_minor": 5
}
